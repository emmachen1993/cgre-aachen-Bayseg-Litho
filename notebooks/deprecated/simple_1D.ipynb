{
 "cells": [
  {
   "cell_type": "markdown",
   "metadata": {},
   "source": [
    "# Simple 1-D example for HMRF-GMM\n"
   ]
  },
  {
   "cell_type": "code",
   "execution_count": 2,
   "metadata": {
    "collapsed": true
   },
   "outputs": [],
   "source": [
    "import numpy as np\n",
    "import matplotlib.pyplot as plt"
   ]
  },
  {
   "cell_type": "code",
   "execution_count": 3,
   "metadata": {
    "collapsed": true
   },
   "outputs": [],
   "source": [
    "%matplotlib inline"
   ]
  },
  {
   "cell_type": "markdown",
   "metadata": {},
   "source": [
    "## Set up synthetic model\n",
    "\n",
    "We start with a simple model with only two possible outcomes and two feautres:"
   ]
  },
  {
   "cell_type": "code",
   "execution_count": 4,
   "metadata": {
    "collapsed": true
   },
   "outputs": [],
   "source": [
    "import scipy.stats as stats"
   ]
  },
  {
   "cell_type": "code",
   "execution_count": 5,
   "metadata": {
    "collapsed": true
   },
   "outputs": [],
   "source": [
    "np.random.seed(12345)\n",
    "# define domain\n",
    "x_pos = np.arange(1000)\n",
    "latent_1D = np.zeros_like(x_pos)\n",
    "dist = stats.bernoulli(0.01)\n",
    "val = 0\n",
    "for i in range(len(x_pos)):\n",
    "    if dist.rvs():\n",
    "        val = 1 - val\n",
    "    latent_1D[i] = val\n",
    "        "
   ]
  },
  {
   "cell_type": "code",
   "execution_count": 6,
   "metadata": {},
   "outputs": [
    {
     "data": {
      "text/plain": [
       "[<matplotlib.lines.Line2D at 0x7fcf897e0a20>]"
      ]
     },
     "execution_count": 6,
     "metadata": {},
     "output_type": "execute_result"
    },
    {
     "data": {
      "image/png": "[encoded data removed]",
      "text/plain": [
       "<matplotlib.figure.Figure at 0x7fcfc04c2c88>"
      ]
     },
     "metadata": {},
     "output_type": "display_data"
    }
   ],
   "source": [
    "plt.plot(latent_1D)"
   ]
  },
  {
   "cell_type": "markdown",
   "metadata": {},
   "source": [
    "## Feature classes\n",
    "\n",
    "Now generate feature classes. Each class has one $\\mu$ value and one covariance matrix for each latent variable:\n",
    "\n"
   ]
  },
  {
   "cell_type": "code",
   "execution_count": 7,
   "metadata": {
    "collapsed": true
   },
   "outputs": [],
   "source": [
    "# define statistics of class 1:\n",
    "class ClassDensity(object):\n",
    "    \n",
    "    def __init__(self, mu, cov):\n",
    "        self.mu = mu\n",
    "        self.cov = cov\n",
    "        \n",
    "    def rvs(self):\n",
    "        \"\"\"Generate random values\"\"\"\n",
    "        \n",
    "        \n",
    "        \n",
    "        \n",
    "        "
   ]
  },
  {
   "cell_type": "markdown",
   "metadata": {},
   "source": [
    "Example from `toy_example.m`\n",
    "\n",
    "```\n",
    "mu=[6 9;4 12;9 14];\n",
    "SIGMA(2,2,3)=0;\n",
    "SIGMA(:,:,1)=3*[0.5625 0.225; 0.225 0.675];\n",
    "SIGMA(:,:,2)=3*[1.125 0.225; 0.225 0.675];\n",
    "SIGMA(:,:,3)=3*[0.5625 0.0225; 0.0225 0.675];\n",
    "\n",
    "```"
   ]
  },
  {
   "cell_type": "code",
   "execution_count": 8,
   "metadata": {
    "collapsed": true
   },
   "outputs": [],
   "source": [
    "c1 = ClassDensity(np.array([6,9]),\n",
    "                 np.array([[[0.5625, 0.225],[0.225, 0.675]],\n",
    "                          [[0.5625, 0.225],[0.225, 0.675]]]))\n",
    "\n",
    "c2 = ClassDensity(np.array([4,12]),\n",
    "                 np.array([[[1.125, 0.225],[0.225, 0.675]],\n",
    "                          [[1.125, 0.225],[0.225, 0.675]]]))"
   ]
  },
  {
   "cell_type": "code",
   "execution_count": 9,
   "metadata": {},
   "outputs": [
    {
     "data": {
      "text/plain": [
       "(array([[[ 0.5625,  0.225 ],\n",
       "         [ 0.225 ,  0.675 ]],\n",
       " \n",
       "        [[ 0.5625,  0.225 ],\n",
       "         [ 0.225 ,  0.675 ]]]), array([6, 9]))"
      ]
     },
     "execution_count": 9,
     "metadata": {},
     "output_type": "execute_result"
    }
   ],
   "source": [
    "c1.cov, c1.mu"
   ]
  },
  {
   "cell_type": "code",
   "execution_count": null,
   "metadata": {
    "collapsed": true
   },
   "outputs": [],
   "source": [
    "x1, y1 = np.mgrid[-1:1:.01, -1:1:.01]\n",
    "pos = np.empty(x1.shape + (2,))\n",
    "pos[:, :, 0] = x1; pos[:, :, 1] = y1\n",
    "rv = stats.multivariate_normal([0.5, -0.2], [[2.0, 0.3], [0.3, 0.5]])\n",
    "plt.contourf(x1, y1, rv.pdf(pos))\n"
   ]
  },
  {
   "cell_type": "code",
   "execution_count": 1,
   "metadata": {},
   "outputs": [
    {
     "ename": "NameError",
     "evalue": "name 'stats' is not defined",
     "output_type": "error",
     "traceback": [
      "\u001b[0;31m--------------------------------------------------------------------------\u001b[0m",
      "\u001b[0;31mNameError\u001b[0m                                Traceback (most recent call last)",
      "\u001b[0;32m<ipython-input-1-2458d8566729>\u001b[0m in \u001b[0;36m<module>\u001b[0;34m()\u001b[0m\n\u001b[0;32m----> 1\u001b[0;31m \u001b[0mc1\u001b[0m \u001b[0;34m=\u001b[0m \u001b[0mstats\u001b[0m\u001b[0;34m.\u001b[0m\u001b[0mmultivariate_normal\u001b[0m\u001b[0;34m(\u001b[0m\u001b[0;34m[\u001b[0m\u001b[0;36m6\u001b[0m\u001b[0;34m,\u001b[0m\u001b[0;36m9\u001b[0m\u001b[0;34m]\u001b[0m\u001b[0;34m,\u001b[0m \u001b[0;34m[\u001b[0m\u001b[0;34m[\u001b[0m\u001b[0;36m0.5625\u001b[0m\u001b[0;34m,\u001b[0m \u001b[0;36m0.225\u001b[0m\u001b[0;34m]\u001b[0m\u001b[0;34m,\u001b[0m\u001b[0;34m[\u001b[0m\u001b[0;36m0.225\u001b[0m\u001b[0;34m,\u001b[0m \u001b[0;36m0.675\u001b[0m\u001b[0;34m]\u001b[0m\u001b[0;34m]\u001b[0m\u001b[0;34m)\u001b[0m\u001b[0;34m\u001b[0m\u001b[0m\n\u001b[0m",
      "\u001b[0;31mNameError\u001b[0m: name 'stats' is not defined"
     ]
    }
   ],
   "source": [
    "c1 = stats.multivariate_normal([6,9], [[0.5625, 0.225],[0.225, 0.675]])"
   ]
  },
  {
   "cell_type": "code",
   "execution_count": 534,
   "metadata": {
    "collapsed": true
   },
   "outputs": [],
   "source": [
    "c2 = stats.multivariate_normal([4,12], [[1.125, 0.225],[0.225, 0.675]])\n",
    "# FW: try different means for a more difficult estimation:\n",
    "# c2 = stats.multivariate_normal([5,10], [[1.125, 0.225],[0.225, 0.675]])\n",
    "\n",
    "\n",
    "c3 = stats.multivariate_normal([9,14], [[0.5625, 0.0225],[0.0225, 0.675]])"
   ]
  },
  {
   "cell_type": "code",
   "execution_count": 535,
   "metadata": {},
   "outputs": [
    {
     "data": {
      "text/plain": [
       "<matplotlib.colorbar.Colorbar at 0x1253a9e10>"
      ]
     },
     "execution_count": 535,
     "metadata": {},
     "output_type": "execute_result"
    },
    {
     "data": {
      "image/png": "[encoded data removed]",
      "text/plain": [
       "<matplotlib.figure.Figure at 0x12450cdd8>"
      ]
     },
     "metadata": {},
     "output_type": "display_data"
    }
   ],
   "source": [
    "x1, y1 = np.mgrid[-0:10:.1, 6:18:.1]\n",
    "pos = np.empty(x1.shape + (2,))\n",
    "pos[:, :, 0] = x1; pos[:, :, 1] = y1\n",
    "plt.contourf(x1, y1, c1.pdf(pos) + c2.pdf(pos)) # + c3.pdf(pos))\n",
    "ax = plt.gca()\n",
    "ax.set_aspect(\"equal\")\n",
    "plt.colorbar()"
   ]
  },
  {
   "cell_type": "code",
   "execution_count": null,
   "metadata": {
    "collapsed": true
   },
   "outputs": [],
   "source": []
  },
  {
   "cell_type": "markdown",
   "metadata": {},
   "source": [
    "## Generate samples according to latent field"
   ]
  },
  {
   "cell_type": "code",
   "execution_count": 536,
   "metadata": {
    "collapsed": true
   },
   "outputs": [],
   "source": [
    "# for \n",
    "\n",
    "observed_field = np.empty((len(x_pos), 2))\n",
    "\n",
    "for i,l in enumerate(latent_1D):\n",
    "    # generate a 2-d random vector at each point\n",
    "    if l == 0:\n",
    "        observed_field[i,:] = c1.rvs()\n",
    "    elif l == 1:\n",
    "        observed_field[i,:] = c2.rvs()\n",
    "    \n",
    "    "
   ]
  },
  {
   "cell_type": "code",
   "execution_count": 537,
   "metadata": {},
   "outputs": [
    {
     "data": {
      "text/plain": [
       "[<matplotlib.lines.Line2D at 0x1255ad240>]"
      ]
     },
     "execution_count": 537,
     "metadata": {},
     "output_type": "execute_result"
    },
    {
     "data": {
      "image/png": "[encoded data removed]",
      "text/plain": [
       "<matplotlib.figure.Figure at 0x121da67b8>"
      ]
     },
     "metadata": {},
     "output_type": "display_data"
    }
   ],
   "source": [
    "fig, ax = plt.subplots(3,1)\n",
    "ax[0].plot(observed_field[:,0])\n",
    "ax[1].plot(observed_field[:,1])\n",
    "ax[2].plot(latent_1D)"
   ]
  },
  {
   "cell_type": "code",
   "execution_count": 538,
   "metadata": {},
   "outputs": [
    {
     "data": {
      "text/plain": [
       "<matplotlib.collections.PathCollection at 0x125776438>"
      ]
     },
     "execution_count": 538,
     "metadata": {},
     "output_type": "execute_result"
    },
    {
     "data": {
      "image/png": "[encoded data removed]",
      "text/plain": [
       "<matplotlib.figure.Figure at 0x124ef7240>"
      ]
     },
     "metadata": {},
     "output_type": "display_data"
    }
   ],
   "source": [
    "plt.contourf(x1, y1, c1.pdf(pos) + c2.pdf(pos)) # + c3.pdf(pos))\n",
    "ax = plt.gca()\n",
    "ax.set_aspect(\"equal\")\n",
    "plt.colorbar()\n",
    "plt.scatter(observed_field[:,0], observed_field[:,1], c='w', s=2)\n"
   ]
  },
  {
   "cell_type": "markdown",
   "metadata": {},
   "source": [
    "## Construct cell structure\n",
    "\n",
    "We now need to define the neighborhood system"
   ]
  },
  {
   "cell_type": "code",
   "execution_count": 539,
   "metadata": {
    "collapsed": true
   },
   "outputs": [],
   "source": [
    "class Element(object):\n",
    "    \n",
    "    def __init__(self, pos, center):\n",
    "        \"\"\"Define Element structure\"\"\"\n",
    "        self.pos = pos\n",
    "        self.center = center\n",
    "        # self.neighbors = neighbors\n",
    "        # self.color = color\n",
    "        # self.label = np.random.randint(1)\n",
    "        # self.energy = energy\n",
    "        # self.entropy = entropy\n",
    "        # self.prob = prob\n",
    "        self.neighbors = []\n",
    "        # self.beta # correlation strength\n",
    "        self.element_energy = 0. # to allow a more complex implemenation later - for now simply 0\n",
    "        \n",
    "    def __repr__(self):\n",
    "        \"\"\"Generate meaningful output of element\"\"\"\n",
    "        s = \"Element at pos %d \" % self.pos\n",
    "        if hasattr(self, \"values\"):\n",
    "            s += \"with values \"\n",
    "            for val in self.values:\n",
    "                s += \"%f, \" % val\n",
    "        if hasattr(self, \"label\"):\n",
    "            s += \"and current label %d\" % self.label\n",
    "        return s\n",
    "    \n",
    "        \n",
    "    def update_label(self, clf):\n",
    "        \"\"\"Update label according to classifyer object\"\"\"\n",
    "        self.label = clf.predict(np.array([[self.values[0]], [self.values[1]]]).T)\n",
    "        \n",
    "    def calculate_energy(self, beta, mu, beta):\n",
    "        \"\"\"Determine energy of element according to neighbouring structure\"\"\"\n",
    "        # MRF energy\n",
    "        MRF = 0.\n",
    "        for n in self.neigbors:\n",
    "            if n.label != self.label:\n",
    "                MRF += beta\n",
    "        \n",
    "        # likelihood energy\n",
    "        U_like = 0.5 * (self.values - mu[self.label,:])\n",
    "        \n",
    "        U = self.element_energy + MRF + U\n",
    "        \n",
    "        \n",
    "        \n",
    "    "
   ]
  },
  {
   "cell_type": "code",
   "execution_count": 540,
   "metadata": {
    "collapsed": true
   },
   "outputs": [],
   "source": [
    "import scipy.spatial.distance as d"
   ]
  },
  {
   "cell_type": "code",
   "execution_count": null,
   "metadata": {
    "collapsed": true
   },
   "outputs": [],
   "source": []
  },
  {
   "cell_type": "code",
   "execution_count": 541,
   "metadata": {
    "collapsed": true
   },
   "outputs": [],
   "source": [
    "# iterate through our grid/ domain and set up element structure\n",
    "all_elements = []\n",
    "\n",
    "for i,xx in enumerate(x_pos):\n",
    "    # create element\n",
    "    tmp_element = Element(i, xx)\n",
    "    all_elements.append(tmp_element)\n",
    "    \n",
    "# now: add neighbors\n",
    "for i,xx in enumerate(x_pos):\n",
    "    if i == 0:\n",
    "        all_elements[i].neighbors.append(all_elements[1])\n",
    "    elif i == len(x_pos)-1:\n",
    "        all_elements[i].neighbors.append(all_elements[-1])\n",
    "    else:\n",
    "        all_elements[i].neighbors.append(all_elements[i-1])\n",
    "        all_elements[i].neighbors.append(all_elements[i+1])\n",
    "        \n",
    "    # update number of degree\n",
    "    all_elements[i].degree = len(all_elements[i].neighbors)"
   ]
  },
  {
   "cell_type": "markdown",
   "metadata": {},
   "source": [
    "<div class=\"alert alert-warning\">*To Do Florian*: define general methods to find neighbors based on distances</div>"
   ]
  },
  {
   "cell_type": "markdown",
   "metadata": {},
   "source": [
    "## Determine element color\n",
    "\n",
    "Used for later parallelisation (here: simply changing)"
   ]
  },
  {
   "cell_type": "code",
   "execution_count": 542,
   "metadata": {
    "collapsed": true
   },
   "outputs": [],
   "source": [
    "for i,e in enumerate(all_elements):\n",
    "    if np.mod(i,2) == 0:\n",
    "        e.color = 0\n",
    "    else:\n",
    "        e.color = 1"
   ]
  },
  {
   "cell_type": "markdown",
   "metadata": {},
   "source": [
    "### Assign obervation value to elements\n",
    "\n",
    "Each element also contains the information about its observed value(s) - so, in our case the two features:"
   ]
  },
  {
   "cell_type": "code",
   "execution_count": 543,
   "metadata": {
    "collapsed": true
   },
   "outputs": [],
   "source": [
    "for i,e in enumerate(all_elements):\n",
    "    e.values = observed_field[i,:]"
   ]
  },
  {
   "cell_type": "code",
   "execution_count": 544,
   "metadata": {},
   "outputs": [
    {
     "data": {
      "text/plain": [
       "array([[  4.15395541,  10.91300968],\n",
       "       [  4.84807097,  11.88333671],\n",
       "       [  4.66559431,  11.49422447],\n",
       "       [  5.47484415,  11.51133829],\n",
       "       [  5.1163413 ,  12.15000214],\n",
       "       [  3.20260119,  11.71953963],\n",
       "       [  3.51084884,  11.39703381],\n",
       "       [  4.16726732,  12.40527494],\n",
       "       [  2.88025065,  11.74650886],\n",
       "       [  3.89011488,  12.012853  ]])"
      ]
     },
     "execution_count": 544,
     "metadata": {},
     "output_type": "execute_result"
    }
   ],
   "source": [
    "observed_field[60:70,:]"
   ]
  },
  {
   "cell_type": "code",
   "execution_count": 545,
   "metadata": {},
   "outputs": [
    {
     "data": {
      "text/plain": [
       "1000"
      ]
     },
     "execution_count": 545,
     "metadata": {},
     "output_type": "execute_result"
    }
   ],
   "source": [
    "len(all_elements)"
   ]
  },
  {
   "cell_type": "markdown",
   "metadata": {},
   "source": [
    "# First round: initialise with gmm\n",
    "\n",
    "Aim: find initial labels for all elements using gmm"
   ]
  },
  {
   "cell_type": "code",
   "execution_count": 546,
   "metadata": {},
   "outputs": [
    {
     "name": "stdout",
     "output_type": "stream",
     "text": [
      "Element at pos 999 with values 5.578461, 7.849046, \n"
     ]
    }
   ],
   "source": [
    "print(e)"
   ]
  },
  {
   "cell_type": "code",
   "execution_count": 547,
   "metadata": {
    "collapsed": true
   },
   "outputs": [],
   "source": [
    "# fit a Gaussian Mixture Model with two components\n",
    "from sklearn import mixture\n",
    "clf = mixture.GaussianMixture(n_components=2, covariance_type='full')"
   ]
  },
  {
   "cell_type": "code",
   "execution_count": 548,
   "metadata": {
    "collapsed": true
   },
   "outputs": [],
   "source": [
    "# additional step: scale data?\n",
    "# from sklearn import preprocessing\n",
    "# \n",
    "# scaler = preprocessing.StandardScaler().fit(data)\n",
    "# scaled_data = scaler.transform(data)"
   ]
  },
  {
   "cell_type": "code",
   "execution_count": 549,
   "metadata": {
    "collapsed": true
   },
   "outputs": [],
   "source": [
    "# here: simply assign data array\n",
    "scaled_data2 = observed_field"
   ]
  },
  {
   "cell_type": "code",
   "execution_count": 550,
   "metadata": {},
   "outputs": [
    {
     "data": {
      "text/plain": [
       "GaussianMixture(covariance_type='full', init_params='kmeans', max_iter=100,\n",
       "        means_init=None, n_components=2, n_init=1, precisions_init=None,\n",
       "        random_state=None, reg_covar=1e-06, tol=0.001, verbose=0,\n",
       "        verbose_interval=10, warm_start=False, weights_init=None)"
      ]
     },
     "execution_count": 550,
     "metadata": {},
     "output_type": "execute_result"
    }
   ],
   "source": [
    "clf.fit(scaled_data2)"
   ]
  },
  {
   "cell_type": "code",
   "execution_count": 551,
   "metadata": {},
   "outputs": [
    {
     "data": {
      "image/png": "[encoded data removed]",
      "text/plain": [
       "<matplotlib.figure.Figure at 0x1258c8128>"
      ]
     },
     "metadata": {},
     "output_type": "display_data"
    }
   ],
   "source": [
    "# display predicted scores by the model as a contour plot\n",
    "from matplotlib.colors import LogNorm\n",
    "plt.figure(figsize=(12,8))\n",
    "\n",
    "x = np.linspace(np.min(scaled_data2[:,0]), np.max(scaled_data2[:,0]))\n",
    "y = np.linspace(np.min(scaled_data2[:,1]), np.max(scaled_data2[:,1]))\n",
    "X, Y = np.meshgrid(x, y)\n",
    "XX = np.array([X.ravel(), Y.ravel()]).T\n",
    "Z = -clf.score_samples(XX)\n",
    "Z = Z.reshape(X.shape)\n",
    "\n",
    "# CS = plt.contour(X, Y, Z, norm=LogNorm(vmin=1.0, vmax=1000.0),\n",
    "#                   levels=np.logspace(0, 3, 20))\n",
    "CS = plt.contour(X,Y,Z,30)\n",
    "CB = plt.colorbar(CS, shrink=0.8, extend='both')\n",
    "plt.scatter(scaled_data2[:, 0], scaled_data2[:, 1], .8)\n",
    "# plot means\n",
    "for cx,cy in clf.means_:\n",
    "    plt.scatter(cx, cy, marker='o', s=200, c='w')\n",
    "    plt.scatter(cx, cy, marker='*', s=150, c='r')"
   ]
  },
  {
   "cell_type": "code",
   "execution_count": 552,
   "metadata": {},
   "outputs": [
    {
     "name": "stdout",
     "output_type": "stream",
     "text": [
      "[[  5.98067397   9.01298327]\n",
      " [  4.07865176  12.09400085]]\n",
      "[[[ 0.62805456  0.2166607 ]\n",
      "  [ 0.2166607   0.66879647]]\n",
      "\n",
      " [[ 1.08816905  0.19824496]\n",
      "  [ 0.19824496  0.60439024]]]\n"
     ]
    }
   ],
   "source": [
    "print(clf.means_)\n",
    "print(clf.covariances_)"
   ]
  },
  {
   "cell_type": "code",
   "execution_count": 553,
   "metadata": {},
   "outputs": [
    {
     "data": {
      "text/plain": [
       "(array([ 6.,  9.]), array([  4.,  12.]))"
      ]
     },
     "execution_count": 553,
     "metadata": {},
     "output_type": "execute_result"
    }
   ],
   "source": [
    "c1.mean, c2.mean"
   ]
  },
  {
   "cell_type": "code",
   "execution_count": 554,
   "metadata": {},
   "outputs": [
    {
     "data": {
      "text/plain": [
       "(array([[ 0.5625,  0.225 ],\n",
       "        [ 0.225 ,  0.675 ]]), array([[ 1.125,  0.225],\n",
       "        [ 0.225,  0.675]]))"
      ]
     },
     "execution_count": 554,
     "metadata": {},
     "output_type": "execute_result"
    }
   ],
   "source": [
    "c1.cov, c2.cov"
   ]
  },
  {
   "cell_type": "markdown",
   "metadata": {},
   "source": [
    "So, obviously, the fit is really good in this case - as the problem is easy to separate in feature space...\n",
    "\n",
    "### Assign labels to elements according gmm fit\n"
   ]
  },
  {
   "cell_type": "code",
   "execution_count": 555,
   "metadata": {
    "collapsed": true
   },
   "outputs": [],
   "source": [
    "for i,e in enumerate(all_elements):\n",
    "    e.update_label(clf)"
   ]
  },
  {
   "cell_type": "markdown",
   "metadata": {},
   "source": [
    "Create a plot of current classification and true labels:"
   ]
  },
  {
   "cell_type": "code",
   "execution_count": 556,
   "metadata": {
    "collapsed": true
   },
   "outputs": [],
   "source": [
    "latent_current = [e.label for e in all_elements]"
   ]
  },
  {
   "cell_type": "code",
   "execution_count": 557,
   "metadata": {},
   "outputs": [
    {
     "data": {
      "text/plain": [
       "[<matplotlib.lines.Line2D at 0x125bd35f8>]"
      ]
     },
     "execution_count": 557,
     "metadata": {},
     "output_type": "execute_result"
    },
    {
     "data": {
      "image/png": "[encoded data removed]",
      "text/plain": [
       "<matplotlib.figure.Figure at 0x125a26be0>"
      ]
     },
     "metadata": {},
     "output_type": "display_data"
    }
   ],
   "source": [
    "latent_current = [e.label for e in all_elements]\n",
    "fig, ax = plt.subplots(2,1, figsize=(12,8))\n",
    "ax[0].fill_between(x_pos, latent_1D)\n",
    "ax[1].plot(x_pos, np.array(latent_current))"
   ]
  },
  {
   "cell_type": "markdown",
   "metadata": {},
   "source": [
    "### Define initial mu, cov according to gmm fit\n",
    "\n",
    "## Global parameters\n",
    "\n",
    "- $\\boldsymbol{mu}$: vector of mean values for features for all clusters (n x p matrix: n: number of clusters, p: number of features)\n",
    "- $\\boldsymbol{\\Sigma}$: covariance matrix, (p x p x n)\n",
    "- $\\beta$: correlation strength (scalar)"
   ]
  },
  {
   "cell_type": "code",
   "execution_count": 568,
   "metadata": {
    "collapsed": true
   },
   "outputs": [],
   "source": [
    "mu_all = []\n",
    "cov_all = []\n",
    "beta_all = []\n",
    "# initialise values\n",
    "mu_init = clf.means_   # first axis: cluster label, second axis: feature\n",
    "cov_init = clf.covariances_ # first axis: cluster label, second and third axes: feature covariances"
   ]
  },
  {
   "cell_type": "code",
   "execution_count": 567,
   "metadata": {},
   "outputs": [
    {
     "data": {
      "text/plain": [
       "array([ 5.98067397,  9.01298327])"
      ]
     },
     "execution_count": 567,
     "metadata": {},
     "output_type": "execute_result"
    }
   ],
   "source": [
    "# as an example: these are the mean values for the first label (0):\n",
    "mu_init[0,:] "
   ]
  },
  {
   "cell_type": "code",
   "execution_count": 576,
   "metadata": {},
   "outputs": [
    {
     "name": "stdout",
     "output_type": "stream",
     "text": [
      "[[ 0.62805456  0.2166607 ]\n",
      " [ 0.2166607   0.66879647]]\n",
      "[[ 1.08816905  0.19824496]\n",
      " [ 0.19824496  0.60439024]]\n"
     ]
    }
   ],
   "source": [
    "# these are the cov matrix values for the first label (0):\n",
    "print(cov_init[0,:,:])\n",
    "# and here for label (1)\n",
    "print(cov_init[1,:,:])"
   ]
  },
  {
   "cell_type": "markdown",
   "metadata": {},
   "source": [
    "Compare to defined covariances:\n",
    "\n",
    "```\n",
    "SIGMA(:,:,1)=3*[0.5625 0.225; 0.225 0.675];\n",
    "SIGMA(:,:,2)=3*[1.125 0.225; 0.225 0.675];\n",
    "```"
   ]
  },
  {
   "cell_type": "markdown",
   "metadata": {},
   "source": [
    "## Update energy\n",
    "\n",
    "The element energy consists of three parts:\n",
    "\n",
    "1. element self-energy (here set to 0, just included for later extension)\n",
    "2. MRF-energy\n",
    "3. Likelihood energy"
   ]
  },
  {
   "cell_type": "code",
   "execution_count": 598,
   "metadata": {
    "collapsed": true
   },
   "outputs": [],
   "source": [
    "# as an example: use element 1:\n",
    "e1 = all_elements[30]\n",
    "# and set mu and cov and beta to initial values first:\n",
    "mu = mu_init\n",
    "cov = cov_init\n",
    "beta = 0.5"
   ]
  },
  {
   "cell_type": "code",
   "execution_count": 599,
   "metadata": {},
   "outputs": [
    {
     "data": {
      "text/plain": [
       "(Element at pos 30 with values 3.977756, 11.285501, and current label 1,\n",
       " array([1]),\n",
       " [Element at pos 29 with values 4.740367, 13.482293, and current label 1,\n",
       "  Element at pos 31 with values 4.742161, 11.796273, and current label 1])"
      ]
     },
     "execution_count": 599,
     "metadata": {},
     "output_type": "execute_result"
    }
   ],
   "source": [
    "e1, e1.label, e1.neighbors"
   ]
  },
  {
   "cell_type": "code",
   "execution_count": 600,
   "metadata": {},
   "outputs": [
    {
     "data": {
      "text/plain": [
       "Element at pos 30 with values 3.977756, 11.285501, and current label 1"
      ]
     },
     "execution_count": 600,
     "metadata": {},
     "output_type": "execute_result"
    }
   ],
   "source": [
    "e1"
   ]
  },
  {
   "cell_type": "markdown",
   "metadata": {},
   "source": [
    "As a first step: calculate MRF energy.\n",
    "\n",
    "<div class=\"alert alert-warning\">**Note**: this step should be vectorised later for higher efficiency!</div>"
   ]
  },
  {
   "cell_type": "code",
   "execution_count": 616,
   "metadata": {
    "collapsed": true
   },
   "outputs": [],
   "source": [
    "\n",
    "# calculate MRF energy:\n",
    "U_MRF = 0.\n",
    "for n in e1.neighbors:\n",
    "    if n.label != e1.label:\n",
    "        U_MRF += beta\n"
   ]
  },
  {
   "cell_type": "markdown",
   "metadata": {},
   "source": [
    "Define likelihood energy:\n",
    "\n",
    "(see eq. (29) in paper):"
   ]
  },
  {
   "cell_type": "code",
   "execution_count": 617,
   "metadata": {},
   "outputs": [
    {
     "data": {
      "text/plain": [
       "array([[[ 1.79254514, -0.58070595],\n",
       "        [-0.58070595,  1.68334645]],\n",
       "\n",
       "       [[ 0.97738041, -0.32058881],\n",
       "        [-0.32058881,  1.7597159 ]]])"
      ]
     },
     "execution_count": 617,
     "metadata": {},
     "output_type": "execute_result"
    }
   ],
   "source": [
    "# to calculate precision matrix:\n",
    "np.linalg.inv(cov)"
   ]
  },
  {
   "cell_type": "code",
   "execution_count": 625,
   "metadata": {},
   "outputs": [
    {
     "name": "stdout",
     "output_type": "stream",
     "text": [
      "[ 0.31363308]\n"
     ]
    }
   ],
   "source": [
    "U_like = (0.5 * np.dot(np.dot((e1.values - mu[e1.label,:]),np.linalg.inv(cov[e1.label,:,:])),\n",
    "             (e1.values - mu[e1.label,:]).transpose()) + \\\n",
    "        0.5 * np.log(np.linalg.det(cov[e1.label,:,:]))).flatten()\n",
    "print(U_like)"
   ]
  },
  {
   "cell_type": "code",
   "execution_count": null,
   "metadata": {
    "collapsed": true
   },
   "outputs": [],
   "source": [
    "# for all labels:\n",
    "U_like_all = np.empty(2)\n",
    "for l in [0,1]: # go over all labels:   \n",
    "    U_like_all[l] = (0.5 * np.dot(np.dot((e1.values - mu[l,:]),np.linalg.inv(cov[l,:,:])),\n",
    "             (e1.values - mu[l,:]).transpose()) + \\\n",
    "            0.5 * np.log(np.linalg.det(cov[l,:,:]))).flatten()"
   ]
  },
  {
   "cell_type": "code",
   "execution_count": 627,
   "metadata": {},
   "outputs": [
    {
     "data": {
      "text/plain": [
       "array([ 10.09246902,   0.31363308])"
      ]
     },
     "execution_count": 627,
     "metadata": {},
     "output_type": "execute_result"
    }
   ],
   "source": [
    "U_like_all"
   ]
  },
  {
   "cell_type": "markdown",
   "metadata": {},
   "source": [
    "Self energy: set to 0"
   ]
  },
  {
   "cell_type": "code",
   "execution_count": 632,
   "metadata": {
    "collapsed": true
   },
   "outputs": [],
   "source": [
    "U_self = 0"
   ]
  },
  {
   "cell_type": "markdown",
   "metadata": {},
   "source": [
    "Calculate combined energy:"
   ]
  },
  {
   "cell_type": "code",
   "execution_count": 633,
   "metadata": {
    "collapsed": true
   },
   "outputs": [],
   "source": [
    "U = U_MRF + U_like_all + U_self"
   ]
  },
  {
   "cell_type": "markdown",
   "metadata": {},
   "source": [
    "Caculate probability of each label:"
   ]
  },
  {
   "cell_type": "code",
   "execution_count": 635,
   "metadata": {
    "collapsed": true
   },
   "outputs": [],
   "source": [
    "T = 1. # for simulated annealing"
   ]
  },
  {
   "cell_type": "code",
   "execution_count": 636,
   "metadata": {
    "collapsed": true
   },
   "outputs": [],
   "source": [
    "p_labels = np.exp(-U/T) / np.sum(np.exp(-U/T))"
   ]
  },
  {
   "cell_type": "code",
   "execution_count": 641,
   "metadata": {},
   "outputs": [
    {
     "data": {
      "text/plain": [
       "array([  5.66344800e-05,   9.99943366e-01])"
      ]
     },
     "execution_count": 641,
     "metadata": {},
     "output_type": "execute_result"
    }
   ],
   "source": [
    "p_labels"
   ]
  },
  {
   "cell_type": "code",
   "execution_count": 638,
   "metadata": {},
   "outputs": [
    {
     "data": {
      "text/plain": [
       "Element at pos 30 with values 3.977756, 11.285501, and current label 1"
      ]
     },
     "execution_count": 638,
     "metadata": {},
     "output_type": "execute_result"
    }
   ],
   "source": [
    "e1"
   ]
  },
  {
   "cell_type": "markdown",
   "metadata": {},
   "source": [
    "## Draw sample to update label:\n"
   ]
  },
  {
   "cell_type": "code",
   "execution_count": 650,
   "metadata": {
    "collapsed": true
   },
   "outputs": [],
   "source": [
    "label_updated = np.random.choice([0,1], p=p_labels)"
   ]
  },
  {
   "cell_type": "markdown",
   "metadata": {},
   "source": [
    "### Assign label back to element"
   ]
  },
  {
   "cell_type": "code",
   "execution_count": 651,
   "metadata": {
    "collapsed": true
   },
   "outputs": [],
   "source": [
    "e1.label = label_updated"
   ]
  },
  {
   "cell_type": "markdown",
   "metadata": {},
   "source": [
    "<div class='alert alert-warning'>Next steps: iterate over all elements</div>"
   ]
  },
  {
   "cell_type": "markdown",
   "metadata": {},
   "source": [
    "## Update all labels\n",
    "\n",
    "Note: this is a Gibbs-sampling step: we _directly_ update all the labels given their calculated energy!\n",
    "\n",
    "Repeat steps from above now for all elements:\n"
   ]
  },
  {
   "cell_type": "code",
   "execution_count": 880,
   "metadata": {
    "collapsed": true
   },
   "outputs": [],
   "source": [
    "import copy"
   ]
  },
  {
   "cell_type": "code",
   "execution_count": 887,
   "metadata": {
    "collapsed": true
   },
   "outputs": [],
   "source": [
    "def gibbs_sampling(all_elements, mu, cov, beta):\n",
    "\n",
    "    all_elements_new = [copy.copy(e) for e in all_elements]\n",
    "\n",
    "    for e in all_elements_new:  \n",
    "\n",
    "        # calculate MRF energy:\n",
    "        U_MRF = 0.\n",
    "        for n in e.neighbors:\n",
    "            if n.label != e.label:\n",
    "                U_MRF += beta\n",
    "\n",
    "        # calculate likelihood energy:\n",
    "        # for all labels:\n",
    "        U_like_all = np.empty(2)\n",
    "        for l in [0,1]: # go over all labels:   \n",
    "            U_like_all[l] = (0.5 * np.dot(np.dot((e.values - mu[l,:]),np.linalg.inv(cov[l,:,:])),\n",
    "                     (e.values - mu[l,:]).transpose()) + \\\n",
    "                    0.5 * np.log(np.linalg.det(cov[l,:,:]))).flatten()\n",
    "\n",
    "        # calculate self energy (0 for now)\n",
    "        U_self = 0.\n",
    "\n",
    "        # add energies:\n",
    "        U = U_MRF + U_like_all + U_self\n",
    "\n",
    "        # calculate probabilities:\n",
    "        T = 1 # only for simulated annealing\n",
    "        p_labels = np.exp(-U/T) / np.sum(np.exp(-U/T))\n",
    "\n",
    "        # update label\n",
    "        label_updated = np.random.choice([0,1], p=p_labels)\n",
    "        e.label = label_updated\n",
    "\n",
    "    return all_elements_new"
   ]
  },
  {
   "cell_type": "code",
   "execution_count": 901,
   "metadata": {
    "collapsed": true
   },
   "outputs": [],
   "source": [
    "# apply Gibbs sampling\n",
    "all_elements_new = gibbs_sampling(all_elements, mu_prev, cov_prev, beta)"
   ]
  },
  {
   "cell_type": "code",
   "execution_count": 902,
   "metadata": {},
   "outputs": [
    {
     "data": {
      "text/plain": [
       "[<matplotlib.lines.Line2D at 0x1276c7908>]"
      ]
     },
     "execution_count": 902,
     "metadata": {},
     "output_type": "execute_result"
    },
    {
     "data": {
      "image/png": "[encoded data removed]",
      "text/plain": [
       "<matplotlib.figure.Figure at 0x1271e64a8>"
      ]
     },
     "metadata": {},
     "output_type": "display_data"
    }
   ],
   "source": [
    "latent_current = [e.label for e in all_elements_new]\n",
    "fig, ax = plt.subplots(2,1, figsize=(12,8))\n",
    "ax[0].fill_between(x_pos, latent_1D)\n",
    "ax[1].plot(x_pos, np.array(latent_current))"
   ]
  },
  {
   "cell_type": "markdown",
   "metadata": {},
   "source": [
    "# Update distribution parameters\n",
    "\n",
    "For now: keep $\\beta$ constant (later: has to be sampled, as well!)\n",
    "\n",
    "Step 1: define proposal function"
   ]
  },
  {
   "cell_type": "code",
   "execution_count": 654,
   "metadata": {
    "collapsed": true
   },
   "outputs": [],
   "source": [
    "sigma_prop = 0.01"
   ]
  },
  {
   "cell_type": "code",
   "execution_count": 675,
   "metadata": {
    "collapsed": true
   },
   "outputs": [],
   "source": [
    "# initialise the proposed value for mu with previous value (or simply 0?)\n",
    "mu_prev = mu_init\n",
    "cov_prev = cov_init\n",
    "\n",
    "\n",
    "\n",
    "mu_proposed = 0 # mu_all[i-1]"
   ]
  },
  {
   "cell_type": "code",
   "execution_count": 656,
   "metadata": {
    "collapsed": true
   },
   "outputs": [],
   "source": [
    "# define a sigma jump array:"
   ]
  },
  {
   "cell_type": "code",
   "execution_count": 658,
   "metadata": {
    "collapsed": true
   },
   "outputs": [],
   "source": [
    "p = 2 # number of features\n",
    "\n",
    "sigma_jump = np.zeros((1,p,2))"
   ]
  },
  {
   "cell_type": "code",
   "execution_count": 662,
   "metadata": {
    "collapsed": true
   },
   "outputs": [],
   "source": [
    "sigma_jump[:,:,0] = 0.0005 * np.ones((1,p))\n",
    "sigma_jump[:,:,1] = 0.00005 * np.ones((1,p))"
   ]
  },
  {
   "cell_type": "markdown",
   "metadata": {},
   "source": [
    "Generate random number array using a multivariate normal sampling:"
   ]
  },
  {
   "cell_type": "markdown",
   "metadata": {},
   "source": [
    "Set step length for mu and covariance matrices:"
   ]
  },
  {
   "cell_type": "code",
   "execution_count": 669,
   "metadata": {
    "collapsed": true
   },
   "outputs": [],
   "source": [
    "# step length for mu and cov\n",
    "mu_step = 0.0005\n",
    "cov_step = 0.00005"
   ]
  },
  {
   "cell_type": "code",
   "execution_count": 670,
   "metadata": {
    "collapsed": true
   },
   "outputs": [],
   "source": [
    "rv = stats.multivariate_normal(mean=np.zeros(p), cov=np.diag([mu_step, mu_step]))"
   ]
  },
  {
   "cell_type": "code",
   "execution_count": 671,
   "metadata": {
    "collapsed": true
   },
   "outputs": [],
   "source": [
    "jump_mu = rv.rvs()"
   ]
  },
  {
   "cell_type": "code",
   "execution_count": 672,
   "metadata": {
    "collapsed": true
   },
   "outputs": [],
   "source": [
    "rv_cov = stats.multivariate_normal(mean=np.zeros(p), cov=np.diag([cov_step, cov_step]))"
   ]
  },
  {
   "cell_type": "code",
   "execution_count": 715,
   "metadata": {},
   "outputs": [
    {
     "data": {
      "text/plain": [
       "array([ 0.00767972,  0.00718503])"
      ]
     },
     "execution_count": 715,
     "metadata": {},
     "output_type": "execute_result"
    }
   ],
   "source": [
    "jump_cov = rv_cov.rvs()\n",
    "jump_cov"
   ]
  },
  {
   "cell_type": "code",
   "execution_count": 674,
   "metadata": {
    "collapsed": true
   },
   "outputs": [],
   "source": [
    "# apply jumps:"
   ]
  },
  {
   "cell_type": "code",
   "execution_count": 863,
   "metadata": {
    "collapsed": true
   },
   "outputs": [],
   "source": [
    "mu_proposed = mu_prev + jump_mu"
   ]
  },
  {
   "cell_type": "markdown",
   "metadata": {},
   "source": [
    "Combine in one function:\n"
   ]
  },
  {
   "cell_type": "code",
   "execution_count": 923,
   "metadata": {
    "collapsed": true
   },
   "outputs": [],
   "source": [
    "rv_jump_mu = stats.multivariate_normal(mean=np.zeros(p), cov=np.diag([mu_step, mu_step]))\n",
    "\n",
    "def propose_mu(mu, rv_jump_mu):\n",
    "    \"\"\"Propose new covariance function based on prev. cov and RV for cov. jump\n",
    "    \n",
    "    cov : prev. mu matrix\n",
    "    rv_jump_mu : stats.multivariate_normal object for mu. matrix jump\n",
    "    \n",
    "    \"\"\"\n",
    "    jump_mu = rv_jump_mu.rvs()\n",
    "    mu_proposed = mu_prev + jump_mu\n",
    "    return mu_proposed"
   ]
  },
  {
   "cell_type": "code",
   "execution_count": 924,
   "metadata": {},
   "outputs": [
    {
     "data": {
      "text/plain": [
       "array([[  5.98168907,   9.04088215],\n",
       "       [  4.07966687,  12.12189972]])"
      ]
     },
     "execution_count": 924,
     "metadata": {},
     "output_type": "execute_result"
    }
   ],
   "source": [
    "mu_proposed = propose_mu(mu_prev, rv_jump_mu)\n",
    "mu_proposed"
   ]
  },
  {
   "cell_type": "markdown",
   "metadata": {},
   "source": [
    "Updating the covariance matrix is a lot more complex. Following steps:\n",
    "\n",
    "1. caculate eigenvalues of (prev) covariance matrix\n",
    "2. apply cov-jump to diagonal vector\n",
    "3. apply rotation, adjust eigenvetor\n",
    "\n"
   ]
  },
  {
   "cell_type": "code",
   "execution_count": 716,
   "metadata": {},
   "outputs": [
    {
     "data": {
      "text/plain": [
       "array([ 0.43080926,  0.86604177])"
      ]
     },
     "execution_count": 716,
     "metadata": {},
     "output_type": "execute_result"
    }
   ],
   "source": [
    "# step 1:\n",
    "[eigenvals, eigenvec] = np.linalg.eig(cov_prev[0,:,:]) # note: start with cov. matrix for label (0)\n",
    "eigenvals"
   ]
  },
  {
   "cell_type": "code",
   "execution_count": 719,
   "metadata": {},
   "outputs": [
    {
     "data": {
      "text/plain": [
       "array([[ 0.43413049,  0.        ],\n",
       "       [ 0.        ,  0.87228672]])"
      ]
     },
     "execution_count": 719,
     "metadata": {},
     "output_type": "execute_result"
    }
   ],
   "source": [
    "D_star = np.diag(np.exp(np.log(eigenvals) + jump_cov))\n",
    "D_star"
   ]
  },
  {
   "cell_type": "markdown",
   "metadata": {},
   "source": [
    "Set up \"V-star\"\n",
    "\n",
    "This requires a rotation function:\n",
    "\n",
    "<div class='alert alert-warning'>**Note**: this is only for the 2-D case! Rotation needs to be adjusted later for m-dimensional case (m features)!</div>"
   ]
  },
  {
   "cell_type": "code",
   "execution_count": 720,
   "metadata": {
    "collapsed": true
   },
   "outputs": [],
   "source": [
    "# define the jump for the rotation\n",
    "theta = np.random.normal(0,0.005)\n",
    "c, s = np.cos(theta), np.sin(theta)\n",
    "R = np.matrix([[c, -s], [s, c]])"
   ]
  },
  {
   "cell_type": "code",
   "execution_count": 721,
   "metadata": {},
   "outputs": [
    {
     "data": {
      "text/plain": [
       "matrix([[ 0.99997036,  0.00769966],\n",
       "        [-0.00769966,  0.99997036]])"
      ]
     },
     "execution_count": 721,
     "metadata": {},
     "output_type": "execute_result"
    }
   ],
   "source": [
    "R"
   ]
  },
  {
   "cell_type": "code",
   "execution_count": 722,
   "metadata": {
    "collapsed": true
   },
   "outputs": [],
   "source": [
    "V_star = eigenvec @ R # np.dot(eigenvec, R)"
   ]
  },
  {
   "cell_type": "code",
   "execution_count": 723,
   "metadata": {},
   "outputs": [
    {
     "data": {
      "text/plain": [
       "matrix([[-0.73425716, -0.67887143],\n",
       "        [ 0.67887143, -0.73425716]])"
      ]
     },
     "execution_count": 723,
     "metadata": {},
     "output_type": "execute_result"
    }
   ],
   "source": [
    "V_star"
   ]
  },
  {
   "cell_type": "markdown",
   "metadata": {},
   "source": [
    "Calculate candidate for this covariance matrix:"
   ]
  },
  {
   "cell_type": "code",
   "execution_count": 724,
   "metadata": {
    "collapsed": true
   },
   "outputs": [],
   "source": [
    "cov_cand_label_0 = V_star @ D_star @ V_star.transpose()"
   ]
  },
  {
   "cell_type": "code",
   "execution_count": 725,
   "metadata": {},
   "outputs": [
    {
     "data": {
      "text/plain": [
       "matrix([[ 0.63606198,  0.21840608],\n",
       "        [ 0.21840608,  0.67035522]])"
      ]
     },
     "execution_count": 725,
     "metadata": {},
     "output_type": "execute_result"
    }
   ],
   "source": [
    "cov_cand_label_0"
   ]
  },
  {
   "cell_type": "markdown",
   "metadata": {},
   "source": [
    "### Combine generation of covariance candidate:"
   ]
  },
  {
   "cell_type": "code",
   "execution_count": 921,
   "metadata": {
    "collapsed": true
   },
   "outputs": [],
   "source": [
    "rv_jump_cov = stats.multivariate_normal(mean=np.zeros(p), cov=np.diag([cov_step, cov_step]))\n",
    "\n",
    "def propose_cov(cov, rv_jump_cov):\n",
    "    \"\"\"Propose new covariance function based on prev. cov and RV for cov. jump\n",
    "    \n",
    "    cov : prev. covariance matrix\n",
    "    rv_jump_cov : stats.multivariate_normal object for cov. matrix jump\n",
    "    \n",
    "    \"\"\"\n",
    "    jump_cov = rv_jump_cov.rvs()\n",
    "    cov_proposed = np.empty_like(cov_prev)\n",
    "    for l in [0,1]:\n",
    "        [eigenvals, eigenvec] = np.linalg.eig(cov_prev[l,:,:])\n",
    "        D_star = np.diag(np.exp(np.log(eigenvals) + jump_cov))\n",
    "        # rotation\n",
    "        # define the jump for the rotation\n",
    "        theta = np.random.normal(0,0.005)\n",
    "        c, s = np.cos(theta), np.sin(theta)\n",
    "        R = np.matrix([[c, -s], [s, c]])\n",
    "        V_star = eigenvec @ R\n",
    "        cov_proposed[l,:] = V_star @ D_star @ V_star.transpose()\n",
    "    \n",
    "    return cov_proposed"
   ]
  },
  {
   "cell_type": "markdown",
   "metadata": {},
   "source": [
    "Compare to original covariance matrix"
   ]
  },
  {
   "cell_type": "code",
   "execution_count": 922,
   "metadata": {},
   "outputs": [
    {
     "data": {
      "text/plain": [
       "array([[[ 0.62783488,  0.21350614],\n",
       "        [ 0.21350614,  0.6627679 ]],\n",
       "\n",
       "       [[ 1.08652615,  0.20197311],\n",
       "        [ 0.20197311,  0.60274959]]])"
      ]
     },
     "execution_count": 922,
     "metadata": {},
     "output_type": "execute_result"
    }
   ],
   "source": [
    "cov_proposed = propose_cov(cov_prev, rv_jump_cov)\n",
    "cov_proposed"
   ]
  },
  {
   "cell_type": "code",
   "execution_count": 919,
   "metadata": {},
   "outputs": [
    {
     "data": {
      "text/plain": [
       "array([[[-0.00344505,  0.00037738],\n",
       "        [ 0.00037738, -0.00651201]],\n",
       "\n",
       "       [[-0.01137462, -0.0052432 ],\n",
       "        [-0.0052432 , -0.00557964]]])"
      ]
     },
     "execution_count": 919,
     "metadata": {},
     "output_type": "execute_result"
    }
   ],
   "source": [
    "cov_proposed - cov_prev"
   ]
  },
  {
   "cell_type": "markdown",
   "metadata": {},
   "source": [
    "## Calculate mixture weight for each element\n",
    "\n",
    "_Note_: this is now updating the MRF energy based on the new, proposed labels"
   ]
  },
  {
   "cell_type": "code",
   "execution_count": 728,
   "metadata": {
    "collapsed": true
   },
   "outputs": [],
   "source": [
    "# calculate MRF energy:\n",
    "U_MRF = 0.\n",
    "for n in e1.neighbors:\n",
    "    if n.label != e1.label:\n",
    "        U_MRF += beta"
   ]
  },
  {
   "cell_type": "code",
   "execution_count": 729,
   "metadata": {},
   "outputs": [
    {
     "data": {
      "text/plain": [
       "0.0"
      ]
     },
     "execution_count": 729,
     "metadata": {},
     "output_type": "execute_result"
    }
   ],
   "source": [
    "U_MRF"
   ]
  },
  {
   "cell_type": "markdown",
   "metadata": {},
   "source": [
    "Note: repeat for all elements!"
   ]
  },
  {
   "cell_type": "markdown",
   "metadata": {},
   "source": [
    "## Acceptance or rejection for proposed mu and sigmas:"
   ]
  },
  {
   "cell_type": "markdown",
   "metadata": {},
   "source": [
    "calculate likelihood of entire field\n",
    "\n",
    "pseudo-likelihood:\n",
    "\n",
    "standard MCMC: compare likleihood of proposed step to likelihood of previous step\n",
    "\n",
    "mu_prev, cov_prev\n",
    "\n",
    "<div class='alert alert-warning'>**Important point**: we need to define prior probabilties for our $\\mu$ and $\\sigma$s. Note: for now, we include here very non-informative priors - however, in reality, these can be narrower (or more specific), for example when some specific information about the feature exists.</div>\n"
   ]
  },
  {
   "cell_type": "markdown",
   "metadata": {},
   "source": [
    "Assumption here: \n",
    "\n",
    "- the prior for the mean is a multivariate gaussian with a mean corresponding ot the GMM output and a very large covariance:\n",
    "\n",
    "\n",
    "Define hypterparameters:"
   ]
  },
  {
   "cell_type": "code",
   "execution_count": 936,
   "metadata": {
    "collapsed": true
   },
   "outputs": [],
   "source": [
    "rv_mu_0 = stats.multivariate_normal(mu_init[0,:], [[100, 0.],[0., 100]])\n",
    "rv_mu_1 = stats.multivariate_normal(mu_init[1,:], [[100, 0.],[0., 100]])"
   ]
  },
  {
   "cell_type": "markdown",
   "metadata": {},
   "source": [
    "**To Do:** implement log normal multivariate distribution directly!"
   ]
  },
  {
   "cell_type": "code",
   "execution_count": 937,
   "metadata": {},
   "outputs": [
    {
     "name": "stdout",
     "output_type": "stream",
     "text": [
      "-6.4430472524 -6.4430472524\n"
     ]
    }
   ],
   "source": [
    "logprob_mean_label_1 = np.log(mean_prior_label_1.pdf(mu_prev[0,:]))\n",
    "logprob_mean_label_2 = np.log(mean_prior_label_2.pdf(mu_prev[1,:]))\n",
    "print(logprob_mean_label_1, logprob_mean_label_2)"
   ]
  },
  {
   "cell_type": "code",
   "execution_count": 938,
   "metadata": {
    "collapsed": true
   },
   "outputs": [],
   "source": [
    "# in one function:\n",
    "\n",
    "def logprob_mu(mu, rv_mu):\n",
    "    \"\"\"Log prob for mu for one cluster\"\"\"\n",
    "    return np.log(rv_mu.pdf(mu))\n",
    "    \n"
   ]
  },
  {
   "cell_type": "code",
   "execution_count": 939,
   "metadata": {},
   "outputs": [
    {
     "data": {
      "text/plain": [
       "-6.4430472523974371"
      ]
     },
     "execution_count": 939,
     "metadata": {},
     "output_type": "execute_result"
    }
   ],
   "source": [
    "logprob_mu(mu_prev[0,:], rv_mu_0)"
   ]
  },
  {
   "cell_type": "markdown",
   "metadata": {},
   "source": [
    "**Next difficult step**: define prior for covariance matrices:\n",
    "\n"
   ]
  },
  {
   "cell_type": "code",
   "execution_count": 805,
   "metadata": {
    "collapsed": true
   },
   "outputs": [],
   "source": [
    "def logprob_cov(cov_matrix, d, b, kesi, nu):\n",
    "    \"\"\"Caculate log probability of covariance matrix\n",
    "    \n",
    "    d: number of features\n",
    "    parameter for kesi stuff (see Alvarez, 2014):\n",
    "    b, kesi: shape and skew parameters (papers to be digged out by Jack)\n",
    "    nu: another funky parameter from Alvarez, 2014\n",
    "    \"\"\"\n",
    "    # calculate lambda\n",
    "    lam = np.sqrt(np.diag(cov_matrix))\n",
    "    # calculate R\n",
    "    R = np.diag(1./lam) @ cov_matrix @ np.diag(1./lam)\n",
    "    logP_R = -0.5 * (nu + d + 1) * np.log(np.linalg.det(R)) - nu / 2. * np.sum(np.log(np.diag(np.linalg.inv(R))))\n",
    "\n",
    "    logP_lam = 0.\n",
    "    for i in range(len(lam)):\n",
    "        logP_lam += np.log(stats.norm.pdf(lam[i], b[i], kesi[i]))\n",
    "        \n",
    "    return logP_R + logP_lam\n",
    "    \n",
    "    # logP_lam = np.sum(np.log())\n"
   ]
  },
  {
   "cell_type": "markdown",
   "metadata": {},
   "source": [
    "**NOTE**: the calculation of $b$ below is only for one class! **To do**: implement for both!\n"
   ]
  },
  {
   "cell_type": "code",
   "execution_count": 806,
   "metadata": {
    "collapsed": true
   },
   "outputs": [],
   "source": [
    "# parameters\n",
    "d = 2 # number of features\n",
    "b = np.log(np.sqrt(np.diag(cov_init[0,:])))\n",
    "kesi = 100 * np.ones(d)\n",
    "nu = d+1\n",
    "\n",
    "logPrior = logprob_cov(cov_prev[0,:], d, b, kesi, nu)"
   ]
  },
  {
   "cell_type": "markdown",
   "metadata": {},
   "source": [
    "## Now calculate likelihood\n",
    "\n",
    "Calculate probability _only_ for MRF energy:"
   ]
  },
  {
   "cell_type": "code",
   "execution_count": 869,
   "metadata": {
    "collapsed": true
   },
   "outputs": [],
   "source": [
    "U_MRF_all = np.empty((2,1000))\n",
    "\n",
    "for i,l in enumerate([0,1]):\n",
    "    for j,e1 in enumerate(all_elements):\n",
    "        # calculate MRF energy:\n",
    "        U_MRF = 0.\n",
    "        for n in e1.neighbors:\n",
    "            if n.label != l:\n",
    "                U_MRF += beta\n",
    "        U_MRF_all[i,j] = U_MRF\n",
    "\n",
    "    \n",
    "#U_MRF_all = np.array(U_MRF_all)"
   ]
  },
  {
   "cell_type": "code",
   "execution_count": 870,
   "metadata": {},
   "outputs": [
    {
     "data": {
      "text/plain": [
       "array([ 1.,  0.])"
      ]
     },
     "execution_count": 870,
     "metadata": {},
     "output_type": "execute_result"
    }
   ],
   "source": [
    "U_MRF_all[:,100]"
   ]
  },
  {
   "cell_type": "code",
   "execution_count": 871,
   "metadata": {},
   "outputs": [
    {
     "data": {
      "text/plain": [
       "(Element at pos 99 with values 3.553682, 11.668090, and current label 1,\n",
       " Element at pos 100 with values 1.818005, 11.146708, and current label 1,\n",
       " Element at pos 101 with values 3.276088, 11.197761, and current label 1)"
      ]
     },
     "execution_count": 871,
     "metadata": {},
     "output_type": "execute_result"
    }
   ],
   "source": [
    "all_elements[99], all_elements[100], all_elements[101]"
   ]
  },
  {
   "cell_type": "code",
   "execution_count": 872,
   "metadata": {
    "collapsed": true
   },
   "outputs": [],
   "source": [
    "# local mixture coefficient\n",
    "alpha = np.exp(- U_MRF_all / T) / np.sum(np.exp(- U_MRF_all / T), axis=0)"
   ]
  },
  {
   "cell_type": "code",
   "execution_count": 928,
   "metadata": {
    "collapsed": true
   },
   "outputs": [],
   "source": [
    "def local_mixture_coeff(all_elements, beta):\n",
    "    \"\"\"Calculate mixture coefficient matrix\n",
    "    \n",
    "    returns alpha(label, element_id)\n",
    "    \"\"\"\n",
    "    \n",
    "    U_MRF_all = np.empty((2,len(all_elements)))\n",
    "\n",
    "    for i,l in enumerate([0,1]):\n",
    "        for j,e1 in enumerate(all_elements):\n",
    "            # calculate MRF energy:\n",
    "            U_MRF = 0.\n",
    "            for n in e1.neighbors:\n",
    "                if n.label != l:\n",
    "                    U_MRF += beta\n",
    "            U_MRF_all[i,j] = U_MRF\n",
    "            \n",
    "    # local mixture coefficient\n",
    "    alpha = np.exp(- U_MRF_all / T) / np.sum(np.exp(- U_MRF_all / T), axis=0)\n",
    "\n",
    "    return alpha"
   ]
  },
  {
   "cell_type": "code",
   "execution_count": 931,
   "metadata": {},
   "outputs": [
    {
     "data": {
      "text/plain": [
       "array([ 0.73105858,  0.26894142])"
      ]
     },
     "execution_count": 931,
     "metadata": {},
     "output_type": "execute_result"
    }
   ],
   "source": [
    "alpha = local_mixture_coeff(all_elements, beta)\n",
    "alpha[:,20]"
   ]
  },
  {
   "cell_type": "code",
   "execution_count": 874,
   "metadata": {
    "collapsed": true
   },
   "outputs": [],
   "source": [
    "def log_mixture_density(all_elements, mu, cov, alpha):\n",
    "    \"\"\"Calculate (log) mixture density for given mean and covariance matrices\n",
    "    \n",
    "    mu : mean matrix for all classes and features\n",
    "    cov : dito\n",
    "    \"\"\"\n",
    "    lmd = 0.\n",
    "    for j,e in enumerate(all_elements):\n",
    "        for l in [0,1]:\n",
    "            lmd += alpha[l,j] * stats.multivariate_normal(mean=mu[l,:], cov=cov[l,:]).pdf(e.values)\n",
    "    \n",
    "    return lmd\n",
    "\n",
    "\n",
    "            \n",
    "        \n",
    "    "
   ]
  },
  {
   "cell_type": "code",
   "execution_count": 875,
   "metadata": {},
   "outputs": [
    {
     "data": {
      "text/plain": [
       "84.665366322811479"
      ]
     },
     "execution_count": 875,
     "metadata": {},
     "output_type": "execute_result"
    }
   ],
   "source": [
    "log_mixture_density(all_elements, mu_prev, cov_prev, alpha)"
   ]
  },
  {
   "cell_type": "code",
   "execution_count": 876,
   "metadata": {},
   "outputs": [
    {
     "data": {
      "text/plain": [
       "84.320987379957955"
      ]
     },
     "execution_count": 876,
     "metadata": {},
     "output_type": "execute_result"
    }
   ],
   "source": [
    "log_mixture_density(all_elements, mu_proposed, cov_proposed, alpha)"
   ]
  },
  {
   "cell_type": "markdown",
   "metadata": {},
   "source": [
    "## Now: complete procedure!\n"
   ]
  },
  {
   "cell_type": "code",
   "execution_count": 941,
   "metadata": {
    "collapsed": true
   },
   "outputs": [],
   "source": [
    "# STEP -1: define parameters\n",
    "# step length for mu and cov\n",
    "mu_step = 0.0005\n",
    "cov_step = 0.00005\n",
    "# define random variables for jumps\n",
    "rv_jump_mu = stats.multivariate_normal(mean=np.zeros(p), cov=np.diag([mu_step, mu_step]))\n",
    "rv_jump_cov = stats.multivariate_normal(mean=np.zeros(p), cov=np.diag([cov_step, cov_step]))\n",
    "\n",
    "\n",
    "\n",
    "# number of MCMC samples/ chain lenght\n",
    "n_samples = 100\n",
    "\n",
    "\n",
    "# STEP 0: Initialisation using GMM\n",
    "\n",
    "# fit GMM to data (only feature space)\n",
    "clf = mixture.GaussianMixture(n_components=2, covariance_type='full')\n",
    "clf.fit(observed_field)\n",
    "# assign labels according to GMM\n",
    "for i,e in enumerate(all_elements):\n",
    "    e.update_label(clf)\n",
    "\n",
    "    \n",
    "# hyperparameters for funky kesi stuff:\n",
    "d = 2 # number of features\n",
    "b = np.log(np.sqrt(np.diag(cov_init[0,:])))\n",
    "kesi = 100 * np.ones(d)\n",
    "nu = d+1\n",
    "\n",
    "# hyperparameters of prior distribution of mu\n",
    "# separately for each cluster:\n",
    "mu_cluster_0 = clf.means_[0] # use output of GMM\n",
    "mu_cluster_1 = clf.means_[1]\n",
    "mu_std_cluster_0 = [[100, 0.],[0., 100]] # define very wide std.\n",
    "mu_std_cluster_1 = [[100, 0.],[0., 100]] # define very wide std.\n",
    "\n",
    "# random variables for proposed new mu in feature space\n",
    "rv_mu_0 = stats.multivariate_normal(mu_cluster_0, mu_std_cluster_0)\n",
    "rv_mu_1 = stats.multivariate_normal(mu_cluster_1, mu_std_cluster_1)\n",
    "# combine in one list\n",
    "rvs_mu = [rv_mu_0, rv_mu_1]\n",
    "    \n",
    "# define output variables\n",
    "mu_all = []\n",
    "cov_all = []\n",
    "# beta_all = []\n",
    "labels_all = []\n",
    "\n",
    "# initialise values with GMM fits\n",
    "mu = clf.means_   # first axis: cluster label, second axis: feature\n",
    "cov = clf.covariances_ # first axis: cluster label, second and third axes: feature covariances\n",
    "   \n",
    "mu_all.append(mu)\n",
    "cov_all.append(cov)\n",
    "labels_all.append([e.label[0] for e in all_elements])"
   ]
  },
  {
   "cell_type": "code",
   "execution_count": 953,
   "metadata": {
    "collapsed": true
   },
   "outputs": [],
   "source": [
    "for i in range(n_samples):\n",
    "    \n",
    "    \n",
    "    # ************************************************\n",
    "    # STEP 1: GIBBS SAMPLING (i.e.: update labels)\n",
    "    # ************************************************\n",
    "    all_elements = gibbs_sampling(all_elements, mu, cov, beta)\n",
    "    \n",
    "    # ************************************************\n",
    "    # STEP 2: HMRF\n",
    "    # ************************************************\n",
    "    cov_proposed = propose_cov(cov, rv_jump_cov)\n",
    "    mu_proposed = propose_mu(mu, rv_jump_mu)\n",
    "    # calculate likelihood\n",
    "    \n",
    "    # update alpha\n",
    "    alpha = local_mixture_coeff(all_elements, beta)\n",
    "    \n",
    "    # accept/ reject for each cluster separately!\n",
    "    \n",
    "    for l in [0,1]:\n",
    "        # update mixture density - note: in a sense, this is another level of Gibbs sampling!\n",
    "        lmd_prev = log_mixture_density(all_elements, mu, cov, alpha)\n",
    "        lmd_proposed = log_mixture_density(all_elements, mu_proposed, cov_proposed, alpha)\n",
    "\n",
    "        # calculate prior density for mean and cov matrices\n",
    "        lp_cov_prev = logprob_cov(cov[l,:], d, b, kesi, nu)\n",
    "        lp_cov_proposed = logprob_cov(cov_proposed[l,:], d, b, kesi, nu)\n",
    "\n",
    "        lp_mu_prev = logprob_mu(mu[l,:], rvs_mu[l])\n",
    "        lp_mu_proposed = logprob_mu(mu_proposed[l,:], rvs_mu[l])\n",
    "\n",
    "        # combine likeihoold and priors:\n",
    "        log_target_prev = lmd_prev + lp_cov_prev + lp_mu_prev\n",
    "        log_target_proposed = lmd_proposed + lp_cov_proposed + lp_mu_proposed\n",
    "        \n",
    "        # determine acceptance ratio:\n",
    "        acc_ratio = log_target_proposed / log_target_prev\n",
    "        \n",
    "        if (acc_ratio > 1) or (np.random.uniform() < acc_ratio): # accept directly\n",
    "            mu[l,:] = mu_proposed[l,:]\n",
    "            cov[l,:] = cov_proposed[l,:]\n",
    "\n",
    "            \n",
    "    \n",
    "    # ************************************************\n",
    "    # Store newly generated field (or keep previous ones)\n",
    "    # ************************************************\n",
    "    mu_all.append(mu)\n",
    "    cov_all.append(cov)\n",
    "    labels_all.append([e.label for e in all_elements])\n",
    "   "
   ]
  },
  {
   "cell_type": "code",
   "execution_count": 958,
   "metadata": {
    "collapsed": true
   },
   "outputs": [],
   "source": [
    "la = np.array(labels_all)"
   ]
  },
  {
   "cell_type": "code",
   "execution_count": 960,
   "metadata": {},
   "outputs": [
    {
     "data": {
      "text/plain": [
       "<matplotlib.image.AxesImage at 0x12416f278>"
      ]
     },
     "execution_count": 960,
     "metadata": {},
     "output_type": "execute_result"
    },
    {
     "data": {
      "image/png": "[encoded data removed]",
      "text/plain": [
       "<matplotlib.figure.Figure at 0x11f7dde80>"
      ]
     },
     "metadata": {},
     "output_type": "display_data"
    }
   ],
   "source": [
    "plt.figure(figsize = (12,4))\n",
    "plt.imshow(la)"
   ]
  },
  {
   "cell_type": "code",
   "execution_count": null,
   "metadata": {
    "collapsed": true
   },
   "outputs": [],
   "source": []
  }
 ],
 "metadata": {
  "kernelspec": {
   "display_name": "Python 3",
   "language": "python",
   "name": "python3"
  },
  "language_info": {
   "codemirror_mode": {
    "name": "ipython",
    "version": 3
   },
   "file_extension": ".py",
   "mimetype": "text/x-python",
   "name": "python",
   "nbconvert_exporter": "python",
   "pygments_lexer": "ipython3",
   "version": "3.6.3"
  },
  "toc": {
   "colors": {
    "hover_highlight": "#DAA520",
    "navigate_num": "#000000",
    "navigate_text": "#333333",
    "running_highlight": "#FF0000",
    "selected_highlight": "#FFD700",
    "sidebar_border": "#EEEEEE",
    "wrapper_background": "#FFFFFF"
   },
   "moveMenuLeft": true,
   "nav_menu": {
    "height": "405px",
    "width": "252px"
   },
   "navigate_menu": true,
   "number_sections": true,
   "sideBar": true,
   "threshold": 4,
   "toc_cell": false,
   "toc_section_display": "block",
   "toc_window_display": false,
   "widenNotebook": false
  }
 },
 "nbformat": 4,
 "nbformat_minor": 2
}
