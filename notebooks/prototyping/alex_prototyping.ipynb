{
 "cells": [
  {
   "cell_type": "code",
   "execution_count": 2,
   "metadata": {},
   "outputs": [],
   "source": [
    "import numpy as np\n",
    "import pandas as pd\n",
    "import importlib\n",
    "import matplotlib.pyplot as plt\n",
    "%matplotlib inline\n",
    "import scipy.stats\n",
    "\n",
    "import sys\n",
    "sys.path.append(\"../../\")\n",
    "import bayseg"
   ]
  },
  {
   "cell_type": "markdown",
   "metadata": {},
   "source": [
    "# 1-D Example Data"
   ]
  },
  {
   "cell_type": "markdown",
   "metadata": {},
   "source": [
    "## Create Model"
   ]
  },
  {
   "cell_type": "code",
   "execution_count": 3,
   "metadata": {},
   "outputs": [
    {
     "data": {
      "image/png": "[encoded data removed]",
      "text/plain": [
       "<matplotlib.figure.Figure at 0x1ff6e6d7240>"
      ]
     },
     "metadata": {},
     "output_type": "display_data"
    }
   ],
   "source": [
    "# create vectors\n",
    "phys_space = np.array([np.arange(500)]).T\n",
    "feat_space = np.random.randn(500,3)\n",
    "\n",
    "# np.random.seed(12345)\n",
    "\n",
    "# define domain\n",
    "latent_1D = np.zeros_like(phys_space[:,0])\n",
    "dist = scipy.stats.bernoulli(0.01)\n",
    "dist2 = scipy.stats.bernoulli(0.45)\n",
    "\n",
    "# create latent field\n",
    "\n",
    "# val = 0\n",
    "# for i in range(len(phys_space[:,0])):\n",
    "#     if dist.rvs():\n",
    "#         if  dist2.rvs():\n",
    "#             val = 2 - val\n",
    "#         else:\n",
    "#             val = 1 - val\n",
    "#     latent_1D[i] = val\n",
    "\n",
    "latent_1D = np.ones(25)*2\n",
    "latent_1D = np.append(latent_1D, np.ones(75)*0)\n",
    "latent_1D = np.append(latent_1D, np.ones(100)*1)\n",
    "latent_1D = np.append(latent_1D, np.ones(50)*2)\n",
    "latent_1D = np.append(latent_1D, np.ones(25)*1)\n",
    "latent_1D = np.append(latent_1D, np.ones(25)*2)\n",
    "latent_1D = np.append(latent_1D, np.ones(100)*0)\n",
    "latent_1D = np.append(latent_1D, np.ones(100)*2)\n",
    "\n",
    "plt.plot(latent_1D);"
   ]
  },
  {
   "cell_type": "code",
   "execution_count": 41,
   "metadata": {},
   "outputs": [
    {
     "name": "stdout",
     "output_type": "stream",
     "text": [
      "[[0 1 2]\n",
      " [0 1 2]\n",
      " [0 1 2]]\n"
     ]
    }
   ],
   "source": [
    "n_labels = 3\n",
    "l = np.array([np.arange(n_labels),np.arange(n_labels),np.arange(n_labels)])\n",
    "print(l)"
   ]
  },
  {
   "cell_type": "code",
   "execution_count": 63,
   "metadata": {
    "collapsed": true
   },
   "outputs": [],
   "source": [
    "prob = np.array([[0.2,0.4,0.4],[0.2,0.4,0.4],[0.2,0.4,0.4]])"
   ]
  },
  {
   "cell_type": "code",
   "execution_count": 66,
   "metadata": {},
   "outputs": [
    {
     "data": {
      "text/plain": [
       "array([ 0.2,  0.4,  0.4])"
      ]
     },
     "execution_count": 66,
     "metadata": {},
     "output_type": "execute_result"
    }
   ],
   "source": [
    "prob[0,:]"
   ]
  },
  {
   "cell_type": "code",
   "execution_count": 79,
   "metadata": {},
   "outputs": [
    {
     "data": {
      "text/plain": [
       "array([0, 1, 2])"
      ]
     },
     "execution_count": 79,
     "metadata": {},
     "output_type": "execute_result"
    }
   ],
   "source": [
    "j"
   ]
  },
  {
   "cell_type": "code",
   "execution_count": 78,
   "metadata": {
    "collapsed": true
   },
   "outputs": [],
   "source": [
    "j = np.arange(3)"
   ]
  },
  {
   "cell_type": "code",
   "execution_count": 80,
   "metadata": {},
   "outputs": [
    {
     "data": {
      "text/plain": [
       "array([[ 0.2,  0.4,  0.4],\n",
       "       [ 0.2,  0.4,  0.4],\n",
       "       [ 0.2,  0.4,  0.4]])"
      ]
     },
     "execution_count": 80,
     "metadata": {},
     "output_type": "execute_result"
    }
   ],
   "source": [
    "prob[j,:]"
   ]
  },
  {
   "cell_type": "code",
   "execution_count": 83,
   "metadata": {},
   "outputs": [
    {
     "data": {
      "text/plain": [
       "array([2, 0, 2, 1, 1, 0, 1, 0, 1, 2, 1, 1, 2, 1, 2, 2, 1, 1, 2, 0, 1, 2, 0,\n",
       "       1, 0, 1, 1, 1, 1, 1, 0, 1, 0, 0, 1, 2, 2, 0, 0, 2, 0, 2, 2, 1, 1, 2,\n",
       "       0, 2, 0, 1, 2, 0, 2, 0, 2, 2, 0, 1, 0, 2, 0, 0, 0, 2, 2, 1, 1, 2, 2,\n",
       "       1, 0, 2, 2, 2, 1, 1, 2, 1, 2, 0, 2, 2, 1, 2, 2, 1, 2, 1, 1, 2, 1, 2,\n",
       "       0, 2, 0, 2, 1, 0, 2, 1, 2, 0, 0, 2, 1, 2, 1, 1, 0, 1, 1, 2, 2, 0, 0,\n",
       "       2, 0, 1, 0, 1, 0, 2, 0, 2, 1, 1, 1, 0, 1, 1, 1, 1, 2, 2, 0, 0, 0, 1,\n",
       "       1, 1, 2, 1, 1, 1, 2, 2, 2, 2, 0, 0, 2, 2, 1, 2, 0, 2, 2, 2, 1, 1, 2,\n",
       "       2, 2, 1, 0, 2, 1, 0, 2, 2, 1, 1, 1, 0, 1, 1, 1, 1, 0, 1, 1, 1, 2, 2,\n",
       "       2, 1, 2, 0, 1, 2, 2, 2, 2, 2, 1, 1, 1, 1, 1, 2, 2, 1, 2, 1, 2, 0, 2,\n",
       "       0, 1, 1, 2, 1, 0, 1, 2, 1, 2, 1, 2, 1, 2, 2, 0, 1, 1, 2, 1, 2, 2, 0,\n",
       "       1, 0, 0, 1, 1, 1, 1, 0, 0, 2, 1, 2, 2, 1, 2, 0, 2, 1, 2, 0, 1, 0, 1,\n",
       "       1, 1, 2, 0, 0, 2, 2, 1, 0, 2, 2, 2, 0, 1, 2, 2, 2, 2, 2, 2, 0, 2, 2,\n",
       "       0, 0, 0, 1, 1, 1, 2, 1, 1, 1, 1, 0, 0, 1, 0, 0, 0, 2, 1, 0, 1, 1, 1,\n",
       "       2, 2, 2, 2, 0, 2, 0, 0, 1, 2, 1, 2, 1, 1, 1, 2, 1, 1, 2, 1, 0, 0, 1,\n",
       "       2, 1, 0, 0, 0, 1, 2, 0, 1, 0, 1, 0, 2, 1, 1, 1, 2, 1, 2, 1, 0, 0, 0,\n",
       "       2, 2, 1, 1, 0, 2, 2, 1, 1, 0, 1, 2, 1, 1, 0, 2, 1, 1, 0, 2, 1, 2, 1,\n",
       "       2, 2, 2, 0, 0, 0, 0, 0, 0, 1, 1, 1, 2, 1, 2, 2, 1, 0, 2, 2, 2, 1, 2,\n",
       "       1, 2, 2, 0, 2, 2, 2, 0, 1, 1, 2, 1, 2, 2, 0, 2, 1, 2, 1, 1, 2, 0, 2,\n",
       "       0, 2, 0, 2, 2, 2, 2, 1, 2, 1, 1, 2, 2, 2, 2, 2, 0, 1, 2, 2, 2, 2, 2,\n",
       "       1, 2, 1, 1, 1, 2, 2, 2, 2, 1, 1, 1, 1, 2, 0, 2, 2, 2, 1, 0, 1, 2, 1,\n",
       "       1, 2, 2, 2, 0, 0, 2, 2, 1, 1, 1, 0, 1, 1, 0, 1, 2, 0, 0, 1, 2, 0, 0,\n",
       "       1, 0, 1, 0, 1, 1, 1, 1, 1, 1, 2, 1, 2, 1, 2, 1, 1], dtype=int64)"
      ]
     },
     "execution_count": 83,
     "metadata": {},
     "output_type": "execute_result"
    }
   ],
   "source": [
    "np.random.choice(3, p=prob[0, :], size=(500))"
   ]
  },
  {
   "cell_type": "code",
   "execution_count": 51,
   "metadata": {
    "collapsed": true
   },
   "outputs": [],
   "source": [
    "np.random.randint?"
   ]
  },
  {
   "cell_type": "code",
   "execution_count": null,
   "metadata": {
    "collapsed": true
   },
   "outputs": [],
   "source": []
  },
  {
   "cell_type": "code",
   "execution_count": null,
   "metadata": {
    "collapsed": true
   },
   "outputs": [],
   "source": []
  },
  {
   "cell_type": "code",
   "execution_count": null,
   "metadata": {
    "collapsed": true
   },
   "outputs": [],
   "source": []
  },
  {
   "cell_type": "code",
   "execution_count": 4,
   "metadata": {},
   "outputs": [
    {
     "data": {
      "text/plain": [
       "[<matplotlib.lines.Line2D at 0x1ff757a0be0>]"
      ]
     },
     "execution_count": 4,
     "metadata": {},
     "output_type": "execute_result"
    },
    {
     "data": {
      "image/png": "[encoded data removed]",
      "text/plain": [
       "<matplotlib.figure.Figure at 0x1ff752cf7b8>"
      ]
     },
     "metadata": {},
     "output_type": "display_data"
    }
   ],
   "source": [
    "i = 4\n",
    "c1 = scipy.stats.multivariate_normal([7,9,10,2.7], np.eye(i)*0.35)\n",
    "c2 = scipy.stats.multivariate_normal([8,8,9.5,2], np.eye(i)*0.55)\n",
    "c3 = scipy.stats.multivariate_normal([10,9.5,9,1.5], np.eye(i)*0.25)\n",
    "#c4 = scipy.stats.multivariate_normal([8,10,9,4], np.eye(i)*0.25)\n",
    "\n",
    "obs = np.empty((len(phys_space[:,0]), 4))\n",
    "\n",
    "for i,l in enumerate(latent_1D):\n",
    "    # generate a 2-d random vector at each point\n",
    "    if l == 0:\n",
    "        obs[i,:] = c1.rvs()\n",
    "    elif l == 1:\n",
    "        obs[i,:] = c2.rvs()\n",
    "    elif l == 2:\n",
    "        obs[i,:] = c3.rvs()\n",
    "        \n",
    "fig, ax = plt.subplots(5,1)\n",
    "ax[0].plot(obs[:,0])\n",
    "ax[1].plot(obs[:,1])\n",
    "ax[2].plot(obs[:,2])\n",
    "ax[3].plot(obs[:,3])\n",
    "ax[4].plot(latent_1D)"
   ]
  },
  {
   "cell_type": "raw",
   "metadata": {},
   "source": [
    "import seaborn as sns\n",
    "df = pd.DataFrame(obs)\n",
    "\n",
    "g = sns.PairGrid(df, diag_sharey=False)\n",
    "g.map_lower(sns.kdeplot)\n",
    "g.map_upper(plt.scatter)\n",
    "g.map_diag(sns.kdeplot, lw=3)\n",
    "\n",
    "plt.tight_layout()\n",
    "#plt.savefig(\"features.png\")"
   ]
  },
  {
   "cell_type": "markdown",
   "metadata": {},
   "source": [
    "# Model"
   ]
  },
  {
   "cell_type": "code",
   "execution_count": 4,
   "metadata": {},
   "outputs": [
    {
     "data": {
      "image/png": "[encoded data removed]",
      "text/plain": [
       "<matplotlib.figure.Figure at 0x260d4a234e0>"
      ]
     },
     "metadata": {},
     "output_type": "display_data"
    },
    {
     "name": "stdout",
     "output_type": "stream",
     "text": [
      "global minimum:  2\n"
     ]
    }
   ],
   "source": [
    "bayseg.bic(obs, 10)"
   ]
  },
  {
   "cell_type": "code",
   "execution_count": 308,
   "metadata": {},
   "outputs": [
    {
     "data": {
      "text/plain": [
       "array([[  9.99425162,   9.72973734,   9.48918237,   2.64480256],\n",
       "       [  9.24233438,   9.45195977,   8.00986004,   0.64355599],\n",
       "       [ 10.50531959,   8.87106529,   8.33848631,   0.75819713],\n",
       "       ..., \n",
       "       [  9.47316797,   9.89748173,   8.74269926,   1.45913267],\n",
       "       [  9.95510219,   9.2869184 ,   8.17254   ,   0.8138839 ],\n",
       "       [  9.61974152,  10.06093961,   8.06196488,   1.91678166]])"
      ]
     },
     "execution_count": 308,
     "metadata": {},
     "output_type": "execute_result"
    }
   ],
   "source": [
    "obs"
   ]
  },
  {
   "cell_type": "code",
   "execution_count": 6,
   "metadata": {
    "scrolled": false
   },
   "outputs": [],
   "source": [
    "ex1 = bayseg.BaySeg(obs, 4, beta_init=10)"
   ]
  },
  {
   "cell_type": "code",
   "execution_count": 14,
   "metadata": {},
   "outputs": [
    {
     "data": {
      "text/plain": [
       "0"
      ]
     },
     "execution_count": 14,
     "metadata": {},
     "output_type": "execute_result"
    }
   ],
   "source": [
    "np.count_nonzero(ex1.colors != np.array([np.arange(0, 500, step=2), np.arange(1, 500, step=2)]).T)"
   ]
  },
  {
   "cell_type": "code",
   "execution_count": 11,
   "metadata": {},
   "outputs": [
    {
     "data": {
      "text/plain": [
       "array([[  0,   1],\n",
       "       [  2,   3],\n",
       "       [  4,   5],\n",
       "       [  6,   7],\n",
       "       [  8,   9],\n",
       "       [ 10,  11],\n",
       "       [ 12,  13],\n",
       "       [ 14,  15],\n",
       "       [ 16,  17],\n",
       "       [ 18,  19],\n",
       "       [ 20,  21],\n",
       "       [ 22,  23],\n",
       "       [ 24,  25],\n",
       "       [ 26,  27],\n",
       "       [ 28,  29],\n",
       "       [ 30,  31],\n",
       "       [ 32,  33],\n",
       "       [ 34,  35],\n",
       "       [ 36,  37],\n",
       "       [ 38,  39],\n",
       "       [ 40,  41],\n",
       "       [ 42,  43],\n",
       "       [ 44,  45],\n",
       "       [ 46,  47],\n",
       "       [ 48,  49],\n",
       "       [ 50,  51],\n",
       "       [ 52,  53],\n",
       "       [ 54,  55],\n",
       "       [ 56,  57],\n",
       "       [ 58,  59],\n",
       "       [ 60,  61],\n",
       "       [ 62,  63],\n",
       "       [ 64,  65],\n",
       "       [ 66,  67],\n",
       "       [ 68,  69],\n",
       "       [ 70,  71],\n",
       "       [ 72,  73],\n",
       "       [ 74,  75],\n",
       "       [ 76,  77],\n",
       "       [ 78,  79],\n",
       "       [ 80,  81],\n",
       "       [ 82,  83],\n",
       "       [ 84,  85],\n",
       "       [ 86,  87],\n",
       "       [ 88,  89],\n",
       "       [ 90,  91],\n",
       "       [ 92,  93],\n",
       "       [ 94,  95],\n",
       "       [ 96,  97],\n",
       "       [ 98,  99],\n",
       "       [100, 101],\n",
       "       [102, 103],\n",
       "       [104, 105],\n",
       "       [106, 107],\n",
       "       [108, 109],\n",
       "       [110, 111],\n",
       "       [112, 113],\n",
       "       [114, 115],\n",
       "       [116, 117],\n",
       "       [118, 119],\n",
       "       [120, 121],\n",
       "       [122, 123],\n",
       "       [124, 125],\n",
       "       [126, 127],\n",
       "       [128, 129],\n",
       "       [130, 131],\n",
       "       [132, 133],\n",
       "       [134, 135],\n",
       "       [136, 137],\n",
       "       [138, 139],\n",
       "       [140, 141],\n",
       "       [142, 143],\n",
       "       [144, 145],\n",
       "       [146, 147],\n",
       "       [148, 149],\n",
       "       [150, 151],\n",
       "       [152, 153],\n",
       "       [154, 155],\n",
       "       [156, 157],\n",
       "       [158, 159],\n",
       "       [160, 161],\n",
       "       [162, 163],\n",
       "       [164, 165],\n",
       "       [166, 167],\n",
       "       [168, 169],\n",
       "       [170, 171],\n",
       "       [172, 173],\n",
       "       [174, 175],\n",
       "       [176, 177],\n",
       "       [178, 179],\n",
       "       [180, 181],\n",
       "       [182, 183],\n",
       "       [184, 185],\n",
       "       [186, 187],\n",
       "       [188, 189],\n",
       "       [190, 191],\n",
       "       [192, 193],\n",
       "       [194, 195],\n",
       "       [196, 197],\n",
       "       [198, 199],\n",
       "       [200, 201],\n",
       "       [202, 203],\n",
       "       [204, 205],\n",
       "       [206, 207],\n",
       "       [208, 209],\n",
       "       [210, 211],\n",
       "       [212, 213],\n",
       "       [214, 215],\n",
       "       [216, 217],\n",
       "       [218, 219],\n",
       "       [220, 221],\n",
       "       [222, 223],\n",
       "       [224, 225],\n",
       "       [226, 227],\n",
       "       [228, 229],\n",
       "       [230, 231],\n",
       "       [232, 233],\n",
       "       [234, 235],\n",
       "       [236, 237],\n",
       "       [238, 239],\n",
       "       [240, 241],\n",
       "       [242, 243],\n",
       "       [244, 245],\n",
       "       [246, 247],\n",
       "       [248, 249],\n",
       "       [250, 251],\n",
       "       [252, 253],\n",
       "       [254, 255],\n",
       "       [256, 257],\n",
       "       [258, 259],\n",
       "       [260, 261],\n",
       "       [262, 263],\n",
       "       [264, 265],\n",
       "       [266, 267],\n",
       "       [268, 269],\n",
       "       [270, 271],\n",
       "       [272, 273],\n",
       "       [274, 275],\n",
       "       [276, 277],\n",
       "       [278, 279],\n",
       "       [280, 281],\n",
       "       [282, 283],\n",
       "       [284, 285],\n",
       "       [286, 287],\n",
       "       [288, 289],\n",
       "       [290, 291],\n",
       "       [292, 293],\n",
       "       [294, 295],\n",
       "       [296, 297],\n",
       "       [298, 299],\n",
       "       [300, 301],\n",
       "       [302, 303],\n",
       "       [304, 305],\n",
       "       [306, 307],\n",
       "       [308, 309],\n",
       "       [310, 311],\n",
       "       [312, 313],\n",
       "       [314, 315],\n",
       "       [316, 317],\n",
       "       [318, 319],\n",
       "       [320, 321],\n",
       "       [322, 323],\n",
       "       [324, 325],\n",
       "       [326, 327],\n",
       "       [328, 329],\n",
       "       [330, 331],\n",
       "       [332, 333],\n",
       "       [334, 335],\n",
       "       [336, 337],\n",
       "       [338, 339],\n",
       "       [340, 341],\n",
       "       [342, 343],\n",
       "       [344, 345],\n",
       "       [346, 347],\n",
       "       [348, 349],\n",
       "       [350, 351],\n",
       "       [352, 353],\n",
       "       [354, 355],\n",
       "       [356, 357],\n",
       "       [358, 359],\n",
       "       [360, 361],\n",
       "       [362, 363],\n",
       "       [364, 365],\n",
       "       [366, 367],\n",
       "       [368, 369],\n",
       "       [370, 371],\n",
       "       [372, 373],\n",
       "       [374, 375],\n",
       "       [376, 377],\n",
       "       [378, 379],\n",
       "       [380, 381],\n",
       "       [382, 383],\n",
       "       [384, 385],\n",
       "       [386, 387],\n",
       "       [388, 389],\n",
       "       [390, 391],\n",
       "       [392, 393],\n",
       "       [394, 395],\n",
       "       [396, 397],\n",
       "       [398, 399],\n",
       "       [400, 401],\n",
       "       [402, 403],\n",
       "       [404, 405],\n",
       "       [406, 407],\n",
       "       [408, 409],\n",
       "       [410, 411],\n",
       "       [412, 413],\n",
       "       [414, 415],\n",
       "       [416, 417],\n",
       "       [418, 419],\n",
       "       [420, 421],\n",
       "       [422, 423],\n",
       "       [424, 425],\n",
       "       [426, 427],\n",
       "       [428, 429],\n",
       "       [430, 431],\n",
       "       [432, 433],\n",
       "       [434, 435],\n",
       "       [436, 437],\n",
       "       [438, 439],\n",
       "       [440, 441],\n",
       "       [442, 443],\n",
       "       [444, 445],\n",
       "       [446, 447],\n",
       "       [448, 449],\n",
       "       [450, 451],\n",
       "       [452, 453],\n",
       "       [454, 455],\n",
       "       [456, 457],\n",
       "       [458, 459],\n",
       "       [460, 461],\n",
       "       [462, 463],\n",
       "       [464, 465],\n",
       "       [466, 467],\n",
       "       [468, 469],\n",
       "       [470, 471],\n",
       "       [472, 473],\n",
       "       [474, 475],\n",
       "       [476, 477],\n",
       "       [478, 479],\n",
       "       [480, 481],\n",
       "       [482, 483],\n",
       "       [484, 485],\n",
       "       [486, 487],\n",
       "       [488, 489],\n",
       "       [490, 491],\n",
       "       [492, 493],\n",
       "       [494, 495],\n",
       "       [496, 497],\n",
       "       [498, 499]])"
      ]
     },
     "execution_count": 11,
     "metadata": {},
     "output_type": "execute_result"
    }
   ],
   "source": []
  },
  {
   "cell_type": "code",
   "execution_count": 13,
   "metadata": {
    "scrolled": true
   },
   "outputs": [
    {
     "name": "stderr",
     "output_type": "stream",
     "text": [
      "100%|█████████████████████████████████████████████████████████████████████████████| 450/450 [01:23<00:00,  5.40it/s]\n"
     ]
    }
   ],
   "source": [
    "ex1.fit(450, beta_jump_length=5, verbose=False)"
   ]
  },
  {
   "cell_type": "code",
   "execution_count": 14,
   "metadata": {
    "scrolled": false
   },
   "outputs": [
    {
     "data": {
      "image/png": "[encoded data removed]",
      "text/plain": [
       "<matplotlib.figure.Figure at 0x260d9349978>"
      ]
     },
     "metadata": {},
     "output_type": "display_data"
    }
   ],
   "source": [
    "ex1.plot_mu_stdev()\n",
    "# plt.tight_layout()\n",
    "# plt.savefig(\"mu_stdev.png\")"
   ]
  },
  {
   "cell_type": "code",
   "execution_count": 15,
   "metadata": {},
   "outputs": [
    {
     "data": {
      "image/png": "[encoded data removed]",
      "text/plain": [
       "<matplotlib.figure.Figure at 0x260d9631c50>"
      ]
     },
     "metadata": {},
     "output_type": "display_data"
    }
   ],
   "source": [
    "ex1.diagnostics_plot(true_labels=latent_1D)\n",
    "#plt.tight_layout()\n",
    "#plt.savefig(\"diagn.png\")"
   ]
  },
  {
   "cell_type": "code",
   "execution_count": null,
   "metadata": {
    "collapsed": true
   },
   "outputs": [],
   "source": []
  },
  {
   "cell_type": "raw",
   "metadata": {},
   "source": [
    "import pickle\n",
    "pickle.dump( ex1, open( \"../data/example.p\", \"wb\" ) )"
   ]
  },
  {
   "cell_type": "markdown",
   "metadata": {},
   "source": [
    "# VECTORIZE"
   ]
  },
  {
   "cell_type": "code",
   "execution_count": 85,
   "metadata": {
    "collapsed": true
   },
   "outputs": [],
   "source": [
    "import numpy as np\n",
    "from sklearn import mixture\n",
    "from scipy.stats import multivariate_normal, norm\n",
    "from copy import copy\n",
    "from itertools import combinations\n",
    "import tqdm  # progress bar\n",
    "import matplotlib.pyplot as plt\n",
    "from matplotlib import gridspec  # plot arrangements"
   ]
  },
  {
   "cell_type": "code",
   "execution_count": 508,
   "metadata": {
    "collapsed": true
   },
   "outputs": [],
   "source": [
    "def calc_energy_like(self, mu, cov):\n",
    "    \"\"\"\n",
    "    Calculates the energy likelihood of the system.\n",
    "    :param mu: Mean values\n",
    "    :param cov: Covariance matrix\n",
    "    :return:\n",
    "    \"\"\"\n",
    "\n",
    "    energy_like_labels = np.zeros((len(self.coords), self.n_labels))\n",
    "    print(\"energy like shp:\", np.shape(energy_like_labels))\n",
    "\n",
    "    for x in range(len(self.coords)):\n",
    "        for l in range(self.n_labels):\n",
    "            energy_like_labels[x, l] = 0.5 * np.array([self.obs[x] - mu[l, :]]) @ np.linalg.inv(cov[l, :, :]) @ np.array([self.obs[x] - mu[l, :]]).T + 0.5 * np.log(np.linalg.det(cov[l, :, :]))\n",
    "\n",
    "    # TODO: 2-dimensional calculation of energy likelihood labels\n",
    "    # TODO: 3-dimensional calculation of energy likelihood labels\n",
    "\n",
    "    return energy_like_labels"
   ]
  },
  {
   "cell_type": "code",
   "execution_count": 559,
   "metadata": {
    "collapsed": true
   },
   "outputs": [],
   "source": [
    "def calc_energy_like_vect(self, mu, cov):\n",
    "    \"\"\"\n",
    "    Calculates the energy likelihood of the system.\n",
    "    :param mu: Mean values\n",
    "    :param cov: Covariance matrix\n",
    "    :return:\n",
    "    \"\"\"\n",
    "\n",
    "    energy_like_labels = np.zeros((len(self.coords), self.n_labels))\n",
    "    #print(\"energy like shp:\", np.shape(energy_like_labels))\n",
    "\n",
    "    for l in range(self.n_labels):\n",
    "        energy_like_labels[:,l] = np.einsum(\"...i,ji,...j\", 0.5 * np.array([self.obs - mu[l, :]]), np.linalg.inv(cov[l, :, :]), np.array([self.obs - mu[l, :]])) + 0.5 * np.log(np.linalg.det(cov[l, :, :]))\n",
    "        \n",
    "    # TODO: 2-dimensional calculation of energy likelihood labels\n",
    "    # TODO: 3-dimensional calculation of energy likelihood labels\n",
    "\n",
    "    return energy_like_labels"
   ]
  },
  {
   "cell_type": "code",
   "execution_count": null,
   "metadata": {
    "collapsed": true
   },
   "outputs": [],
   "source": []
  },
  {
   "cell_type": "code",
   "execution_count": 581,
   "metadata": {
    "collapsed": true
   },
   "outputs": [],
   "source": [
    "r = np.random.rand(100)"
   ]
  },
  {
   "cell_type": "code",
   "execution_count": 592,
   "metadata": {
    "collapsed": true
   },
   "outputs": [],
   "source": [
    "d = (p.T-np.random.rand(100)).T"
   ]
  },
  {
   "cell_type": "code",
   "execution_count": 603,
   "metadata": {},
   "outputs": [
    {
     "data": {
      "text/plain": [
       "array([0, 2, 1, 0, 1, 2, 2, 2, 2, 2, 1, 0, 2, 1, 2, 2, 2, 2, 1, 1, 2, 0, 2,\n",
       "       1, 2, 2, 2, 0, 1, 1, 1, 1, 1, 0, 0, 0, 2, 1, 1, 2, 2, 2, 1, 1, 2, 2,\n",
       "       0, 0, 1, 2, 0, 2, 1, 0, 2, 2, 1, 1, 1, 0, 2, 1, 2, 2, 2, 2, 2, 2, 2,\n",
       "       1, 1, 1, 1, 2, 1, 1, 1, 1, 1, 1, 1, 0, 0, 2, 2, 2, 2, 2, 1, 1, 2, 1,\n",
       "       2, 2, 1, 1, 1, 1, 2, 1], dtype=int64)"
      ]
     },
     "execution_count": 603,
     "metadata": {},
     "output_type": "execute_result"
    }
   ],
   "source": [
    "np.argmin(np.abs(d), axis=1)"
   ]
  },
  {
   "cell_type": "code",
   "execution_count": 606,
   "metadata": {},
   "outputs": [
    {
     "data": {
      "text/plain": [
       "(100, 3)"
      ]
     },
     "execution_count": 606,
     "metadata": {},
     "output_type": "execute_result"
    }
   ],
   "source": [
    "np.shape(p)"
   ]
  },
  {
   "cell_type": "code",
   "execution_count": 680,
   "metadata": {
    "collapsed": true
   },
   "outputs": [],
   "source": [
    "p = np.cumsum(a, axis=1)"
   ]
  },
  {
   "cell_type": "code",
   "execution_count": 681,
   "metadata": {
    "collapsed": true
   },
   "outputs": [],
   "source": [
    "s = np.sum(p[:,1:], axis=1)"
   ]
  },
  {
   "cell_type": "code",
   "execution_count": 686,
   "metadata": {
    "collapsed": true
   },
   "outputs": [],
   "source": [
    "np.random.rand?"
   ]
  },
  {
   "cell_type": "code",
   "execution_count": 684,
   "metadata": {},
   "outputs": [
    {
     "data": {
      "text/plain": [
       "array([ 0.        ,  0.46787303,  0.53212697,  1.        ])"
      ]
     },
     "execution_count": 684,
     "metadata": {},
     "output_type": "execute_result"
    }
   ],
   "source": [
    "p[0,:] / p[0,-1]"
   ]
  },
  {
   "cell_type": "code",
   "execution_count": 687,
   "metadata": {
    "collapsed": true
   },
   "outputs": [],
   "source": [
    "np.disp?"
   ]
  },
  {
   "cell_type": "code",
   "execution_count": null,
   "metadata": {
    "collapsed": true
   },
   "outputs": [],
   "source": [
    "np"
   ]
  },
  {
   "cell_type": "code",
   "execution_count": 702,
   "metadata": {
    "collapsed": true
   },
   "outputs": [],
   "source": [
    "p = np.array([  1.00309378e-09 ,  9.97839645e-01 ,  9.97839645e-01  , 1.00000000e+00])"
   ]
  },
  {
   "cell_type": "code",
   "execution_count": 704,
   "metadata": {
    "collapsed": true
   },
   "outputs": [],
   "source": [
    "r = np.random.rand()"
   ]
  },
  {
   "cell_type": "code",
   "execution_count": 705,
   "metadata": {},
   "outputs": [
    {
     "data": {
      "text/plain": [
       "0.9066335394659929"
      ]
     },
     "execution_count": 705,
     "metadata": {},
     "output_type": "execute_result"
    }
   ],
   "source": [
    "r"
   ]
  },
  {
   "cell_type": "code",
   "execution_count": 714,
   "metadata": {},
   "outputs": [
    {
     "data": {
      "text/plain": [
       "array([False,  True,  True,  True], dtype=bool)"
      ]
     },
     "execution_count": 714,
     "metadata": {},
     "output_type": "execute_result"
    }
   ],
   "source": [
    "np.greater(0, r - p)"
   ]
  },
  {
   "cell_type": "code",
   "execution_count": 722,
   "metadata": {
    "collapsed": true
   },
   "outputs": [],
   "source": [
    "np.random.choice??"
   ]
  },
  {
   "cell_type": "code",
   "execution_count": 719,
   "metadata": {},
   "outputs": [
    {
     "data": {
      "text/plain": [
       "<Container object of 4 artists>"
      ]
     },
     "execution_count": 719,
     "metadata": {},
     "output_type": "execute_result"
    },
    {
     "data": {
      "image/png": "[encoded data removed]",
      "text/plain": [
       "<matplotlib.figure.Figure at 0x260d914e390>"
      ]
     },
     "metadata": {},
     "output_type": "display_data"
    }
   ],
   "source": [
    "plt.bar([0,1,2,3],r-p)"
   ]
  },
  {
   "cell_type": "code",
   "execution_count": 715,
   "metadata": {},
   "outputs": [
    {
     "data": {
      "text/plain": [
       "3"
      ]
     },
     "execution_count": 715,
     "metadata": {},
     "output_type": "execute_result"
    }
   ],
   "source": [
    "np.count_nonzero(np.greater(0, r-p))"
   ]
  },
  {
   "cell_type": "code",
   "execution_count": 682,
   "metadata": {},
   "outputs": [
    {
     "data": {
      "text/plain": [
       "1.9464732671502507"
      ]
     },
     "execution_count": 682,
     "metadata": {},
     "output_type": "execute_result"
    }
   ],
   "source": [
    "s[0]"
   ]
  },
  {
   "cell_type": "code",
   "execution_count": 677,
   "metadata": {},
   "outputs": [
    {
     "data": {
      "text/plain": [
       "array([ 1.94647327,  4.82591513,  4.71037175,  2.70751363,  3.22853975,\n",
       "        3.61372168,  2.18053045,  3.78933844,  3.19119747,  2.86452019,\n",
       "        2.68941251,  4.52845263,  3.91740133,  2.68222934,  5.31836311,\n",
       "        3.05754204,  2.18094922,  2.32105015,  4.84972977,  1.69055941,\n",
       "        3.23115543,  1.93332866,  3.64336651,  3.19679941,  3.273858  ,\n",
       "        4.28697164,  3.85254782,  3.53641741,  2.59280149,  1.60458141,\n",
       "        2.40656464,  3.43328734,  5.05218773,  4.15501295,  5.32951214,\n",
       "        4.8854624 ,  5.14397811,  3.2080425 ,  3.07450971,  2.64562047,\n",
       "        3.19657623,  2.26246165,  2.34360343,  2.58697666,  1.09520276,\n",
       "        1.42850679,  5.36880844,  4.37622035,  2.56662793,  2.42548986,\n",
       "        1.92942418,  3.70139406,  5.18909303,  3.75710748,  3.94333625,\n",
       "        3.52311776,  0.8907445 ,  2.56156148,  3.69559096,  2.47564689,\n",
       "        0.34876715,  1.63552601,  3.7472668 ,  0.91749021,  0.37715301,\n",
       "        4.61064237,  3.27406184,  0.75829644,  0.73058554,  3.92303844,\n",
       "        3.30091101,  3.58219271,  3.73553883,  1.55875363,  2.319884  ,\n",
       "        3.25238195,  3.5403724 ,  3.31958461,  1.2960347 ,  2.62000856,\n",
       "        3.62277609,  3.37923585,  3.49785483,  3.00995869,  3.06130139,\n",
       "        3.52002861,  3.2660115 ,  0.74797722,  2.23583764,  0.84799944,\n",
       "        4.33918362,  3.59309808,  1.28912621,  4.98305441,  2.25204957,\n",
       "        2.77137065,  4.28316646,  2.97330149,  3.38951155,  2.77403586])"
      ]
     },
     "execution_count": 677,
     "metadata": {},
     "output_type": "execute_result"
    }
   ],
   "source": [
    "np.sum(p[:,1:], axis=1)"
   ]
  },
  {
   "cell_type": "code",
   "execution_count": 792,
   "metadata": {
    "scrolled": false
   },
   "outputs": [
    {
     "name": "stdout",
     "output_type": "stream",
     "text": [
      "labels prob\n",
      "[[ 0.2  0.3  0.5]\n",
      " [ 0.2  0.3  0.5]\n",
      " [ 0.2  0.3  0.5]]\n",
      "\n",
      "\n",
      "labels prob cumsum\n",
      "[[ 0.2  0.5  1. ]\n",
      " [ 0.2  0.5  1. ]\n",
      " [ 0.2  0.5  1. ]]\n",
      "\n",
      "\n",
      "random samples\n",
      "[ 0.0150777   0.51195717  0.65433746]\n",
      "\n",
      "\n",
      "difference: cumsum probs - samples\n",
      "[[ 0.1849223   0.4849223   0.9849223 ]\n",
      " [-0.31195717 -0.01195717  0.48804283]\n",
      " [-0.45433746 -0.15433746  0.34566254]]\n"
     ]
    },
    {
     "data": {
      "text/plain": [
       "array([[False, False, False],\n",
       "       [ True,  True, False],\n",
       "       [ True,  True, False]], dtype=bool)"
      ]
     },
     "execution_count": 792,
     "metadata": {},
     "output_type": "execute_result"
    }
   ],
   "source": [
    "# create labels probability\n",
    "labels_prob = np.array([[0.2,0.3,0.5],[0.2,0.3,0.5],[0.2,0.3,0.5]])\n",
    "print(\"labels prob\")\n",
    "print(labels_prob)\n",
    "\n",
    "labels_prob_cs = labels_prob.cumsum(axis=1)\n",
    "# labels_prob_cs = np.concatenate((np.expand_dims(np.zeros(len(labels_prob_cs)), axis=1), labels_prob_cs), axis=1)\n",
    "print(\"\\n\")\n",
    "print(\"labels prob cumsum\")\n",
    "print(labels_prob_cs)\n",
    "\n",
    "# draw random samples\n",
    "r = np.random.rand(len(labels_prob))\n",
    "print(\"\\n\")\n",
    "print(\"random samples\")\n",
    "print(r)\n",
    "\n",
    "# difference\n",
    "d = (labels_prob_cs.T - r).T\n",
    "print(\"\\n\")\n",
    "print(\"difference: cumsum probs - samples\")\n",
    "print(d)\n",
    "\n",
    "np.greater_equal(0, d)"
   ]
  },
  {
   "cell_type": "code",
   "execution_count": null,
   "metadata": {
    "collapsed": true
   },
   "outputs": [],
   "source": []
  },
  {
   "cell_type": "code",
   "execution_count": 675,
   "metadata": {
    "collapsed": true
   },
   "outputs": [],
   "source": [
    "norm_p = (p.T / s).T"
   ]
  },
  {
   "cell_type": "code",
   "execution_count": 725,
   "metadata": {},
   "outputs": [
    {
     "data": {
      "text/plain": [
       "array([3, 3, 3, 3, 3, 3, 3, 3, 3, 3, 3, 3, 3, 3, 3, 3, 3, 3, 3, 3, 3, 3, 3,\n",
       "       3, 3, 3, 3, 3, 3, 3, 3, 3, 3, 3, 3, 3, 3, 3, 3, 3, 3, 3, 3, 3, 3, 3,\n",
       "       3, 3, 3, 3, 3, 3, 3, 3, 3, 3, 3, 3, 3, 3, 3, 3, 3, 3, 3, 3, 3, 3, 3,\n",
       "       3, 3, 3, 3, 3, 3, 3, 3, 3, 3, 3, 3, 3, 3, 3, 3, 3, 3, 3, 3, 3, 3, 3,\n",
       "       3, 3, 3, 3, 3, 3, 3, 3], dtype=int64)"
      ]
     },
     "execution_count": 725,
     "metadata": {},
     "output_type": "execute_result"
    }
   ],
   "source": [
    "np.count_nonzero(np.less(0,norm_p), axis=1)"
   ]
  },
  {
   "cell_type": "code",
   "execution_count": 664,
   "metadata": {},
   "outputs": [
    {
     "data": {
      "text/plain": [
       "array([3, 3, 3, 2, 3, 2, 1, 3, 2, 1, 2, 3, 3, 2, 3, 2, 2, 1, 3, 1, 2, 2, 3,\n",
       "       3, 3, 3, 3, 2, 3, 1, 2, 3, 3, 3, 3, 3, 3, 3, 3, 3, 3, 3, 3, 3, 1, 1,\n",
       "       3, 3, 3, 1, 3, 3, 3, 3, 3, 2, 1, 2, 3, 3, 0, 2, 3, 1, 0, 3, 3, 1, 1,\n",
       "       3, 3, 3, 3, 1, 3, 3, 2, 3, 2, 3, 2, 3, 3, 2, 3, 3, 3, 1, 2, 1, 3, 2,\n",
       "       1, 3, 1, 3, 3, 3, 2, 3], dtype=int64)"
      ]
     },
     "execution_count": 664,
     "metadata": {},
     "output_type": "execute_result"
    }
   ],
   "source": [
    "np.argmin(np.abs((norm_p.T - r)).T, axis=1)"
   ]
  },
  {
   "cell_type": "code",
   "execution_count": 729,
   "metadata": {
    "collapsed": true
   },
   "outputs": [],
   "source": [
    "np.random??"
   ]
  },
  {
   "cell_type": "code",
   "execution_count": 635,
   "metadata": {
    "collapsed": true
   },
   "outputs": [],
   "source": [
    "b = a[:,:-1] + a[:,1:]"
   ]
  },
  {
   "cell_type": "code",
   "execution_count": 636,
   "metadata": {},
   "outputs": [
    {
     "data": {
      "text/plain": [
       "array([[ 0.45535117,  0.51788546,  0.51788546],\n",
       "       [ 0.9214922 ,  1.49146536,  1.49146536],\n",
       "       [ 0.76060501,  1.59458087,  1.59458087],\n",
       "       [ 0.3284224 ,  1.02533441,  1.02533441],\n",
       "       [ 0.74862602,  0.86564385,  0.86564385],\n",
       "       [ 0.41287006,  1.39399078,  1.39399078],\n",
       "       [ 0.15223437,  0.93803085,  0.93803085],\n",
       "       [ 0.62624364,  1.26842558,  1.26842558],\n",
       "       [ 0.32886995,  1.26672878,  1.26672878],\n",
       "       [ 0.217996  ,  1.21426409,  1.21426409],\n",
       "       [ 0.30708318,  1.03762308,  1.03762308],\n",
       "       [ 0.77662534,  1.48760097,  1.48760097],\n",
       "       [ 0.73005863,  1.22864204,  1.22864204],\n",
       "       [ 0.2922055 ,  1.04890917,  1.04890917],\n",
       "       [ 0.87873207,  1.78044948,  1.78044948],\n",
       "       [ 0.38040458,  1.14836643,  1.14836643],\n",
       "       [ 0.32085543,  0.76961918,  0.76961918],\n",
       "       [ 0.18730552,  0.97321955,  0.97321955],\n",
       "       [ 0.75799307,  1.66687181,  1.66687181],\n",
       "       [ 0.24255875,  0.60272096,  0.60272096],\n",
       "       [ 0.41986909,  1.19570862,  1.19570862],\n",
       "       [ 0.33780971,  0.62885462,  0.62885462],\n",
       "       [ 0.50936274,  1.31232052,  1.31232052],\n",
       "       [ 0.70747578,  0.89092393,  0.89092393],\n",
       "       [ 0.60779229,  1.02913671,  1.02913671],\n",
       "       [ 0.9946138 ,  1.14887202,  1.14887202],\n",
       "       [ 0.76500631,  1.1612676 ,  1.1612676 ],\n",
       "       [ 0.39147552,  1.37673319,  1.37673319],\n",
       "       [ 0.64335214,  0.65304861,  0.65304861],\n",
       "       [ 0.19623195,  0.60605876,  0.60605876],\n",
       "       [ 0.29639347,  0.90688886,  0.90688886],\n",
       "       [ 0.53732672,  1.17931695,  1.17931695],\n",
       "       [ 0.8270466 ,  1.69904727,  1.69904727],\n",
       "       [ 0.95348109,  1.12402538,  1.12402538],\n",
       "       [ 0.8978831 ,  1.76687297,  1.76687297],\n",
       "       [ 0.80145117,  1.64128002,  1.64128002],\n",
       "       [ 0.91606247,  1.65592658,  1.65592658],\n",
       "       [ 0.71872857,  0.88529267,  0.88529267],\n",
       "       [ 0.73697722,  0.80027764,  0.80027764],\n",
       "       [ 0.44867586,  0.87413438,  0.87413438],\n",
       "       [ 0.47823307,  1.12005504,  1.12005504],\n",
       "       [ 0.46297157,  0.66825926,  0.66825926],\n",
       "       [ 0.53490918,  0.63689253,  0.63689253],\n",
       "       [ 0.50571176,  0.78777657,  0.78777657],\n",
       "       [ 0.02666936,  0.52093202,  0.52093202],\n",
       "       [ 0.00751547,  0.70673792,  0.70673792],\n",
       "       [ 0.88125792,  1.8031463 ,  1.8031463 ],\n",
       "       [ 0.95718535,  1.23092482,  1.23092482],\n",
       "       [ 0.51732353,  0.76599044,  0.76599044],\n",
       "       [ 0.13014014,  1.0826048 ,  1.0826048 ],\n",
       "       [ 0.41496317,  0.54974892,  0.54974892],\n",
       "       [ 0.91732436,  0.93337267,  0.93337267],\n",
       "       [ 0.79895002,  1.79559649,  1.79559649],\n",
       "       [ 0.77090542,  1.10764832,  1.10764832],\n",
       "       [ 0.51529242,  1.45637571,  1.45637571],\n",
       "       [ 0.39012537,  1.37143352,  1.37143352],\n",
       "       [ 0.14186403,  0.30350822,  0.30350822],\n",
       "       [ 0.29784513,  0.98293561,  0.98293561],\n",
       "       [ 0.54158533,  1.30621015,  1.30621015],\n",
       "       [ 0.52264096,  0.71518249,  0.71518249],\n",
       "       [ 0.00481455,  0.16956902,  0.16956902],\n",
       "       [ 0.31567608,  0.50208692,  0.50208692],\n",
       "       [ 0.59393854,  1.27969486,  1.27969486],\n",
       "       [ 0.13272109,  0.32602402,  0.32602402],\n",
       "       [ 0.04324837,  0.14532814,  0.14532814],\n",
       "       [ 0.91889901,  1.38642217,  1.38642217],\n",
       "       [ 0.75567302,  0.8813579 ,  0.8813579 ],\n",
       "       [ 0.08845695,  0.29069127,  0.29069127],\n",
       "       [ 0.1627965 ,  0.20249627,  0.20249627],\n",
       "       [ 0.648719  ,  1.31280022,  1.31280022],\n",
       "       [ 0.65789257,  0.99256293,  0.99256293],\n",
       "       [ 0.55101968,  1.24007668,  1.24007668],\n",
       "       [ 0.83259679,  1.03517262,  1.03517262],\n",
       "       [ 0.10258903,  0.67678778,  0.67678778],\n",
       "       [ 0.54888363,  0.61105837,  0.61105837],\n",
       "       [ 0.45964939,  1.16654158,  1.16654158],\n",
       "       [ 0.38778731,  1.38239889,  1.38239889],\n",
       "       [ 0.60453117,  1.05526113,  1.05526113],\n",
       "       [ 0.29582716,  0.35219019,  0.35219019],\n",
       "       [ 0.44011766,  0.86988662,  0.86988662],\n",
       "       [ 0.43642409,  1.37496396,  1.37496396],\n",
       "       [ 0.83050459,  0.85911334,  0.85911334],\n",
       "       [ 0.87390537,  0.87502205,  0.87502205],\n",
       "       [ 0.33032399,  1.17465536,  1.17465536],\n",
       "       [ 0.53865349,  0.99199721,  0.99199721],\n",
       "       [ 0.82928595,  0.93072836,  0.93072836],\n",
       "       [ 0.5294952 ,  1.10351055,  1.10351055],\n",
       "       [ 0.0741424 ,  0.2998462 ,  0.2998462 ],\n",
       "       [ 0.25623774,  0.86168108,  0.86168108],\n",
       "       [ 0.14671192,  0.2772878 ,  0.2772878 ],\n",
       "       [ 0.72278459,  1.44680721,  1.44680721],\n",
       "       [ 0.43086367,  1.36568537,  1.36568537],\n",
       "       [ 0.16036066,  0.48420245,  0.48420245],\n",
       "       [ 0.82509178,  1.66643543,  1.66643543],\n",
       "       [ 0.19952095,  0.92650384,  0.92650384],\n",
       "       [ 0.64767311,  0.73801222,  0.73801222],\n",
       "       [ 0.77291003,  1.3686732 ,  1.3686732 ],\n",
       "       [ 0.47023726,  1.01641348,  1.01641348],\n",
       "       [ 0.38780908,  1.30694669,  1.30694669],\n",
       "       [ 0.67584889,  0.71116904,  0.71116904]])"
      ]
     },
     "execution_count": 636,
     "metadata": {},
     "output_type": "execute_result"
    }
   ],
   "source": [
    "b"
   ]
  },
  {
   "cell_type": "code",
   "execution_count": 626,
   "metadata": {
    "collapsed": true
   },
   "outputs": [],
   "source": [
    "a = np.concatenate((p, np.expand_dims(r, axis=1)), axis=1)"
   ]
  },
  {
   "cell_type": "code",
   "execution_count": 620,
   "metadata": {},
   "outputs": [
    {
     "data": {
      "text/plain": [
       "array([[ 0.45535117],\n",
       "       [ 0.9214922 ],\n",
       "       [ 0.76060501],\n",
       "       [ 0.3284224 ],\n",
       "       [ 0.74862602],\n",
       "       [ 0.41287006],\n",
       "       [ 0.15223437],\n",
       "       [ 0.62624364],\n",
       "       [ 0.32886995],\n",
       "       [ 0.217996  ],\n",
       "       [ 0.30708318],\n",
       "       [ 0.77662534],\n",
       "       [ 0.73005863],\n",
       "       [ 0.2922055 ],\n",
       "       [ 0.87873207],\n",
       "       [ 0.38040458],\n",
       "       [ 0.32085543],\n",
       "       [ 0.18730552],\n",
       "       [ 0.75799307],\n",
       "       [ 0.24255875],\n",
       "       [ 0.41986909],\n",
       "       [ 0.33780971],\n",
       "       [ 0.50936274],\n",
       "       [ 0.70747578],\n",
       "       [ 0.60779229],\n",
       "       [ 0.9946138 ],\n",
       "       [ 0.76500631],\n",
       "       [ 0.39147552],\n",
       "       [ 0.64335214],\n",
       "       [ 0.19623195],\n",
       "       [ 0.29639347],\n",
       "       [ 0.53732672],\n",
       "       [ 0.8270466 ],\n",
       "       [ 0.95348109],\n",
       "       [ 0.8978831 ],\n",
       "       [ 0.80145117],\n",
       "       [ 0.91606247],\n",
       "       [ 0.71872857],\n",
       "       [ 0.73697722],\n",
       "       [ 0.44867586],\n",
       "       [ 0.47823307],\n",
       "       [ 0.46297157],\n",
       "       [ 0.53490918],\n",
       "       [ 0.50571176],\n",
       "       [ 0.02666936],\n",
       "       [ 0.00751547],\n",
       "       [ 0.88125792],\n",
       "       [ 0.95718535],\n",
       "       [ 0.51732353],\n",
       "       [ 0.13014014],\n",
       "       [ 0.41496317],\n",
       "       [ 0.91732436],\n",
       "       [ 0.79895002],\n",
       "       [ 0.77090542],\n",
       "       [ 0.51529242],\n",
       "       [ 0.39012537],\n",
       "       [ 0.14186403],\n",
       "       [ 0.29784513],\n",
       "       [ 0.54158533],\n",
       "       [ 0.52264096],\n",
       "       [ 0.00481455],\n",
       "       [ 0.31567608],\n",
       "       [ 0.59393854],\n",
       "       [ 0.13272109],\n",
       "       [ 0.04324837],\n",
       "       [ 0.91889901],\n",
       "       [ 0.75567302],\n",
       "       [ 0.08845695],\n",
       "       [ 0.1627965 ],\n",
       "       [ 0.648719  ],\n",
       "       [ 0.65789257],\n",
       "       [ 0.55101968],\n",
       "       [ 0.83259679],\n",
       "       [ 0.10258903],\n",
       "       [ 0.54888363],\n",
       "       [ 0.45964939],\n",
       "       [ 0.38778731],\n",
       "       [ 0.60453117],\n",
       "       [ 0.29582716],\n",
       "       [ 0.44011766],\n",
       "       [ 0.43642409],\n",
       "       [ 0.83050459],\n",
       "       [ 0.87390537],\n",
       "       [ 0.33032399],\n",
       "       [ 0.53865349],\n",
       "       [ 0.82928595],\n",
       "       [ 0.5294952 ],\n",
       "       [ 0.0741424 ],\n",
       "       [ 0.25623774],\n",
       "       [ 0.14671192],\n",
       "       [ 0.72278459],\n",
       "       [ 0.43086367],\n",
       "       [ 0.16036066],\n",
       "       [ 0.82509178],\n",
       "       [ 0.19952095],\n",
       "       [ 0.64767311],\n",
       "       [ 0.77291003],\n",
       "       [ 0.47023726],\n",
       "       [ 0.38780908],\n",
       "       [ 0.67584889]])"
      ]
     },
     "execution_count": 620,
     "metadata": {},
     "output_type": "execute_result"
    }
   ],
   "source": []
  },
  {
   "cell_type": "code",
   "execution_count": 619,
   "metadata": {},
   "outputs": [
    {
     "ename": "ValueError",
     "evalue": "all input arrays must have the same shape",
     "output_type": "error",
     "traceback": [
      "\u001b[1;31m---------------------------------------------------------------------------\u001b[0m",
      "\u001b[1;31mValueError\u001b[0m                                Traceback (most recent call last)",
      "\u001b[1;32m<ipython-input-619-12569c1276fd>\u001b[0m in \u001b[0;36m<module>\u001b[1;34m()\u001b[0m\n\u001b[1;32m----> 1\u001b[1;33m \u001b[0mnp\u001b[0m\u001b[1;33m.\u001b[0m\u001b[0mstack\u001b[0m\u001b[1;33m(\u001b[0m\u001b[1;33m(\u001b[0m\u001b[0mp\u001b[0m\u001b[1;33m,\u001b[0m\u001b[0mnp\u001b[0m\u001b[1;33m.\u001b[0m\u001b[0mshape\u001b[0m\u001b[1;33m(\u001b[0m\u001b[0mnp\u001b[0m\u001b[1;33m.\u001b[0m\u001b[0mexpand_dims\u001b[0m\u001b[1;33m(\u001b[0m\u001b[0mr\u001b[0m\u001b[1;33m,\u001b[0m \u001b[0maxis\u001b[0m\u001b[1;33m=\u001b[0m\u001b[1;36m1\u001b[0m\u001b[1;33m)\u001b[0m\u001b[1;33m)\u001b[0m\u001b[1;33m)\u001b[0m\u001b[1;33m)\u001b[0m\u001b[1;33m\u001b[0m\u001b[0m\n\u001b[0m",
      "\u001b[1;32mC:\\ProgramData\\Anaconda3\\lib\\site-packages\\numpy\\core\\shape_base.py\u001b[0m in \u001b[0;36mstack\u001b[1;34m(arrays, axis)\u001b[0m\n\u001b[0;32m    352\u001b[0m     \u001b[0mshapes\u001b[0m \u001b[1;33m=\u001b[0m \u001b[0mset\u001b[0m\u001b[1;33m(\u001b[0m\u001b[0marr\u001b[0m\u001b[1;33m.\u001b[0m\u001b[0mshape\u001b[0m \u001b[1;32mfor\u001b[0m \u001b[0marr\u001b[0m \u001b[1;32min\u001b[0m \u001b[0marrays\u001b[0m\u001b[1;33m)\u001b[0m\u001b[1;33m\u001b[0m\u001b[0m\n\u001b[0;32m    353\u001b[0m     \u001b[1;32mif\u001b[0m \u001b[0mlen\u001b[0m\u001b[1;33m(\u001b[0m\u001b[0mshapes\u001b[0m\u001b[1;33m)\u001b[0m \u001b[1;33m!=\u001b[0m \u001b[1;36m1\u001b[0m\u001b[1;33m:\u001b[0m\u001b[1;33m\u001b[0m\u001b[0m\n\u001b[1;32m--> 354\u001b[1;33m         \u001b[1;32mraise\u001b[0m \u001b[0mValueError\u001b[0m\u001b[1;33m(\u001b[0m\u001b[1;34m'all input arrays must have the same shape'\u001b[0m\u001b[1;33m)\u001b[0m\u001b[1;33m\u001b[0m\u001b[0m\n\u001b[0m\u001b[0;32m    355\u001b[0m \u001b[1;33m\u001b[0m\u001b[0m\n\u001b[0;32m    356\u001b[0m     \u001b[0mresult_ndim\u001b[0m \u001b[1;33m=\u001b[0m \u001b[0marrays\u001b[0m\u001b[1;33m[\u001b[0m\u001b[1;36m0\u001b[0m\u001b[1;33m]\u001b[0m\u001b[1;33m.\u001b[0m\u001b[0mndim\u001b[0m \u001b[1;33m+\u001b[0m \u001b[1;36m1\u001b[0m\u001b[1;33m\u001b[0m\u001b[0m\n",
      "\u001b[1;31mValueError\u001b[0m: all input arrays must have the same shape"
     ]
    }
   ],
   "source": [
    "np.stack((p,np.shape()))"
   ]
  },
  {
   "cell_type": "code",
   "execution_count": 600,
   "metadata": {},
   "outputs": [
    {
     "data": {
      "text/plain": [
       "array([[ 0.        ,  0.45535117,  0.06253429],\n",
       "       [ 0.        ,  0.9214922 ,  0.56997316],\n",
       "       [ 0.        ,  0.76060501,  0.83397586],\n",
       "       [ 0.        ,  0.3284224 ,  0.69691201],\n",
       "       [ 0.        ,  0.74862602,  0.11701783],\n",
       "       [ 0.        ,  0.41287006,  0.98112071],\n",
       "       [ 0.        ,  0.15223437,  0.78579648],\n",
       "       [ 0.        ,  0.62624364,  0.64218193],\n",
       "       [ 0.        ,  0.32886995,  0.93785883],\n",
       "       [ 0.        ,  0.217996  ,  0.99626809],\n",
       "       [ 0.        ,  0.30708318,  0.7305399 ],\n",
       "       [ 0.        ,  0.77662534,  0.71097563],\n",
       "       [ 0.        ,  0.73005863,  0.49858341],\n",
       "       [ 0.        ,  0.2922055 ,  0.75670367],\n",
       "       [ 0.        ,  0.87873207,  0.90171741],\n",
       "       [ 0.        ,  0.38040458,  0.76796185],\n",
       "       [ 0.        ,  0.32085543,  0.44876376],\n",
       "       [ 0.        ,  0.18730552,  0.78591403],\n",
       "       [ 0.        ,  0.75799307,  0.90887874],\n",
       "       [ 0.        ,  0.24255875,  0.36016221],\n",
       "       [ 0.        ,  0.41986909,  0.77583953],\n",
       "       [ 0.        ,  0.33780971,  0.29104491],\n",
       "       [ 0.        ,  0.50936274,  0.80295778],\n",
       "       [ 0.        ,  0.70747578,  0.18344816],\n",
       "       [ 0.        ,  0.60779229,  0.42134442],\n",
       "       [ 0.        ,  0.9946138 ,  0.15425822],\n",
       "       [ 0.        ,  0.76500631,  0.39626128],\n",
       "       [ 0.        ,  0.39147552,  0.98525767],\n",
       "       [ 0.        ,  0.64335214,  0.00969647],\n",
       "       [ 0.        ,  0.19623195,  0.40982681],\n",
       "       [ 0.        ,  0.29639347,  0.61049539],\n",
       "       [ 0.        ,  0.53732672,  0.64199022],\n",
       "       [ 0.        ,  0.8270466 ,  0.87200067],\n",
       "       [ 0.        ,  0.95348109,  0.17054429],\n",
       "       [ 0.        ,  0.8978831 ,  0.86898987],\n",
       "       [ 0.        ,  0.80145117,  0.83982885],\n",
       "       [ 0.        ,  0.91606247,  0.7398641 ],\n",
       "       [ 0.        ,  0.71872857,  0.1665641 ],\n",
       "       [ 0.        ,  0.73697722,  0.06330042],\n",
       "       [ 0.        ,  0.44867586,  0.42545852],\n",
       "       [ 0.        ,  0.47823307,  0.64182197],\n",
       "       [ 0.        ,  0.46297157,  0.20528769],\n",
       "       [ 0.        ,  0.53490918,  0.10198335],\n",
       "       [ 0.        ,  0.50571176,  0.28206481],\n",
       "       [ 0.        ,  0.02666936,  0.49426266],\n",
       "       [ 0.        ,  0.00751547,  0.69922245],\n",
       "       [ 0.        ,  0.88125792,  0.92188839],\n",
       "       [ 0.        ,  0.95718535,  0.27373947],\n",
       "       [ 0.        ,  0.51732353,  0.24866691],\n",
       "       [ 0.        ,  0.13014014,  0.95246466],\n",
       "       [ 0.        ,  0.41496317,  0.13478574],\n",
       "       [ 0.        ,  0.91732436,  0.01604832],\n",
       "       [ 0.        ,  0.79895002,  0.99664647],\n",
       "       [ 0.        ,  0.77090542,  0.3367429 ],\n",
       "       [ 0.        ,  0.51529242,  0.94108329],\n",
       "       [ 0.        ,  0.39012537,  0.98130815],\n",
       "       [ 0.        ,  0.14186403,  0.16164419],\n",
       "       [ 0.        ,  0.29784513,  0.68509049],\n",
       "       [ 0.        ,  0.54158533,  0.76462483],\n",
       "       [ 0.        ,  0.52264096,  0.19254153],\n",
       "       [ 0.        ,  0.00481455,  0.16475447],\n",
       "       [ 0.        ,  0.31567608,  0.18641084],\n",
       "       [ 0.        ,  0.59393854,  0.68575633],\n",
       "       [ 0.        ,  0.13272109,  0.19330294],\n",
       "       [ 0.        ,  0.04324837,  0.10207977],\n",
       "       [ 0.        ,  0.91889901,  0.46752316],\n",
       "       [ 0.        ,  0.75567302,  0.12568488],\n",
       "       [ 0.        ,  0.08845695,  0.20223433],\n",
       "       [ 0.        ,  0.1627965 ,  0.03969978],\n",
       "       [ 0.        ,  0.648719  ,  0.66408123],\n",
       "       [ 0.        ,  0.65789257,  0.33467036],\n",
       "       [ 0.        ,  0.55101968,  0.689057  ],\n",
       "       [ 0.        ,  0.83259679,  0.20257582],\n",
       "       [ 0.        ,  0.10258903,  0.57419875],\n",
       "       [ 0.        ,  0.54888363,  0.06217473],\n",
       "       [ 0.        ,  0.45964939,  0.70689219],\n",
       "       [ 0.        ,  0.38778731,  0.99461157],\n",
       "       [ 0.        ,  0.60453117,  0.45072996],\n",
       "       [ 0.        ,  0.29582716,  0.05636303],\n",
       "       [ 0.        ,  0.44011766,  0.42976896],\n",
       "       [ 0.        ,  0.43642409,  0.93853987],\n",
       "       [ 0.        ,  0.83050459,  0.02860875],\n",
       "       [ 0.        ,  0.87390537,  0.00111668],\n",
       "       [ 0.        ,  0.33032399,  0.84433137],\n",
       "       [ 0.        ,  0.53865349,  0.45334372],\n",
       "       [ 0.        ,  0.82928595,  0.10144241],\n",
       "       [ 0.        ,  0.5294952 ,  0.57401536],\n",
       "       [ 0.        ,  0.0741424 ,  0.2257038 ],\n",
       "       [ 0.        ,  0.25623774,  0.60544334],\n",
       "       [ 0.        ,  0.14671192,  0.13057588],\n",
       "       [ 0.        ,  0.72278459,  0.72402262],\n",
       "       [ 0.        ,  0.43086367,  0.9348217 ],\n",
       "       [ 0.        ,  0.16036066,  0.32384179],\n",
       "       [ 0.        ,  0.82509178,  0.84134364],\n",
       "       [ 0.        ,  0.19952095,  0.72698289],\n",
       "       [ 0.        ,  0.64767311,  0.09033911],\n",
       "       [ 0.        ,  0.77291003,  0.59576318],\n",
       "       [ 0.        ,  0.47023726,  0.54617623],\n",
       "       [ 0.        ,  0.38780908,  0.91913761],\n",
       "       [ 0.        ,  0.67584889,  0.03532015]])"
      ]
     },
     "execution_count": 600,
     "metadata": {},
     "output_type": "execute_result"
    }
   ],
   "source": [
    "p = np.stack((np.zeros(100), r, np.random.rand(100)), axis=1)\n",
    "p"
   ]
  },
  {
   "cell_type": "code",
   "execution_count": 560,
   "metadata": {},
   "outputs": [
    {
     "name": "stdout",
     "output_type": "stream",
     "text": [
      "energy like shp: (500, 4)\n"
     ]
    },
    {
     "data": {
      "text/plain": [
       "array([[ 11.46015781,   0.14903652,   4.46443899,   8.97220106],\n",
       "       [ 15.1909697 ,   1.61638822,   3.92358748,  17.71240953],\n",
       "       [ 23.60902072,   0.62260838,   5.91786295,  26.65677807],\n",
       "       ..., \n",
       "       [ 10.53858969,  -1.74139897,   3.07176339,   9.57917324],\n",
       "       [ 18.929389  ,  -0.30614229,   4.63876347,  20.98130566],\n",
       "       [ 15.92238363,   0.18936604,   4.88069498,  13.10072542]])"
      ]
     },
     "execution_count": 560,
     "metadata": {},
     "output_type": "execute_result"
    }
   ],
   "source": [
    "calc_energy_like(ex1, ex1.mus[-1], ex1.covs[-1])"
   ]
  },
  {
   "cell_type": "code",
   "execution_count": 561,
   "metadata": {},
   "outputs": [
    {
     "data": {
      "text/plain": [
       "array([[ 11.46015781,   0.14903652,   4.46443899,   8.97220106],\n",
       "       [ 15.1909697 ,   1.61638822,   3.92358748,  17.71240953],\n",
       "       [ 23.60902072,   0.62260838,   5.91786295,  26.65677807],\n",
       "       ..., \n",
       "       [ 10.53858969,  -1.74139897,   3.07176339,   9.57917324],\n",
       "       [ 18.929389  ,  -0.30614229,   4.63876347,  20.98130566],\n",
       "       [ 15.92238363,   0.18936604,   4.88069498,  13.10072542]])"
      ]
     },
     "execution_count": 561,
     "metadata": {},
     "output_type": "execute_result"
    }
   ],
   "source": [
    "calc_energy_like_vect(ex1, ex1.mus[-1], ex1.covs[-1])"
   ]
  },
  {
   "cell_type": "code",
   "execution_count": 257,
   "metadata": {
    "collapsed": true
   },
   "outputs": [],
   "source": [
    "l = 0"
   ]
  },
  {
   "cell_type": "code",
   "execution_count": 317,
   "metadata": {},
   "outputs": [
    {
     "data": {
      "text/plain": [
       "(500, 4)"
      ]
     },
     "execution_count": 317,
     "metadata": {},
     "output_type": "execute_result"
    }
   ],
   "source": [
    "k_m = ex1.obs - ex1.mus[-1][l, :]\n",
    "np.shape(k_m)"
   ]
  },
  {
   "cell_type": "code",
   "execution_count": 334,
   "metadata": {
    "collapsed": true
   },
   "outputs": [],
   "source": [
    "biggy = np.tile(np.expand_dims(np.linalg.inv(ex1.covs[-1][l, :, :]), axis=2), 500)"
   ]
  },
  {
   "cell_type": "code",
   "execution_count": 335,
   "metadata": {},
   "outputs": [
    {
     "data": {
      "text/plain": [
       "(4, 4, 500)"
      ]
     },
     "execution_count": 335,
     "metadata": {},
     "output_type": "execute_result"
    }
   ],
   "source": [
    "np.shape(biggy)"
   ]
  },
  {
   "cell_type": "code",
   "execution_count": 342,
   "metadata": {},
   "outputs": [
    {
     "data": {
      "text/plain": [
       "(4, 500, 4)"
      ]
     },
     "execution_count": 342,
     "metadata": {},
     "output_type": "execute_result"
    }
   ],
   "source": [
    "np.shape(k_m @ biggy @ n_k)"
   ]
  },
  {
   "cell_type": "code",
   "execution_count": 377,
   "metadata": {},
   "outputs": [
    {
     "data": {
      "text/plain": [
       "(4, 4)"
      ]
     },
     "execution_count": 377,
     "metadata": {},
     "output_type": "execute_result"
    }
   ],
   "source": [
    "np.shape(np.linalg.inv(ex1.covs[-1][l, :, :]))"
   ]
  },
  {
   "cell_type": "code",
   "execution_count": 378,
   "metadata": {},
   "outputs": [
    {
     "data": {
      "text/plain": [
       "(500, 4)"
      ]
     },
     "execution_count": 378,
     "metadata": {},
     "output_type": "execute_result"
    }
   ],
   "source": [
    "np.shape(k_m)"
   ]
  },
  {
   "cell_type": "code",
   "execution_count": 386,
   "metadata": {},
   "outputs": [
    {
     "data": {
      "text/plain": [
       "(500, 4)"
      ]
     },
     "execution_count": 386,
     "metadata": {},
     "output_type": "execute_result"
    }
   ],
   "source": [
    "np.shape(n_k)"
   ]
  },
  {
   "cell_type": "code",
   "execution_count": 411,
   "metadata": {},
   "outputs": [
    {
     "data": {
      "text/plain": [
       "0.15665049215631499"
      ]
     },
     "execution_count": 411,
     "metadata": {},
     "output_type": "execute_result"
    }
   ],
   "source": [
    "a[0]*covy[0,0]+a[1]*covy[0,1]+a[2]*covy[0,2]+a[3]*covy[0,3]"
   ]
  },
  {
   "cell_type": "code",
   "execution_count": 399,
   "metadata": {},
   "outputs": [
    {
     "data": {
      "text/plain": [
       "array([-2.09585201, -4.18724516, -5.32153163, -1.30571602])"
      ]
     },
     "execution_count": 399,
     "metadata": {},
     "output_type": "execute_result"
    }
   ],
   "source": [
    "a = 0.5 * ex1.obs[0] - ex1.mus[-1][l, :]\n",
    "a"
   ]
  },
  {
   "cell_type": "code",
   "execution_count": 401,
   "metadata": {},
   "outputs": [
    {
     "data": {
      "text/plain": [
       "array([[ 2.81488126, -0.42904407, -0.98331467,  0.74520629],\n",
       "       [-0.42904407,  2.92169317,  0.75536597, -0.58138011],\n",
       "       [-0.98331467,  0.75536597,  3.4035855 , -1.11943971],\n",
       "       [ 0.74520629, -0.58138011, -1.11943971,  3.73813331]])"
      ]
     },
     "execution_count": 401,
     "metadata": {},
     "output_type": "execute_result"
    }
   ],
   "source": [
    "covy = np.linalg.inv(ex1.covs[-1][l, :, :])\n",
    "covy"
   ]
  },
  {
   "cell_type": "code",
   "execution_count": 414,
   "metadata": {
    "collapsed": true
   },
   "outputs": [],
   "source": [
    "np.einsum?"
   ]
  },
  {
   "cell_type": "code",
   "execution_count": 417,
   "metadata": {
    "collapsed": true
   },
   "outputs": [],
   "source": [
    "A = np.arange(25).reshape(5,5)"
   ]
  },
  {
   "cell_type": "code",
   "execution_count": 418,
   "metadata": {},
   "outputs": [
    {
     "data": {
      "text/plain": [
       "array([[ 0,  1,  2,  3,  4],\n",
       "       [ 5,  6,  7,  8,  9],\n",
       "       [10, 11, 12, 13, 14],\n",
       "       [15, 16, 17, 18, 19],\n",
       "       [20, 21, 22, 23, 24]])"
      ]
     },
     "execution_count": 418,
     "metadata": {},
     "output_type": "execute_result"
    }
   ],
   "source": [
    "A"
   ]
  },
  {
   "cell_type": "code",
   "execution_count": 419,
   "metadata": {},
   "outputs": [
    {
     "data": {
      "text/plain": [
       "array([[  0,   1,   4,   9,  16],\n",
       "       [ 25,  36,  49,  64,  81],\n",
       "       [100, 121, 144, 169, 196],\n",
       "       [225, 256, 289, 324, 361],\n",
       "       [400, 441, 484, 529, 576]])"
      ]
     },
     "execution_count": 419,
     "metadata": {},
     "output_type": "execute_result"
    }
   ],
   "source": [
    "np.einsum('ij,ij->ij', A, A)"
   ]
  },
  {
   "cell_type": "code",
   "execution_count": 421,
   "metadata": {},
   "outputs": [
    {
     "data": {
      "text/plain": [
       "array([ 750,  855,  970, 1095, 1230])"
      ]
     },
     "execution_count": 421,
     "metadata": {},
     "output_type": "execute_result"
    }
   ],
   "source": [
    "np.einsum('i...,i...', A, A)"
   ]
  },
  {
   "cell_type": "code",
   "execution_count": 424,
   "metadata": {},
   "outputs": [
    {
     "data": {
      "text/plain": [
       "array([[0, 1, 2],\n",
       "       [3, 4, 5]])"
      ]
     },
     "execution_count": 424,
     "metadata": {},
     "output_type": "execute_result"
    }
   ],
   "source": [
    "c = np.arange(6).reshape(2,3)\n",
    "c"
   ]
  },
  {
   "cell_type": "code",
   "execution_count": 431,
   "metadata": {},
   "outputs": [
    {
     "data": {
      "text/plain": [
       "array([50, 55, 60, 65, 70])"
      ]
     },
     "execution_count": 431,
     "metadata": {},
     "output_type": "execute_result"
    }
   ],
   "source": [
    "np.einsum('i...->...', A)"
   ]
  },
  {
   "cell_type": "code",
   "execution_count": null,
   "metadata": {
    "collapsed": true
   },
   "outputs": [],
   "source": []
  },
  {
   "cell_type": "code",
   "execution_count": 454,
   "metadata": {
    "collapsed": true
   },
   "outputs": [],
   "source": [
    "storage = []\n",
    "for x in range(500):\n",
    "    storage.append(np.einsum(\"i,ji,j\",\n",
    "              ex1.obs[x] - ex1.mus[-1][l, :],\n",
    "              np.linalg.inv(ex1.covs[-1][l, :, :]), \n",
    "              ex1.obs[x] - ex1.mus[-1][l, :]))"
   ]
  },
  {
   "cell_type": "code",
   "execution_count": 447,
   "metadata": {},
   "outputs": [
    {
     "data": {
      "text/plain": [
       "[27.264302123034213,\n",
       " 34.725925892756749,\n",
       " 51.562027929069345,\n",
       " 19.763781568869927,\n",
       " 42.18733969893519,\n",
       " 30.691825905047047,\n",
       " 37.883075038915948,\n",
       " 46.529475248264824,\n",
       " 32.071042561144104,\n",
       " 34.740831233606592,\n",
       " 33.816402002935462,\n",
       " 48.71361347886625,\n",
       " 29.165794383061947,\n",
       " 32.257855817358468,\n",
       " 19.172849051341252,\n",
       " 29.276301281077608,\n",
       " 28.26843577646228,\n",
       " 34.374765836003924,\n",
       " 32.950314213219357,\n",
       " 40.984962444741598,\n",
       " 44.517444394201455,\n",
       " 18.474905033425191,\n",
       " 32.141262735667603,\n",
       " 38.875748830330011,\n",
       " 41.369013527509047,\n",
       " 5.7585284238793824,\n",
       " 1.6755716090817354,\n",
       " 6.058501477816888,\n",
       " 9.3155457918899138,\n",
       " 4.3553278574960927,\n",
       " 2.8798150579700605,\n",
       " 5.8315836090633404,\n",
       " 1.5889046130869071,\n",
       " 2.2874617532132602,\n",
       " 4.2838156225792883,\n",
       " 4.1480682538190701,\n",
       " 10.262156570606528,\n",
       " 5.4734000110011856,\n",
       " 0.27638681309051866,\n",
       " 5.0324470913887112,\n",
       " 2.6198654240372816,\n",
       " 11.108398021045582,\n",
       " 2.3842267410311555,\n",
       " 8.6631338976161771,\n",
       " 3.1354170945973099,\n",
       " 1.9015982546667007,\n",
       " 2.3813640965741194,\n",
       " 7.8568514610861966,\n",
       " 2.5018520027161384,\n",
       " 2.6753825569440206,\n",
       " 1.126728692564831,\n",
       " 8.6399640769929498,\n",
       " 2.008245637036687,\n",
       " 1.2956830885214323,\n",
       " 3.0358809584328981,\n",
       " 0.72298896151988645,\n",
       " 0.35618025731057784,\n",
       " 2.2632695688567557,\n",
       " 6.4088081569672894,\n",
       " 2.513045215690231,\n",
       " 9.3502326990693891,\n",
       " 0.61859328344965803,\n",
       " 5.7400301738389468,\n",
       " 1.3428132074886925,\n",
       " 0.74627701385722633,\n",
       " 3.2925821576999885,\n",
       " 7.0982772927297928,\n",
       " 9.5986008324752117,\n",
       " 0.34050346837804873,\n",
       " 8.950367464289787,\n",
       " 0.81133076140315186,\n",
       " 0.62548666001492015,\n",
       " 1.4411202378858252,\n",
       " 6.568587412322044,\n",
       " 7.3054620019166592,\n",
       " 0.51711822398614604,\n",
       " 0.88106285578098043,\n",
       " 4.5224792788668307,\n",
       " 2.2421183779757006,\n",
       " 3.159870748268232,\n",
       " 1.400143090426768,\n",
       " 0.81546893939016252,\n",
       " 1.3306670281640729,\n",
       " 6.1958207523248685,\n",
       " 6.6598857334602251,\n",
       " 0.775930175726678,\n",
       " 1.9573330438740921,\n",
       " 4.6258830822819315,\n",
       " 14.198109419771487,\n",
       " 12.474208048424879,\n",
       " 12.711923673399571,\n",
       " 2.8076397203003371,\n",
       " 4.8349548448399418,\n",
       " 5.1061829191674422,\n",
       " 9.4668625265580229,\n",
       " 5.1028644556960367,\n",
       " 1.892717346826261,\n",
       " 13.699153656439556,\n",
       " 2.8235033679105745,\n",
       " 6.4602076888271087,\n",
       " 2.9610015969405996,\n",
       " 63.140795622446156,\n",
       " 16.702501274761929,\n",
       " 10.670481306145145,\n",
       " 45.002868775032816,\n",
       " 10.003800859406663,\n",
       " 13.462095322520479,\n",
       " 34.207684830223961,\n",
       " 10.730079990904041,\n",
       " 8.3860619167052501,\n",
       " 21.986939628894866,\n",
       " 21.810702160337684,\n",
       " 9.3321558850733002,\n",
       " 30.871907789502881,\n",
       " 32.42266514704778,\n",
       " 29.20516635336649,\n",
       " 30.50323651339173,\n",
       " 19.87554842385644,\n",
       " 23.726096815515568,\n",
       " 6.7196925135242029,\n",
       " 8.8961873498439576,\n",
       " 13.605016729599573,\n",
       " 35.75368666689694,\n",
       " 5.1952313160951205,\n",
       " 33.514918993877529,\n",
       " 15.747429922892945,\n",
       " 17.166559453331406,\n",
       " 11.947377201319908,\n",
       " 7.3752233589642904,\n",
       " 28.420652293902652,\n",
       " 6.4896277210678166,\n",
       " 10.0836063216233,\n",
       " 3.7203529179681527,\n",
       " 8.45512311139621,\n",
       " 9.9524843442055939,\n",
       " 11.225461862721204,\n",
       " 11.728584257687924,\n",
       " 14.554550178091866,\n",
       " 12.847619358367135,\n",
       " 6.7356392844199249,\n",
       " 16.288082450674914,\n",
       " 8.8121876340537373,\n",
       " 16.403503842560553,\n",
       " 23.193657047881107,\n",
       " 26.307705159548785,\n",
       " 28.167984933279421,\n",
       " 16.101667008264865,\n",
       " 19.610161667322224,\n",
       " 20.109719415199987,\n",
       " 10.319292951568919,\n",
       " 24.963746282203076,\n",
       " 27.380258948978355,\n",
       " 38.342344464644363,\n",
       " 5.5920098946464076,\n",
       " 8.0315949279587748,\n",
       " 15.140206158495472,\n",
       " 14.50448551896881,\n",
       " 9.3051583955465489,\n",
       " 9.2142621753128733,\n",
       " 22.621267781175032,\n",
       " 20.985754713867738,\n",
       " 21.013545705985536,\n",
       " 27.045270205822732,\n",
       " 15.224128201956372,\n",
       " 37.284348590420443,\n",
       " 8.2288060201169912,\n",
       " 44.698341295483424,\n",
       " 21.958917153041149,\n",
       " 10.274067676007931,\n",
       " 8.8786302325407593,\n",
       " 7.4094003097654486,\n",
       " 33.618999486353346,\n",
       " 17.128738435794901,\n",
       " 17.885700774631903,\n",
       " 19.462415592419013,\n",
       " 3.3980049419894107,\n",
       " 6.020493125710809,\n",
       " 19.196277911343962,\n",
       " 6.6093755152336708,\n",
       " 26.071355569111763,\n",
       " 28.032176953780155,\n",
       " 6.9207069558915224,\n",
       " 6.9511608102614684,\n",
       " 4.6495347699012672,\n",
       " 18.740539282804857,\n",
       " 30.602242603471154,\n",
       " 20.096881817837748,\n",
       " 13.409646917049262,\n",
       " 20.776881567924363,\n",
       " 11.271810564902159,\n",
       " 39.740460759341431,\n",
       " 8.6344609818886653,\n",
       " 17.591581774659957,\n",
       " 2.7204156837819573,\n",
       " 9.0617416599239942,\n",
       " 5.347782670220524,\n",
       " 20.274066449371922,\n",
       " 16.40144462290926,\n",
       " 42.097393256971692,\n",
       " 10.315081786806715,\n",
       " 34.724692343223943,\n",
       " 39.269991534703493,\n",
       " 25.033549843126476,\n",
       " 28.71519343693873,\n",
       " 25.06884092392265,\n",
       " 32.578006305686635,\n",
       " 35.739810801070441,\n",
       " 25.005051870328781,\n",
       " 33.275283031652961,\n",
       " 43.133559407432173,\n",
       " 52.994576506986029,\n",
       " 36.431630184869277,\n",
       " 31.547047517480564,\n",
       " 31.137714782043162,\n",
       " 44.954626046615004,\n",
       " 24.534822284436281,\n",
       " 30.270495450281327,\n",
       " 39.263245418433215,\n",
       " 44.673709945845012,\n",
       " 19.705150640714113,\n",
       " 20.713634298955746,\n",
       " 27.255843937380906,\n",
       " 41.785183859209091,\n",
       " 37.908613536556317,\n",
       " 26.070829133829825,\n",
       " 44.903840427570898,\n",
       " 25.030233401816389,\n",
       " 37.217726237665026,\n",
       " 31.767811361876259,\n",
       " 24.638993600946847,\n",
       " 32.596387450049207,\n",
       " 28.963373030600767,\n",
       " 19.786561169474339,\n",
       " 27.716293654402449,\n",
       " 32.336858380735265,\n",
       " 39.182908559555699,\n",
       " 30.410951537303045,\n",
       " 42.884043047380757,\n",
       " 40.212773560607801,\n",
       " 20.930730221966034,\n",
       " 39.845590559035884,\n",
       " 24.699408990598116,\n",
       " 23.476844826007465,\n",
       " 50.436302888447756,\n",
       " 26.189383700477922,\n",
       " 32.555448196574332,\n",
       " 36.511213057395651,\n",
       " 42.88953176409273,\n",
       " 39.238381164259458,\n",
       " 36.855001766595649,\n",
       " 11.329230803636136,\n",
       " 11.396901787509755,\n",
       " 2.5043754724080829,\n",
       " 8.5062418841985945,\n",
       " 3.5732227426838943,\n",
       " 32.872406827965193,\n",
       " 6.5571250134583909,\n",
       " 10.926413658289297,\n",
       " 33.927356579892475,\n",
       " 9.0491011675285975,\n",
       " 21.799640813128224,\n",
       " 9.2894010946797394,\n",
       " 20.110807819927775,\n",
       " 7.7098295868568529,\n",
       " 17.879824267856606,\n",
       " 15.648632757980458,\n",
       " 5.6949551415967408,\n",
       " 5.168394880331304,\n",
       " 3.4882659642918115,\n",
       " 5.3101045342464879,\n",
       " 15.084819918757733,\n",
       " 5.9468778977782364,\n",
       " 21.211858602636845,\n",
       " 6.6530786309750507,\n",
       " 13.191042823110928,\n",
       " 28.434633154284491,\n",
       " 28.915465031076558,\n",
       " 18.00278366130393,\n",
       " 31.92171667997129,\n",
       " 14.969494420291173,\n",
       " 30.376604313760094,\n",
       " 15.942376581669148,\n",
       " 28.482700381282022,\n",
       " 16.62138743279662,\n",
       " 25.773038474451027,\n",
       " 35.940686711314584,\n",
       " 33.735801838172016,\n",
       " 37.168775682535767,\n",
       " 25.683094624711373,\n",
       " 20.88228161750013,\n",
       " 51.069190090878081,\n",
       " 31.798364780801233,\n",
       " 32.979650841754676,\n",
       " 31.56879546875961,\n",
       " 37.141615230488597,\n",
       " 42.998814153674239,\n",
       " 36.923616613411582,\n",
       " 43.552488431396988,\n",
       " 30.176220396320407,\n",
       " 37.68695828528238,\n",
       " 10.177161134754206,\n",
       " 1.6416938797403215,\n",
       " 2.1147638232524328,\n",
       " 5.5486503616784999,\n",
       " 0.66901457814079446,\n",
       " 2.4312807675551475,\n",
       " 2.9813170407954521,\n",
       " 11.825098789561045,\n",
       " 1.5331414749505041,\n",
       " 4.5586986055824257,\n",
       " 7.9153087368396449,\n",
       " 2.2521259664108468,\n",
       " 3.5636851313192492,\n",
       " 1.8077126725235382,\n",
       " 4.6512720275775727,\n",
       " 7.5544693199805026,\n",
       " 2.7289108564296036,\n",
       " 5.9499155809799467,\n",
       " 3.9639615416853644,\n",
       " 4.3932859122582553,\n",
       " 2.0866781596227399,\n",
       " 2.056313578933346,\n",
       " 5.6552336951392377,\n",
       " 0.63271217705278637,\n",
       " 1.5446345550767948,\n",
       " 5.6014140744123546,\n",
       " 3.6034250343550669,\n",
       " 3.3809483133767264,\n",
       " 1.9009522130364318,\n",
       " 4.7466407678829174,\n",
       " 2.1966472669726422,\n",
       " 3.3702572581486652,\n",
       " 0.37757856841992932,\n",
       " 4.4015923297579631,\n",
       " 6.5004631036247762,\n",
       " 6.7546404870581576,\n",
       " 3.0532264044164226,\n",
       " 2.6532817958987072,\n",
       " 2.0619821652975103,\n",
       " 8.5108583190759841,\n",
       " 0.43584487515344428,\n",
       " 2.9018330248035054,\n",
       " 1.6040601635160241,\n",
       " 4.3698321066765757,\n",
       " 4.4854243164216951,\n",
       " 2.4888014153738225,\n",
       " 12.935076960776806,\n",
       " 2.8619929853201671,\n",
       " 3.7368600118804807,\n",
       " 15.632208272268215,\n",
       " 4.1526953358745153,\n",
       " 0.91038229822671068,\n",
       " 12.867025860358121,\n",
       " 3.5546675776156387,\n",
       " 0.92707577672741481,\n",
       " 5.6679284646285533,\n",
       " 2.8419322447046107,\n",
       " 1.2998318599861263,\n",
       " 5.5273423960604688,\n",
       " 5.81249790600525,\n",
       " 8.401914005458373,\n",
       " 9.3147145003007665,\n",
       " 6.6185101946914955,\n",
       " 1.7200306553146538,\n",
       " 4.5431912423988576,\n",
       " 3.3385241718606919,\n",
       " 2.734624547225696,\n",
       " 7.6291578771835438,\n",
       " 2.345318375687778,\n",
       " 2.5619422569565833,\n",
       " 10.502323719340694,\n",
       " 2.989886762763371,\n",
       " 12.301110998335361,\n",
       " 4.2078321424663772,\n",
       " 4.3782534143492162,\n",
       " 10.917195246371353,\n",
       " 3.1642195879351762,\n",
       " 2.1951523754053852,\n",
       " 3.8608040265136019,\n",
       " 3.924865480726039,\n",
       " 3.3866527067812324,\n",
       " 1.5382802200844197,\n",
       " 1.9466601480742989,\n",
       " 4.1792417149849381,\n",
       " 1.9542277674226995,\n",
       " 0.82226221782577791,\n",
       " 0.54406563575103695,\n",
       " 1.4440788942835021,\n",
       " 2.5035223492837342,\n",
       " 1.4201466883236658,\n",
       " 6.73987200878903,\n",
       " 2.9359557417008846,\n",
       " 7.2261493228353588,\n",
       " 6.3939056019126941,\n",
       " 2.123391227230162,\n",
       " 5.9634438501390434,\n",
       " 1.4200603253515405,\n",
       " 6.7442858954084999,\n",
       " 2.7051694908984385,\n",
       " 2.4381768033854483,\n",
       " 37.317076577068711,\n",
       " 52.693244102052581,\n",
       " 21.380371246441296,\n",
       " 15.534725882238803,\n",
       " 15.928203293184545,\n",
       " 21.746470988763072,\n",
       " 24.269172676844299,\n",
       " 45.154362505510846,\n",
       " 20.769931484860177,\n",
       " 24.278705713737864,\n",
       " 21.963147005393736,\n",
       " 26.259048944106699,\n",
       " 24.078258296885629,\n",
       " 25.352564273328117,\n",
       " 39.23489580861041,\n",
       " 25.809764563025755,\n",
       " 33.083722364649063,\n",
       " 29.984679639042149,\n",
       " 25.160771777808822,\n",
       " 22.308460361297943,\n",
       " 36.03105478801983,\n",
       " 31.158445253734786,\n",
       " 25.517727460877147,\n",
       " 50.013142755715755,\n",
       " 50.12935796120798,\n",
       " 10.863932029899292,\n",
       " 29.549534499415763,\n",
       " 40.328022346229112,\n",
       " 29.359076260083665,\n",
       " 31.119023162912789,\n",
       " 30.93619130643599,\n",
       " 26.524501950186906,\n",
       " 33.48931884420211,\n",
       " 27.367363880621255,\n",
       " 26.176852262385133,\n",
       " 41.858813167519621,\n",
       " 14.874610619943148,\n",
       " 25.457354953638895,\n",
       " 28.433706669457788,\n",
       " 45.485927560291543,\n",
       " 20.192747339682295,\n",
       " 21.546738627563258,\n",
       " 51.587947586167466,\n",
       " 31.035916890298296,\n",
       " 32.161601826527999,\n",
       " 21.557467429835246,\n",
       " 44.047354891441074,\n",
       " 32.785963874506166,\n",
       " 24.456935958856359,\n",
       " 35.883256902147153,\n",
       " 40.571583188134902,\n",
       " 39.041459386085691,\n",
       " 21.628077811757898,\n",
       " 34.40919070908631,\n",
       " 23.989235641710728,\n",
       " 29.792910716111241,\n",
       " 38.121352233703853,\n",
       " 35.637152032871789,\n",
       " 39.836819395336377,\n",
       " 27.237034636015302,\n",
       " 29.801712161826426,\n",
       " 35.823566356839692,\n",
       " 33.502874531367844,\n",
       " 46.271799467470686,\n",
       " 26.036326231423949,\n",
       " 27.174676687117884,\n",
       " 33.563276204153127,\n",
       " 43.739701732814808,\n",
       " 69.127059296876865,\n",
       " 25.482490421475099,\n",
       " 42.566752229623191,\n",
       " 20.567593993206021,\n",
       " 15.483799443255506,\n",
       " 24.997699960012646,\n",
       " 30.687464426050898,\n",
       " 26.832125745609726,\n",
       " 24.851884901080687,\n",
       " 23.294402209091196,\n",
       " 31.454538242057716,\n",
       " 33.234961659814225,\n",
       " 58.058102614702065,\n",
       " 31.531489629304961,\n",
       " 40.725012987267448,\n",
       " 41.421815579221402,\n",
       " 27.35810103418325,\n",
       " 27.292391335368126,\n",
       " 20.903942095383886,\n",
       " 26.173840360998408,\n",
       " 30.217009814191318,\n",
       " 17.915163754642425,\n",
       " 31.511740853356216,\n",
       " 23.161029022082239,\n",
       " 44.283743897282797,\n",
       " 30.446283833345447,\n",
       " 34.644834258776648,\n",
       " 28.634729146101709,\n",
       " 24.556794595291841,\n",
       " 25.421165877832156,\n",
       " 42.202764499941757,\n",
       " 36.188753763234402]"
      ]
     },
     "execution_count": 447,
     "metadata": {},
     "output_type": "execute_result"
    }
   ],
   "source": [
    "storage"
   ]
  },
  {
   "cell_type": "code",
   "execution_count": 494,
   "metadata": {},
   "outputs": [
    {
     "data": {
      "text/plain": [
       "-2.1719932482335595"
      ]
     },
     "execution_count": 494,
     "metadata": {},
     "output_type": "execute_result"
    }
   ],
   "source": [
    "0.5 * np.log(np.linalg.det(ex1.covs[-1][l, :, :]))"
   ]
  },
  {
   "cell_type": "code",
   "execution_count": 533,
   "metadata": {
    "collapsed": true
   },
   "outputs": [],
   "source": [
    "result = np.einsum(\"...i,ji,j...\",\n",
    "              ex1.obs - ex1.mus[-1][l, :] * 0.5,\n",
    "              np.linalg.inv(ex1.covs[-1][l, :, :]), \n",
    "              np.array([ex1.obs - ex1.mus[-1][l, :]]).T + 0.5 * np.log(np.linalg.det(ex1.covs[-1][l, :, :])))"
   ]
  },
  {
   "cell_type": "code",
   "execution_count": 538,
   "metadata": {},
   "outputs": [
    {
     "data": {
      "text/plain": [
       "array([[[ 2.9012738 ,  0.67762351, -0.57694045,  0.01668526],\n",
       "        [ 2.14935657,  0.39984594, -2.05626278, -1.98456131],\n",
       "        [ 3.41234178, -0.18104853, -1.7276365 , -1.86992016],\n",
       "        ..., \n",
       "        [ 2.38019015,  0.84536791, -1.32342355, -1.16898463],\n",
       "        [ 2.86212437,  0.23480458, -1.89358282, -1.8142334 ],\n",
       "        [ 2.5267637 ,  1.00882579, -2.00415793, -0.71133564]]])"
      ]
     },
     "execution_count": 538,
     "metadata": {},
     "output_type": "execute_result"
    }
   ],
   "source": [
    "np.array([ex1.obs - ex1.mus[-1][l, :]])"
   ]
  },
  {
   "cell_type": "code",
   "execution_count": 534,
   "metadata": {},
   "outputs": [
    {
     "data": {
      "text/plain": [
       "(500, 500)"
      ]
     },
     "execution_count": 534,
     "metadata": {},
     "output_type": "execute_result"
    }
   ],
   "source": [
    "np.shape(result)"
   ]
  },
  {
   "cell_type": "code",
   "execution_count": 514,
   "metadata": {},
   "outputs": [
    {
     "data": {
      "text/plain": [
       "array([-48.1035708 , -45.62169878, -31.85158918, -48.25177104,\n",
       "       -44.29953693, -49.10014462, -37.54666769, -29.93426326,\n",
       "       -40.56699725, -43.93103317, -45.88485474, -19.65088112,\n",
       "       -41.6997119 , -49.62192155, -57.6973983 , -32.74813996,\n",
       "       -55.52006637, -39.64249278, -53.23731345, -47.75590293,\n",
       "       -32.16173968, -49.2452958 , -50.49755863, -39.01060259,\n",
       "       -39.48103782, -63.55253732, -79.08564061, -80.05900739,\n",
       "       -53.69590931, -78.7923871 , -65.11095105, -51.89324926,\n",
       "       -78.21163134, -60.55957037, -65.88818483, -82.31537765,\n",
       "       -55.26326245, -62.16988832, -74.76979425, -60.19976869,\n",
       "       -63.60725397, -83.77985405, -72.83795699, -73.19197356,\n",
       "       -65.04681483, -78.62250183, -77.35338817, -84.47436632,\n",
       "       -66.98161608, -69.05660101, -75.7228703 , -53.28111843,\n",
       "       -66.07969807, -71.03902113, -76.18037224, -76.73911117,\n",
       "       -74.00781321, -74.686015  , -66.44000277, -76.67942989,\n",
       "       -84.57760715, -74.99170894, -83.27305353, -71.50395478,\n",
       "       -71.19951947, -60.42875103, -60.94899448, -47.99310402,\n",
       "       -71.47643518, -52.74973395, -78.33430501, -72.39692523,\n",
       "       -67.8694952 , -77.66030295, -72.02413867, -76.00581503,\n",
       "       -66.0257603 , -62.00491294, -72.96262825, -58.52828305,\n",
       "       -72.50623057, -72.20025296, -64.95751368, -68.9473768 ,\n",
       "       -78.28037166, -73.79806189, -68.14829756, -64.80765641,\n",
       "       -65.78619254, -82.70184733, -86.39900585, -76.46564891,\n",
       "       -79.56371818, -59.19533789, -77.82232287, -81.026418  ,\n",
       "       -64.54183637, -81.75423556, -62.03939121, -54.67351083,\n",
       "       -72.6425468 , -40.72713436, -74.14274811, -77.3766373 ,\n",
       "       -65.18180942, -79.68742615, -73.82009185, -38.97873155,\n",
       "       -62.9858593 , -84.43940535, -63.69363304, -65.47351243,\n",
       "       -62.50257424, -44.82618616, -66.82930509, -65.66923673,\n",
       "       -65.15940692, -69.28120517, -71.4929906 , -65.43982559,\n",
       "       -75.36899309, -73.20984981, -49.94175131, -75.68001445,\n",
       "       -74.75486715, -58.90632158, -67.71528297, -62.63192774,\n",
       "       -66.26211401, -62.08979811, -71.83767514, -73.74594409,\n",
       "       -56.08590464, -75.6423046 , -84.01613708, -66.86204855,\n",
       "       -75.95889115, -60.09850078, -83.45821771, -68.915563  ,\n",
       "       -71.62011927, -82.94229357, -78.22610483, -78.54800712,\n",
       "       -48.88899336, -74.98251897, -65.01525153, -70.22946399,\n",
       "       -75.89345339, -49.65533262, -63.04921751, -74.5160957 ,\n",
       "       -67.74948891, -62.89645708, -66.47419365, -76.15349352,\n",
       "       -74.52546035, -77.00064272, -83.30977119, -56.39090474,\n",
       "       -56.88753314, -64.6243181 , -70.2569421 , -73.32719915,\n",
       "       -57.62798725, -75.71475931, -61.61785234, -67.41822935,\n",
       "       -69.11502422, -70.61115976, -59.25000748, -56.85814783,\n",
       "       -72.79276551, -47.08008238, -71.27903716, -74.26090079,\n",
       "       -82.10612779, -74.94935704, -68.85301277, -74.87841586,\n",
       "       -63.70907363, -58.80283244, -66.0255318 , -74.62379733,\n",
       "       -73.04605287, -71.42259544, -74.48119659, -50.60440267,\n",
       "       -83.55797702, -81.45865711, -48.39835965, -67.0985484 ,\n",
       "       -48.46610449, -59.52949484, -70.68621051, -83.63402408,\n",
       "       -45.25381452, -79.6940818 , -49.23287494, -49.60964552,\n",
       "       -26.6995163 , -28.96214979, -46.94130777, -36.99994612,\n",
       "       -50.36736464, -32.84137154, -37.26302222, -53.30809117,\n",
       "       -33.9186064 , -28.84395393, -18.49880044, -43.66064167,\n",
       "       -46.89779627, -44.38472883, -33.83421554, -33.16940466,\n",
       "       -39.81009568, -21.46536562, -46.28828507, -65.98842672,\n",
       "       -46.7154696 , -43.06378813, -50.99838869, -45.97281442,\n",
       "       -51.09868852, -31.90404118, -39.55972247, -32.05474274,\n",
       "       -57.22798883, -53.21544347, -47.58995477, -53.90263632,\n",
       "       -50.49056965, -49.99546497, -33.66570148, -53.91909155,\n",
       "       -48.59131311, -36.20956016, -54.52892661, -54.61068046,\n",
       "       -23.1543724 , -46.74317626, -56.9312592 , -13.12633744,\n",
       "       -47.45024834, -29.07120499, -36.73079803, -30.56774129,\n",
       "       -45.7929681 , -34.08178567, -44.92879033, -79.4733556 ,\n",
       "       -74.97891553, -58.95952779, -75.37090232, -49.39509136,\n",
       "       -76.3061671 , -76.11331609, -30.08082499, -72.03583654,\n",
       "       -70.40948745, -77.46552034, -76.98663307, -69.11545911,\n",
       "       -59.19902453, -68.29388961, -83.02676932, -69.19414033,\n",
       "       -62.78084467, -73.00405978, -75.37883774, -77.08842719,\n",
       "       -66.45212894, -83.4215531 , -63.86020245, -32.96299248,\n",
       "       -38.02876682, -59.28307384, -46.63179885, -56.22164052,\n",
       "       -47.97765279, -56.91936106, -55.02741942, -64.22982587,\n",
       "       -48.4465845 , -28.38970728, -56.92561251, -41.44205158,\n",
       "       -47.49152064, -54.79899505,  -7.10557109, -51.38845675,\n",
       "       -37.28873396, -51.39664349, -39.76472685, -37.31687786,\n",
       "       -43.86758551, -36.41456128, -55.5525932 , -27.64624443,\n",
       "       -58.48582861, -78.41037126, -67.1941466 , -68.24139038,\n",
       "       -73.71474973, -78.77926476, -74.83193591, -75.19164357,\n",
       "       -76.55542074, -70.93311744, -76.94002834, -73.02036134,\n",
       "       -67.24670547, -67.70991994, -57.95559981, -72.84101037,\n",
       "       -69.71436461, -75.87069388, -74.12470444, -79.6020707 ,\n",
       "       -71.65308372, -70.07176504, -66.26111806, -73.76648382,\n",
       "       -69.173317  , -66.19562963, -63.0450004 , -63.2440587 ,\n",
       "       -63.217601  , -58.70100016, -80.82657691, -59.10689246,\n",
       "       -71.87283856, -56.26825502, -49.7718226 , -81.87148766,\n",
       "       -82.22621568, -66.22780929, -70.88394692, -55.17794218,\n",
       "       -75.97405564, -72.6800001 , -64.38805467, -75.8458315 ,\n",
       "       -72.93593888, -61.91367843, -58.67945369, -63.78710831,\n",
       "       -63.69368554, -33.66950976, -64.74615454, -68.90828227,\n",
       "       -59.49280852, -66.5341482 , -71.64798496, -66.35754624,\n",
       "       -58.98424269, -68.92021066, -53.65455371, -66.2204026 ,\n",
       "       -86.25175862, -58.9900408 , -72.10475574, -65.98281491,\n",
       "       -70.48330327, -68.6732165 , -68.97314883, -77.83210622,\n",
       "       -68.48040872, -75.19173686, -68.41452251, -80.15394036,\n",
       "       -63.18171776, -59.14474137, -61.67064539, -45.57224907,\n",
       "       -62.07850128, -76.45496515, -79.70748042, -81.26501704,\n",
       "       -77.88172432, -76.79071219, -67.89253404, -69.19429355,\n",
       "       -78.54034982, -68.16303964, -73.19440334, -72.33350326,\n",
       "       -82.29612183, -65.28682469, -71.25852793, -66.35761389,\n",
       "       -76.5883104 , -72.96808063, -80.46071712, -61.07507175,\n",
       "       -67.64807447, -64.88600036, -68.30407014, -67.97942023,\n",
       "       -17.93986681, -32.02168588, -53.46831502, -56.41354605,\n",
       "       -64.41763117, -48.30965503, -47.33737687, -32.20264575,\n",
       "       -45.99244642, -51.92060773, -58.09827966, -48.44340779,\n",
       "       -47.29877191, -49.39157398, -38.04328818, -52.80938411,\n",
       "       -37.33829434, -41.99885815, -46.03570822, -58.96953557,\n",
       "       -45.69810938, -48.73009671, -45.64536542, -41.13888821,\n",
       "       -22.19339231, -63.99538997, -34.93998318, -22.23273267,\n",
       "       -40.64457908, -41.25487569, -49.4941273 , -37.33401719,\n",
       "       -40.9231848 , -41.72553601, -57.15178051, -38.85790426,\n",
       "       -56.91453111, -46.97132223, -41.16922582, -30.98823199,\n",
       "       -58.09149592, -41.64613925, -40.33703591, -52.08617967,\n",
       "       -36.21551765, -44.55676909, -32.97402828, -48.98492708,\n",
       "       -49.69639838, -30.09218545, -40.17762028, -47.91733145,\n",
       "       -55.18055282, -44.72018421, -46.76520805, -52.38365425,\n",
       "       -27.14908618, -34.09975222, -43.52815146, -52.83530515,\n",
       "       -37.29788341, -39.40461023, -36.46672382, -39.60116236,\n",
       "       -42.90843468, -42.9758135 , -34.53485341, -37.96548798,\n",
       "       -11.61183307, -49.27922377, -41.90297678, -44.1343137 ,\n",
       "       -49.18811577, -58.17678225, -24.36552596, -32.0912694 ,\n",
       "       -43.00362667, -52.02439904, -46.60761363, -37.10334225,\n",
       "       -39.36076441, -46.22495095, -34.10504349, -28.65759659,\n",
       "       -53.47439317, -55.53519136, -58.9064639 , -47.64611196,\n",
       "       -54.93451222, -54.39896274, -37.28999897, -48.23906442,\n",
       "       -33.32008862, -36.78376439, -47.43867771, -29.19329254,\n",
       "       -46.44228345, -48.43271096, -39.38540449, -46.9536594 ])"
      ]
     },
     "execution_count": 514,
     "metadata": {},
     "output_type": "execute_result"
    }
   ],
   "source": [
    "result[0]"
   ]
  },
  {
   "cell_type": "code",
   "execution_count": 475,
   "metadata": {},
   "outputs": [
    {
     "data": {
      "text/plain": [
       "array([[ 2.9012738 ,  0.67762351, -0.57694045,  0.01668526],\n",
       "       [ 2.14935657,  0.39984594, -2.05626278, -1.98456131],\n",
       "       [ 3.41234178, -0.18104853, -1.7276365 , -1.86992016],\n",
       "       ..., \n",
       "       [ 2.38019015,  0.84536791, -1.32342355, -1.16898463],\n",
       "       [ 2.86212437,  0.23480458, -1.89358282, -1.8142334 ],\n",
       "       [ 2.5267637 ,  1.00882579, -2.00415793, -0.71133564]])"
      ]
     },
     "execution_count": 475,
     "metadata": {},
     "output_type": "execute_result"
    }
   ],
   "source": [
    "ex1.obs - ex1.mus[-1][l, :]"
   ]
  },
  {
   "cell_type": "code",
   "execution_count": null,
   "metadata": {
    "collapsed": true
   },
   "outputs": [],
   "source": []
  },
  {
   "cell_type": "code",
   "execution_count": null,
   "metadata": {
    "collapsed": true
   },
   "outputs": [],
   "source": []
  },
  {
   "cell_type": "code",
   "execution_count": null,
   "metadata": {
    "collapsed": true
   },
   "outputs": [],
   "source": []
  },
  {
   "cell_type": "code",
   "execution_count": 462,
   "metadata": {},
   "outputs": [
    {
     "data": {
      "text/plain": [
       "array([18, 21, 24])"
      ]
     },
     "execution_count": 462,
     "metadata": {},
     "output_type": "execute_result"
    }
   ],
   "source": [
    "A=np.arange(1,10).reshape(3,3)\n",
    "b=np.arange(3)\n",
    "\n",
    "np.einsum('ij,i',A,b)"
   ]
  },
  {
   "cell_type": "code",
   "execution_count": 458,
   "metadata": {},
   "outputs": [
    {
     "data": {
      "text/plain": [
       "array([[ 27.26430212,  22.26577054,  31.64020045, ...,  23.19793463,\n",
       "         27.96344027,  28.5609902 ],\n",
       "       [ 22.26577054,  34.72592589,  40.33073613, ...,  28.25526598,\n",
       "         37.6182903 ,  31.94147017],\n",
       "       [ 31.64020045,  40.33073613,  51.56202793, ...,  34.35320606,\n",
       "         46.22071121,  39.30899551],\n",
       "       ..., \n",
       "       [ 23.19793463,  28.25526598,  34.35320606, ...,  25.42116588,\n",
       "         31.82230308,  29.19659212],\n",
       "       [ 27.96344027,  37.6182903 ,  46.22071121, ...,  31.82230308,\n",
       "         42.2027645 ,  36.49311127],\n",
       "       [ 28.5609902 ,  31.94147017,  39.30899551, ...,  29.19659212,\n",
       "         36.49311127,  36.18875376]])"
      ]
     },
     "execution_count": 458,
     "metadata": {},
     "output_type": "execute_result"
    }
   ],
   "source": [
    "np.einsum(\"ki,ji,hj\",\n",
    "              k_m,\n",
    "              np.linalg.inv(ex1.covs[-1][l, :, :]), \n",
    "              n_k)"
   ]
  },
  {
   "cell_type": "code",
   "execution_count": 412,
   "metadata": {},
   "outputs": [
    {
     "data": {
      "text/plain": [
       "array([  0.15665049, -14.59521928, -17.75263803,   1.94873225])"
      ]
     },
     "execution_count": 412,
     "metadata": {},
     "output_type": "execute_result"
    }
   ],
   "source": [
    "a @ covy"
   ]
  },
  {
   "cell_type": "code",
   "execution_count": 403,
   "metadata": {},
   "outputs": [
    {
     "data": {
      "text/plain": [
       "array([-0.42904407,  2.92169317,  0.75536597, -0.58138011])"
      ]
     },
     "execution_count": 403,
     "metadata": {},
     "output_type": "execute_result"
    }
   ],
   "source": [
    "covy[:,1]"
   ]
  },
  {
   "cell_type": "code",
   "execution_count": 442,
   "metadata": {},
   "outputs": [
    {
     "data": {
      "text/plain": [
       "array([[ 27.26430212,  22.26577054,  31.64020045, ...,  23.19793463,\n",
       "         27.96344027,  28.5609902 ],\n",
       "       [ 22.26577054,  34.72592589,  40.33073613, ...,  28.25526598,\n",
       "         37.6182903 ,  31.94147017],\n",
       "       [ 31.64020045,  40.33073613,  51.56202793, ...,  34.35320606,\n",
       "         46.22071121,  39.30899551],\n",
       "       ..., \n",
       "       [ 23.19793463,  28.25526598,  34.35320606, ...,  25.42116588,\n",
       "         31.82230308,  29.19659212],\n",
       "       [ 27.96344027,  37.6182903 ,  46.22071121, ...,  31.82230308,\n",
       "         42.2027645 ,  36.49311127],\n",
       "       [ 28.5609902 ,  31.94147017,  39.30899551, ...,  29.19659212,\n",
       "         36.49311127,  36.18875376]])"
      ]
     },
     "execution_count": 442,
     "metadata": {},
     "output_type": "execute_result"
    }
   ],
   "source": [
    "np.einsum(\"ki,ji,hj\", k_m, np.linalg.inv(ex1.covs[-1][l, :, :]), n_k)"
   ]
  },
  {
   "cell_type": "code",
   "execution_count": 371,
   "metadata": {},
   "outputs": [
    {
     "data": {
      "text/plain": [
       "array([[ 2.81488126, -0.42904407, -0.98331467,  0.74520629],\n",
       "       [-0.42904407,  2.92169317,  0.75536597, -0.58138011],\n",
       "       [-0.98331467,  0.75536597,  3.4035855 , -1.11943971],\n",
       "       [ 0.74520629, -0.58138011, -1.11943971,  3.73813331]])"
      ]
     },
     "execution_count": 371,
     "metadata": {},
     "output_type": "execute_result"
    }
   ],
   "source": []
  },
  {
   "cell_type": "code",
   "execution_count": 324,
   "metadata": {},
   "outputs": [
    {
     "data": {
      "text/plain": [
       "array([[ 2.81488126, -0.42904407, -0.98331467,  0.74520629],\n",
       "       [-0.42904407,  2.92169317,  0.75536597, -0.58138011],\n",
       "       [-0.98331467,  0.75536597,  3.4035855 , -1.11943971],\n",
       "       [ 0.74520629, -0.58138011, -1.11943971,  3.73813331]])"
      ]
     },
     "execution_count": 324,
     "metadata": {},
     "output_type": "execute_result"
    }
   ],
   "source": [
    "np.linalg.inv(ex1.covs[-1][l, :, :])"
   ]
  },
  {
   "cell_type": "code",
   "execution_count": 325,
   "metadata": {},
   "outputs": [
    {
     "data": {
      "text/plain": [
       "array([[ 8.45575889,  0.28953201, -4.32335565,  2.47631245],\n",
       "       [ 6.42167779, -0.15338798, -6.58853329, -3.74744096],\n",
       "       [ 9.98834879, -2.21087668, -7.27905931, -2.40786936],\n",
       "       ..., \n",
       "       [ 6.76745968,  1.12865448, -4.89769115, -1.60607491],\n",
       "       [ 8.46580838, -0.91753936, -7.05105163, -2.66573211],\n",
       "       [ 8.12033519,  0.76307014, -7.74759667,  0.88091547]])"
      ]
     },
     "execution_count": 325,
     "metadata": {},
     "output_type": "execute_result"
    }
   ],
   "source": [
    "k_m @ np.linalg.inv(ex1.covs[-1][l, :, :])"
   ]
  },
  {
   "cell_type": "code",
   "execution_count": 309,
   "metadata": {},
   "outputs": [
    {
     "data": {
      "text/plain": [
       "array([  7.09297781,   9.05211382,  10.06612282,   2.6281173 ])"
      ]
     },
     "execution_count": 309,
     "metadata": {},
     "output_type": "execute_result"
    }
   ],
   "source": [
    "ex1.mus[-1][l, :]"
   ]
  },
  {
   "cell_type": "code",
   "execution_count": 272,
   "metadata": {},
   "outputs": [
    {
     "data": {
      "text/plain": [
       "array([ 2.9012738 ,  0.67762351, -0.57694045,  0.01668526])"
      ]
     },
     "execution_count": 272,
     "metadata": {},
     "output_type": "execute_result"
    }
   ],
   "source": [
    "k_m"
   ]
  },
  {
   "cell_type": "code",
   "execution_count": 383,
   "metadata": {},
   "outputs": [
    {
     "data": {
      "text/plain": [
       "(4, 4)"
      ]
     },
     "execution_count": 383,
     "metadata": {},
     "output_type": "execute_result"
    }
   ],
   "source": [
    "m_k_n = np.linalg.inv(ex1.covs[-1][l, :, :])\n",
    "np.shape(m_k_n)"
   ]
  },
  {
   "cell_type": "code",
   "execution_count": 336,
   "metadata": {},
   "outputs": [
    {
     "name": "stdout",
     "output_type": "stream",
     "text": [
      "(4, 500)\n"
     ]
    }
   ],
   "source": [
    "n_k = ex1.obs - ex1.mus[-1][l, :]\n",
    "print(np.shape(n_k.T))"
   ]
  },
  {
   "cell_type": "code",
   "execution_count": 307,
   "metadata": {},
   "outputs": [
    {
     "data": {
      "text/plain": [
       "(500, 500)"
      ]
     },
     "execution_count": 307,
     "metadata": {},
     "output_type": "execute_result"
    }
   ],
   "source": [
    "np.shape(k_m @ m_k_n @ n_k.T)"
   ]
  },
  {
   "cell_type": "code",
   "execution_count": null,
   "metadata": {
    "collapsed": true
   },
   "outputs": [],
   "source": [
    "np.tensordot\n",
    "np.einsum"
   ]
  },
  {
   "cell_type": "code",
   "execution_count": 289,
   "metadata": {
    "collapsed": true
   },
   "outputs": [],
   "source": [
    "a = np.array([[1],[2],[3]])\n",
    "b = np.array([[1,2,3]])"
   ]
  },
  {
   "cell_type": "code",
   "execution_count": 290,
   "metadata": {},
   "outputs": [
    {
     "data": {
      "text/plain": [
       "array([[1],\n",
       "       [2],\n",
       "       [3]])"
      ]
     },
     "execution_count": 290,
     "metadata": {},
     "output_type": "execute_result"
    }
   ],
   "source": [
    "a"
   ]
  },
  {
   "cell_type": "code",
   "execution_count": 291,
   "metadata": {},
   "outputs": [
    {
     "data": {
      "text/plain": [
       "array([[1, 2, 3]])"
      ]
     },
     "execution_count": 291,
     "metadata": {},
     "output_type": "execute_result"
    }
   ],
   "source": [
    "b"
   ]
  },
  {
   "cell_type": "code",
   "execution_count": null,
   "metadata": {
    "collapsed": true
   },
   "outputs": [],
   "source": []
  },
  {
   "cell_type": "code",
   "execution_count": 292,
   "metadata": {},
   "outputs": [
    {
     "data": {
      "text/plain": [
       "array([[1, 2, 3],\n",
       "       [2, 4, 6],\n",
       "       [3, 6, 9]])"
      ]
     },
     "execution_count": 292,
     "metadata": {},
     "output_type": "execute_result"
    }
   ],
   "source": [
    "a @ b"
   ]
  },
  {
   "cell_type": "code",
   "execution_count": 293,
   "metadata": {},
   "outputs": [
    {
     "data": {
      "text/plain": [
       "array([[14]])"
      ]
     },
     "execution_count": 293,
     "metadata": {},
     "output_type": "execute_result"
    }
   ],
   "source": [
    "b @ a"
   ]
  },
  {
   "cell_type": "code",
   "execution_count": 281,
   "metadata": {},
   "outputs": [
    {
     "data": {
      "text/plain": [
       "5"
      ]
     },
     "execution_count": 281,
     "metadata": {},
     "output_type": "execute_result"
    }
   ],
   "source": [
    "np.dot(a,b)"
   ]
  },
  {
   "cell_type": "code",
   "execution_count": null,
   "metadata": {
    "collapsed": true
   },
   "outputs": [],
   "source": []
  },
  {
   "cell_type": "code",
   "execution_count": 199,
   "metadata": {
    "collapsed": true
   },
   "outputs": [],
   "source": [
    "a = np.ones((4,4,500))\n",
    "b = np.ones((4,3,500))*2"
   ]
  },
  {
   "cell_type": "code",
   "execution_count": 202,
   "metadata": {
    "collapsed": true
   },
   "outputs": [],
   "source": [
    "a = np.arange(9).reshape(3,3)\n",
    "b = np.arange(3)"
   ]
  },
  {
   "cell_type": "code",
   "execution_count": 204,
   "metadata": {},
   "outputs": [
    {
     "data": {
      "text/plain": [
       "array([[0, 1, 2],\n",
       "       [3, 4, 5],\n",
       "       [6, 7, 8]])"
      ]
     },
     "execution_count": 204,
     "metadata": {},
     "output_type": "execute_result"
    }
   ],
   "source": [
    "a"
   ]
  },
  {
   "cell_type": "code",
   "execution_count": 214,
   "metadata": {},
   "outputs": [
    {
     "data": {
      "text/plain": [
       "array([0, 4, 8])"
      ]
     },
     "execution_count": 214,
     "metadata": {},
     "output_type": "execute_result"
    }
   ],
   "source": [
    "np.einsum(\"ii->i\", a)"
   ]
  },
  {
   "cell_type": "code",
   "execution_count": 216,
   "metadata": {},
   "outputs": [
    {
     "data": {
      "text/plain": [
       "12"
      ]
     },
     "execution_count": 216,
     "metadata": {},
     "output_type": "execute_result"
    }
   ],
   "source": [
    "np.einsum(\"ii\", a)"
   ]
  },
  {
   "cell_type": "code",
   "execution_count": 217,
   "metadata": {
    "collapsed": true
   },
   "outputs": [],
   "source": [
    "n_feat = 4\n",
    "n_obs = 500"
   ]
  },
  {
   "cell_type": "code",
   "execution_count": 220,
   "metadata": {},
   "outputs": [
    {
     "data": {
      "text/plain": [
       "(4, 500)"
      ]
     },
     "execution_count": 220,
     "metadata": {},
     "output_type": "execute_result"
    }
   ],
   "source": [
    "a = np.ones((n_feat, n_obs))\n",
    "np.shape(a)"
   ]
  },
  {
   "cell_type": "code",
   "execution_count": 230,
   "metadata": {},
   "outputs": [
    {
     "data": {
      "text/plain": [
       "(4, 4, 500)"
      ]
     },
     "execution_count": 230,
     "metadata": {},
     "output_type": "execute_result"
    }
   ],
   "source": [
    "b = np.ones((4,4,500))*2\n",
    "np.shape(b)"
   ]
  },
  {
   "cell_type": "code",
   "execution_count": null,
   "metadata": {
    "collapsed": true
   },
   "outputs": [],
   "source": []
  },
  {
   "cell_type": "code",
   "execution_count": null,
   "metadata": {
    "collapsed": true
   },
   "outputs": [],
   "source": []
  },
  {
   "cell_type": "code",
   "execution_count": null,
   "metadata": {
    "collapsed": true
   },
   "outputs": [],
   "source": []
  },
  {
   "cell_type": "code",
   "execution_count": null,
   "metadata": {
    "collapsed": true
   },
   "outputs": [],
   "source": []
  },
  {
   "cell_type": "code",
   "execution_count": null,
   "metadata": {
    "collapsed": true
   },
   "outputs": [],
   "source": []
  },
  {
   "cell_type": "code",
   "execution_count": null,
   "metadata": {
    "collapsed": true
   },
   "outputs": [],
   "source": []
  },
  {
   "cell_type": "code",
   "execution_count": null,
   "metadata": {
    "collapsed": true
   },
   "outputs": [],
   "source": []
  },
  {
   "cell_type": "code",
   "execution_count": 193,
   "metadata": {},
   "outputs": [
    {
     "name": "stdout",
     "output_type": "stream",
     "text": [
      "1.93 ms ± 54.8 µs per loop (mean ± std. dev. of 7 runs, 100 loops each)\n"
     ]
    }
   ],
   "source": [
    "%%timeit\n",
    "c = np.tensordot(a,b, axes=([1,0],[0,1]))"
   ]
  },
  {
   "cell_type": "code",
   "execution_count": 195,
   "metadata": {},
   "outputs": [
    {
     "name": "stdout",
     "output_type": "stream",
     "text": [
      "2.96 s ± 52.6 ms per loop (mean ± std. dev. of 7 runs, 1 loop each)\n"
     ]
    }
   ],
   "source": [
    "%%timeit\n",
    "d = np.zeros((500,500))\n",
    "for i in range(500):\n",
    "    for j in range(500):\n",
    "        for k in range(3):\n",
    "            for n in range(4):\n",
    "                d[i,j] += a[k,n,i] * b[n,k,j]"
   ]
  },
  {
   "cell_type": "code",
   "execution_count": null,
   "metadata": {
    "collapsed": true
   },
   "outputs": [],
   "source": []
  },
  {
   "cell_type": "code",
   "execution_count": 247,
   "metadata": {
    "collapsed": true
   },
   "outputs": [],
   "source": [
    "np.einsum"
   ]
  },
  {
   "cell_type": "code",
   "execution_count": null,
   "metadata": {
    "collapsed": true
   },
   "outputs": [],
   "source": []
  },
  {
   "cell_type": "code",
   "execution_count": 163,
   "metadata": {},
   "outputs": [
    {
     "data": {
      "text/plain": [
       "array([[[ 1.,  1.,  1., ...,  1.,  1.,  1.],\n",
       "        [ 1.,  1.,  1., ...,  1.,  1.,  1.],\n",
       "        [ 1.,  1.,  1., ...,  1.,  1.,  1.],\n",
       "        [ 1.,  1.,  1., ...,  1.,  1.,  1.]]])"
      ]
     },
     "execution_count": 163,
     "metadata": {},
     "output_type": "execute_result"
    }
   ],
   "source": [
    "a"
   ]
  },
  {
   "cell_type": "code",
   "execution_count": 171,
   "metadata": {},
   "outputs": [
    {
     "data": {
      "text/plain": [
       "array([[[ 2.,  2.,  2., ...,  2.,  2.,  2.],\n",
       "        [ 2.,  2.,  2., ...,  2.,  2.,  2.],\n",
       "        [ 2.,  2.,  2., ...,  2.,  2.,  2.],\n",
       "        [ 2.,  2.,  2., ...,  2.,  2.,  2.]],\n",
       "\n",
       "       [[ 2.,  2.,  2., ...,  2.,  2.,  2.],\n",
       "        [ 2.,  2.,  2., ...,  2.,  2.,  2.],\n",
       "        [ 2.,  2.,  2., ...,  2.,  2.,  2.],\n",
       "        [ 2.,  2.,  2., ...,  2.,  2.,  2.]],\n",
       "\n",
       "       [[ 2.,  2.,  2., ...,  2.,  2.,  2.],\n",
       "        [ 2.,  2.,  2., ...,  2.,  2.,  2.],\n",
       "        [ 2.,  2.,  2., ...,  2.,  2.,  2.],\n",
       "        [ 2.,  2.,  2., ...,  2.,  2.,  2.]],\n",
       "\n",
       "       [[ 2.,  2.,  2., ...,  2.,  2.,  2.],\n",
       "        [ 2.,  2.,  2., ...,  2.,  2.,  2.],\n",
       "        [ 2.,  2.,  2., ...,  2.,  2.,  2.],\n",
       "        [ 2.,  2.,  2., ...,  2.,  2.,  2.]]])"
      ]
     },
     "execution_count": 171,
     "metadata": {},
     "output_type": "execute_result"
    }
   ],
   "source": [
    "b"
   ]
  },
  {
   "cell_type": "code",
   "execution_count": 167,
   "metadata": {
    "collapsed": true
   },
   "outputs": [],
   "source": [
    "np.tensordot?"
   ]
  },
  {
   "cell_type": "code",
   "execution_count": 172,
   "metadata": {},
   "outputs": [
    {
     "data": {
      "text/plain": [
       "(1, 4, 500)"
      ]
     },
     "execution_count": 172,
     "metadata": {},
     "output_type": "execute_result"
    }
   ],
   "source": [
    "np.shape(a)"
   ]
  },
  {
   "cell_type": "code",
   "execution_count": 173,
   "metadata": {},
   "outputs": [
    {
     "data": {
      "text/plain": [
       "(4, 4, 500)"
      ]
     },
     "execution_count": 173,
     "metadata": {},
     "output_type": "execute_result"
    }
   ],
   "source": [
    "np.shape(b)"
   ]
  },
  {
   "cell_type": "code",
   "execution_count": 185,
   "metadata": {
    "collapsed": true
   },
   "outputs": [],
   "source": [
    "c = np.tensordot(a,b, axes=[1,0])"
   ]
  },
  {
   "cell_type": "code",
   "execution_count": null,
   "metadata": {
    "collapsed": true
   },
   "outputs": [],
   "source": []
  },
  {
   "cell_type": "code",
   "execution_count": 186,
   "metadata": {},
   "outputs": [
    {
     "data": {
      "text/plain": [
       "(1, 500, 4, 500)"
      ]
     },
     "execution_count": 186,
     "metadata": {},
     "output_type": "execute_result"
    }
   ],
   "source": [
    "np.shape(c)"
   ]
  },
  {
   "cell_type": "code",
   "execution_count": 187,
   "metadata": {},
   "outputs": [
    {
     "data": {
      "text/plain": [
       "array([[[ 2.,  2.,  2., ...,  2.,  2.,  2.],\n",
       "        [ 2.,  2.,  2., ...,  2.,  2.,  2.],\n",
       "        [ 2.,  2.,  2., ...,  2.,  2.,  2.],\n",
       "        [ 2.,  2.,  2., ...,  2.,  2.,  2.]],\n",
       "\n",
       "       [[ 2.,  2.,  2., ...,  2.,  2.,  2.],\n",
       "        [ 2.,  2.,  2., ...,  2.,  2.,  2.],\n",
       "        [ 2.,  2.,  2., ...,  2.,  2.,  2.],\n",
       "        [ 2.,  2.,  2., ...,  2.,  2.,  2.]],\n",
       "\n",
       "       [[ 2.,  2.,  2., ...,  2.,  2.,  2.],\n",
       "        [ 2.,  2.,  2., ...,  2.,  2.,  2.],\n",
       "        [ 2.,  2.,  2., ...,  2.,  2.,  2.],\n",
       "        [ 2.,  2.,  2., ...,  2.,  2.,  2.]],\n",
       "\n",
       "       [[ 2.,  2.,  2., ...,  2.,  2.,  2.],\n",
       "        [ 2.,  2.,  2., ...,  2.,  2.,  2.],\n",
       "        [ 2.,  2.,  2., ...,  2.,  2.,  2.],\n",
       "        [ 2.,  2.,  2., ...,  2.,  2.,  2.]]])"
      ]
     },
     "execution_count": 187,
     "metadata": {},
     "output_type": "execute_result"
    }
   ],
   "source": [
    "b"
   ]
  },
  {
   "cell_type": "markdown",
   "metadata": {},
   "source": [
    "# EINSTEIN"
   ]
  },
  {
   "cell_type": "code",
   "execution_count": 348,
   "metadata": {},
   "outputs": [
    {
     "data": {
      "text/plain": [
       "array([[ 0,  1,  2,  3,  4],\n",
       "       [ 5,  6,  7,  8,  9],\n",
       "       [10, 11, 12, 13, 14],\n",
       "       [15, 16, 17, 18, 19],\n",
       "       [20, 21, 22, 23, 24]])"
      ]
     },
     "execution_count": 348,
     "metadata": {},
     "output_type": "execute_result"
    }
   ],
   "source": [
    "a = np.arange(25).reshape(5,5)\n",
    "a"
   ]
  },
  {
   "cell_type": "code",
   "execution_count": 351,
   "metadata": {},
   "outputs": [
    {
     "data": {
      "text/plain": [
       "array([0, 1, 2, 3, 4])"
      ]
     },
     "execution_count": 351,
     "metadata": {},
     "output_type": "execute_result"
    }
   ],
   "source": [
    "b = np.arange(5)\n",
    "b"
   ]
  },
  {
   "cell_type": "markdown",
   "metadata": {},
   "source": [
    "### Diagonal values"
   ]
  },
  {
   "cell_type": "code",
   "execution_count": 359,
   "metadata": {},
   "outputs": [
    {
     "data": {
      "text/plain": [
       "array([ 0,  6, 12, 18, 24])"
      ]
     },
     "execution_count": 359,
     "metadata": {},
     "output_type": "execute_result"
    }
   ],
   "source": [
    "np.einsum(\"ii->i\", a)"
   ]
  },
  {
   "cell_type": "code",
   "execution_count": 355,
   "metadata": {},
   "outputs": [
    {
     "data": {
      "text/plain": [
       "array([ 0,  6, 12, 18, 24])"
      ]
     },
     "execution_count": 355,
     "metadata": {},
     "output_type": "execute_result"
    }
   ],
   "source": [
    "np.diag(a)"
   ]
  },
  {
   "cell_type": "markdown",
   "metadata": {},
   "source": [
    "### Matrix Multiplication with Einsum"
   ]
  },
  {
   "cell_type": "code",
   "execution_count": 352,
   "metadata": {},
   "outputs": [
    {
     "data": {
      "text/plain": [
       "array([ 30,  80, 130, 180, 230])"
      ]
     },
     "execution_count": 352,
     "metadata": {},
     "output_type": "execute_result"
    }
   ],
   "source": [
    "np.einsum(\"ij,j\", a, b)"
   ]
  },
  {
   "cell_type": "code",
   "execution_count": 353,
   "metadata": {},
   "outputs": [
    {
     "data": {
      "text/plain": [
       "array([ 30,  80, 130, 180, 230])"
      ]
     },
     "execution_count": 353,
     "metadata": {},
     "output_type": "execute_result"
    }
   ],
   "source": [
    "a @ b"
   ]
  },
  {
   "cell_type": "code",
   "execution_count": 360,
   "metadata": {},
   "outputs": [
    {
     "data": {
      "text/plain": [
       "array([[[  0.,   1.,   2.,   3.,   4.],\n",
       "        [  5.,   6.,   7.,   8.,   9.],\n",
       "        [ 10.,  11.,  12.,  13.,  14.],\n",
       "        [ 15.,  16.,  17.,  18.,  19.]],\n",
       "\n",
       "       [[ 20.,  21.,  22.,  23.,  24.],\n",
       "        [ 25.,  26.,  27.,  28.,  29.],\n",
       "        [ 30.,  31.,  32.,  33.,  34.],\n",
       "        [ 35.,  36.,  37.,  38.,  39.]],\n",
       "\n",
       "       [[ 40.,  41.,  42.,  43.,  44.],\n",
       "        [ 45.,  46.,  47.,  48.,  49.],\n",
       "        [ 50.,  51.,  52.,  53.,  54.],\n",
       "        [ 55.,  56.,  57.,  58.,  59.]]])"
      ]
     },
     "execution_count": 360,
     "metadata": {},
     "output_type": "execute_result"
    }
   ],
   "source": [
    "np.arange(60.).reshape(3,4,5)"
   ]
  },
  {
   "cell_type": "code",
   "execution_count": 364,
   "metadata": {},
   "outputs": [
    {
     "data": {
      "text/plain": [
       "array([[[  0.,   1.],\n",
       "        [  2.,   3.],\n",
       "        [  4.,   5.]],\n",
       "\n",
       "       [[  6.,   7.],\n",
       "        [  8.,   9.],\n",
       "        [ 10.,  11.]],\n",
       "\n",
       "       [[ 12.,  13.],\n",
       "        [ 14.,  15.],\n",
       "        [ 16.,  17.]],\n",
       "\n",
       "       [[ 18.,  19.],\n",
       "        [ 20.,  21.],\n",
       "        [ 22.,  23.]]])"
      ]
     },
     "execution_count": 364,
     "metadata": {},
     "output_type": "execute_result"
    }
   ],
   "source": [
    "c = np.arange(24.).reshape(4,3,2)\n",
    "c"
   ]
  },
  {
   "cell_type": "code",
   "execution_count": 366,
   "metadata": {},
   "outputs": [
    {
     "data": {
      "text/plain": [
       "4324.0"
      ]
     },
     "execution_count": 366,
     "metadata": {},
     "output_type": "execute_result"
    }
   ],
   "source": [
    "np.einsum(\"ijk,ijk\", c, c)"
   ]
  },
  {
   "cell_type": "code",
   "execution_count": 368,
   "metadata": {},
   "outputs": [
    {
     "data": {
      "text/plain": [
       "4324.0"
      ]
     },
     "execution_count": 368,
     "metadata": {},
     "output_type": "execute_result"
    }
   ],
   "source": [
    "np.sum(c*c)"
   ]
  },
  {
   "cell_type": "code",
   "execution_count": 362,
   "metadata": {},
   "outputs": [
    {
     "data": {
      "text/plain": [
       "4400"
      ]
     },
     "execution_count": 362,
     "metadata": {},
     "output_type": "execute_result"
    }
   ],
   "source": [
    "0*0+5*6+10*12+15*18+20*2+25*8+30*14+35*20+40*4+45*10+50*16+55*22"
   ]
  },
  {
   "cell_type": "markdown",
   "metadata": {},
   "source": [
    "# OTHER"
   ]
  },
  {
   "cell_type": "code",
   "execution_count": 155,
   "metadata": {},
   "outputs": [
    {
     "name": "stdout",
     "output_type": "stream",
     "text": [
      "energy like shp: (500, 4)\n",
      "d (500, 4)\n",
      "a (500, 4)\n",
      "b (4, 500, 1)\n",
      "d (500, 4)\n",
      "a (500, 4)\n",
      "b (4, 500, 1)\n",
      "d (500, 4)\n",
      "a (500, 4)\n",
      "b (4, 500, 1)\n",
      "d (500, 4)\n",
      "a (500, 4)\n",
      "b (4, 500, 1)\n"
     ]
    }
   ],
   "source": [
    "a,b = calc_energy_like_vect(ex1, ex1.mus[0], ex1.covs[0])"
   ]
  },
  {
   "cell_type": "code",
   "execution_count": 149,
   "metadata": {},
   "outputs": [
    {
     "data": {
      "text/plain": [
       "(500, 500)"
      ]
     },
     "execution_count": 149,
     "metadata": {},
     "output_type": "execute_result"
    }
   ],
   "source": [
    "np.shape(a[0,:,:] @ b[:,:,0])"
   ]
  },
  {
   "cell_type": "code",
   "execution_count": 150,
   "metadata": {},
   "outputs": [
    {
     "data": {
      "text/plain": [
       "(500, 4)"
      ]
     },
     "execution_count": 150,
     "metadata": {},
     "output_type": "execute_result"
    }
   ],
   "source": [
    "np.shape(a[0,:,:])"
   ]
  },
  {
   "cell_type": "code",
   "execution_count": 137,
   "metadata": {},
   "outputs": [
    {
     "data": {
      "text/plain": [
       "(4, 500)"
      ]
     },
     "execution_count": 137,
     "metadata": {},
     "output_type": "execute_result"
    }
   ],
   "source": []
  },
  {
   "cell_type": "code",
   "execution_count": null,
   "metadata": {
    "collapsed": true
   },
   "outputs": [],
   "source": []
  },
  {
   "cell_type": "code",
   "execution_count": 91,
   "metadata": {},
   "outputs": [
    {
     "data": {
      "text/plain": [
       "(500, 4)"
      ]
     },
     "execution_count": 91,
     "metadata": {},
     "output_type": "execute_result"
    }
   ],
   "source": [
    "np.shape(ex1.obs)"
   ]
  },
  {
   "cell_type": "code",
   "execution_count": 92,
   "metadata": {},
   "outputs": [
    {
     "data": {
      "text/plain": [
       "(3, 3, 4)"
      ]
     },
     "execution_count": 92,
     "metadata": {},
     "output_type": "execute_result"
    }
   ],
   "source": [
    "np.shape(ex1.mus[-1][l, :])"
   ]
  },
  {
   "cell_type": "code",
   "execution_count": 94,
   "metadata": {},
   "outputs": [
    {
     "data": {
      "text/plain": [
       "array([  7.09297781,   9.05211382,  10.06612282,   2.6281173 ])"
      ]
     },
     "execution_count": 94,
     "metadata": {},
     "output_type": "execute_result"
    }
   ],
   "source": [
    "ex1.mus[-1][0, :]"
   ]
  },
  {
   "cell_type": "code",
   "execution_count": 122,
   "metadata": {},
   "outputs": [
    {
     "data": {
      "text/plain": [
       "(1, 4, 500)"
      ]
     },
     "execution_count": 122,
     "metadata": {},
     "output_type": "execute_result"
    }
   ],
   "source": [
    "np.shape(b.reshape(1,4,500))"
   ]
  },
  {
   "cell_type": "code",
   "execution_count": 123,
   "metadata": {
    "collapsed": true,
    "scrolled": true
   },
   "outputs": [],
   "source": [
    "l = 0\n"
   ]
  },
  {
   "cell_type": "code",
   "execution_count": null,
   "metadata": {
    "collapsed": true
   },
   "outputs": [],
   "source": []
  },
  {
   "cell_type": "code",
   "execution_count": null,
   "metadata": {
    "collapsed": true
   },
   "outputs": [],
   "source": []
  },
  {
   "cell_type": "code",
   "execution_count": null,
   "metadata": {
    "collapsed": true
   },
   "outputs": [],
   "source": []
  },
  {
   "cell_type": "code",
   "execution_count": null,
   "metadata": {
    "collapsed": true
   },
   "outputs": [],
   "source": [
    "def calc_gibbs_energy(self, labels, beta):\n",
    "    \"\"\"\n",
    "    Calculates Gibbs energy for each element using a penalty factor beta.\n",
    "    :param labels: Array of labels at each element.\n",
    "    :param beta: Energetic penalty parameter.\n",
    "    :return: Gibbs energy for each element.\n",
    "    \"\"\"\n",
    "    if self.dim == 1:\n",
    "        # create ndarray for gibbs energy depending on element structure and n_labels\n",
    "        gibbs_energy = np.zeros((len(self.coords), self.n_labels))\n",
    "        for x, nl in enumerate(self.neighborhood):\n",
    "            for n in nl:\n",
    "                for l in range(self.n_labels):\n",
    "                    if l != labels[n]:\n",
    "                        gibbs_energy[x, l] += beta\n",
    "\n",
    "    elif self.dim == 2:\n",
    "        pass\n",
    "        # TODO: 2-dimensional calculation of gibbs energy\n",
    "    elif self.dim == 3:\n",
    "        pass\n",
    "        # TODO: 3-dimensional calculation of gibbs energy\n",
    "\n",
    "    # TODO: Optimize gibbs energy calculation\n",
    "    return gibbs_energy"
   ]
  },
  {
   "cell_type": "code",
   "execution_count": null,
   "metadata": {
    "collapsed": true,
    "scrolled": true
   },
   "outputs": [],
   "source": [
    "calc_gibbs_energy(ex1, labels, 0.5)"
   ]
  },
  {
   "cell_type": "code",
   "execution_count": null,
   "metadata": {
    "collapsed": true
   },
   "outputs": [],
   "source": [
    "def pseudocolor(coords):\n",
    "    \n",
    "    # \n",
    "    i_w = np.arange(0, len(coords), step=2)\n",
    "    i_b = np.arange(1, len(coords), step=2)\n",
    "    \n",
    "    return np.array([i_w, i_b]).T"
   ]
  },
  {
   "cell_type": "code",
   "execution_count": null,
   "metadata": {
    "collapsed": true
   },
   "outputs": [],
   "source": [
    "colors"
   ]
  },
  {
   "cell_type": "code",
   "execution_count": null,
   "metadata": {
    "collapsed": true
   },
   "outputs": [],
   "source": [
    "a = l[colors[:,0],:]"
   ]
  },
  {
   "cell_type": "code",
   "execution_count": null,
   "metadata": {
    "collapsed": true
   },
   "outputs": [],
   "source": [
    "np.not_equal(np.arange(3), a[0, :]) * beta"
   ]
  },
  {
   "cell_type": "code",
   "execution_count": null,
   "metadata": {
    "collapsed": true
   },
   "outputs": [],
   "source": [
    "a = l[colors[:,1],:]\n",
    "np.expand_dims(np.not_equal(np.arange(3), a[-1, :]) * beta, axis=0)"
   ]
  },
  {
   "cell_type": "code",
   "execution_count": null,
   "metadata": {
    "collapsed": true
   },
   "outputs": [],
   "source": [
    "labels = ex1.labels[-1]"
   ]
  },
  {
   "cell_type": "code",
   "execution_count": null,
   "metadata": {
    "collapsed": true
   },
   "outputs": [],
   "source": [
    "gibbs_energy.astype(float)"
   ]
  },
  {
   "cell_type": "code",
   "execution_count": null,
   "metadata": {
    "collapsed": true
   },
   "outputs": [],
   "source": []
  },
  {
   "cell_type": "code",
   "execution_count": null,
   "metadata": {
    "collapsed": true
   },
   "outputs": [],
   "source": [
    "gibbs_energy"
   ]
  },
  {
   "cell_type": "code",
   "execution_count": null,
   "metadata": {
    "collapsed": true
   },
   "outputs": [],
   "source": [
    "beta = 0.5\n",
    "n_labels = 3\n",
    "coords = np.array([np.arange(500,1000)]).T\n",
    "\n",
    "ge_temp = np.arange(n_labels) # elemnts x labels\n",
    "ge_temp = np.tile(ge_temp, (len(coords),1))\n",
    "ge_temp = ge_temp.astype(float)\n",
    "\n",
    "print(\"gibbs energy temp\")\n",
    "print(ge_temp)\n",
    "print(\"gibbs energy temp shp:\", np.shape(ge_temp))\n",
    "\n",
    "print(\"\\n\")\n",
    "\n",
    "colors = pseudocolor(coords)\n",
    "\n",
    "l = np.tile(labels, (n_labels,1)).T\n",
    "\n",
    "print(\"\\n\")\n",
    "print(\"stacked labels\")\n",
    "print(l)\n",
    "\n",
    "# first color\n",
    "a = l[colors[:,0],:]\n",
    "\n",
    "## first row\n",
    "top = np.expand_dims(np.not_equal(np.arange(3), a[0, :]).astype(float) * beta, axis=0)\n",
    "## mid\n",
    "mid = (np.not_equal(ge_temp[colors[:-1,0],:], a[:-1, :]).astype(float) + np.not_equal(ge_temp[colors[1:,0],:], a[1:, :]).astype(float)) * beta\n",
    "## last row\n",
    "#bot = np.expand_dims(np.not_equal(np.arange(3), a[-1, :]) * beta, axis=0)\n",
    "## concatenate\n",
    "c1 = np.concatenate((top, mid))\n",
    "\n",
    "print(\"\\n\")\n",
    "print(\"c1 shp:\",np.shape(c1))\n",
    "\n",
    "# second color\n",
    "a = l[colors[:,1],:]\n",
    "\n",
    "## first row\n",
    "# top = np.expand_dims(np.not_equal(np.arange(3), a[1, :]) * beta, axis=0)\n",
    "## mid\n",
    "mid = (np.not_equal(ge_temp[colors[:-1,1],:], a[:-1, :]).astype(float) + np.not_equal(ge_temp[colors[1:,1],:], a[1:, :]).astype(float)) * beta\n",
    "## last row\n",
    "bot = np.expand_dims(np.not_equal(np.arange(3), a[-1, :]).astype(float) * beta, axis=0)\n",
    "## concatenate\n",
    "c2 = np.concatenate((mid, bot))\n",
    "\n",
    "print(\"c2 shp:\",np.shape(c2))\n",
    "\n",
    "# concatenate both\n",
    "ge_temp[colors[:,0]] = c1\n",
    "ge_temp[colors[:,1]] = c2\n",
    "\n",
    "print(\"\\n\")\n",
    "print(\"gibbs energy\")\n",
    "print(ge_temp)"
   ]
  },
  {
   "cell_type": "code",
   "execution_count": null,
   "metadata": {
    "collapsed": true
   },
   "outputs": [],
   "source": [
    "%%timeit\n",
    "np.random.choice(3,500)"
   ]
  },
  {
   "cell_type": "code",
   "execution_count": null,
   "metadata": {
    "collapsed": true
   },
   "outputs": [],
   "source": [
    "%%timeit\n",
    "np.array([np.random.choice(3) for i in range(500)])"
   ]
  },
  {
   "cell_type": "code",
   "execution_count": null,
   "metadata": {
    "collapsed": true
   },
   "outputs": [],
   "source": []
  },
  {
   "cell_type": "code",
   "execution_count": null,
   "metadata": {
    "collapsed": true
   },
   "outputs": [],
   "source": []
  },
  {
   "cell_type": "code",
   "execution_count": null,
   "metadata": {
    "collapsed": true
   },
   "outputs": [],
   "source": [
    "np.place(gibbs_energy, )"
   ]
  },
  {
   "cell_type": "code",
   "execution_count": null,
   "metadata": {
    "collapsed": true
   },
   "outputs": [],
   "source": [
    "c1[0]"
   ]
  },
  {
   "cell_type": "code",
   "execution_count": null,
   "metadata": {
    "collapsed": true
   },
   "outputs": [],
   "source": [
    "gibbs_energy[0]"
   ]
  },
  {
   "cell_type": "code",
   "execution_count": null,
   "metadata": {
    "collapsed": true
   },
   "outputs": [],
   "source": [
    "gibbs_energy[0,:] = c1[0]\n",
    "print(c1[0])\n",
    "gibbs_energy[0,:]"
   ]
  },
  {
   "cell_type": "code",
   "execution_count": null,
   "metadata": {
    "collapsed": true
   },
   "outputs": [],
   "source": [
    "gibbs_energy[0,:]"
   ]
  },
  {
   "cell_type": "code",
   "execution_count": null,
   "metadata": {
    "collapsed": true
   },
   "outputs": [],
   "source": [
    "c1[0]"
   ]
  },
  {
   "cell_type": "code",
   "execution_count": null,
   "metadata": {
    "collapsed": true
   },
   "outputs": [],
   "source": [
    "c2[-1]"
   ]
  },
  {
   "cell_type": "code",
   "execution_count": null,
   "metadata": {
    "collapsed": true
   },
   "outputs": [],
   "source": [
    "gibbs_energy"
   ]
  },
  {
   "cell_type": "code",
   "execution_count": null,
   "metadata": {
    "collapsed": true
   },
   "outputs": [],
   "source": [
    "np.shape(c1)"
   ]
  },
  {
   "cell_type": "code",
   "execution_count": null,
   "metadata": {
    "collapsed": true
   },
   "outputs": [],
   "source": [
    "np.shape(c2)"
   ]
  },
  {
   "cell_type": "code",
   "execution_count": 18,
   "metadata": {
    "collapsed": true
   },
   "outputs": [],
   "source": [
    "def calc_gibbs_energy_vect(self, labels, beta, n_labels):\n",
    "    # tile\n",
    "    l = np.tile(labels, (n_labels,1)).T\n",
    "    \n",
    "    ge = np.arange(n_labels) # elemnts x labels\n",
    "    ge = np.tile(ge, (len(labels), 1))\n",
    "    ge = ge.astype(float)\n",
    "    \n",
    "    # first row\n",
    "    top = np.expand_dims(np.not_equal(np.arange(n_labels), l[1, :]) * beta, axis=0)\n",
    "    # mid\n",
    "    mid = (np.not_equal(ge[:-1, :], l[:-1, :]).astype(int) + np.not_equal(ge[1:, :], l[1:, :]).astype(int)) * beta\n",
    "    # last row\n",
    "    bot = np.expand_dims(np.not_equal(np.arange(n_labels), l[-1, :]) * beta, axis=0)\n",
    "    # concatenate\n",
    "    gibbs_energy = np.concatenate((top, mid, bot))\n",
    "    \n",
    "    return gibbs_energy"
   ]
  },
  {
   "cell_type": "code",
   "execution_count": 19,
   "metadata": {},
   "outputs": [
    {
     "data": {
      "text/plain": [
       "array([[ 0.5,  0. ,  0.5],\n",
       "       [ 0.5,  0.5,  1. ],\n",
       "       [ 1. ,  0.5,  0.5],\n",
       "       ..., \n",
       "       [ 1. ,  0. ,  1. ],\n",
       "       [ 1. ,  0. ,  1. ],\n",
       "       [ 0.5,  0. ,  0.5]])"
      ]
     },
     "execution_count": 19,
     "metadata": {},
     "output_type": "execute_result"
    }
   ],
   "source": [
    "ex1.calc_gibbs_energy(ex1.labels[-1], 0.5)"
   ]
  },
  {
   "cell_type": "code",
   "execution_count": 20,
   "metadata": {},
   "outputs": [
    {
     "data": {
      "text/plain": [
       "array([1, 1, 0, 2, 1, 1, 1, 1, 1, 1, 1, 1, 1, 1, 1, 1, 1, 1, 1, 1, 1, 1, 1,\n",
       "       1, 1, 1, 1, 1, 0, 0, 1, 1, 1, 1, 1, 1, 0, 0, 1, 1, 1, 0, 2, 1, 1, 1,\n",
       "       2, 1, 1, 1, 0, 0, 0, 0, 0, 0, 0, 0, 0, 0, 0, 0, 0, 0, 0, 0, 0, 0, 1,\n",
       "       0, 0, 0, 0, 2, 0, 0, 0, 0, 0, 0, 0, 0, 0, 0, 0, 0, 1, 0, 0, 2, 1, 0,\n",
       "       2, 0, 0, 0, 0, 0, 2, 0, 0, 0, 0, 2, 2, 0, 0, 0, 0, 0, 0, 0, 0, 0, 0,\n",
       "       0, 0, 0, 0, 2, 0, 2, 0, 0, 0, 0, 0, 0, 0, 0, 0, 0, 2, 0, 2, 0, 0, 0,\n",
       "       0, 0, 0, 0, 0, 0, 2, 0, 0, 0, 0, 0, 0, 0, 0, 0, 0, 0, 2, 0, 0, 1, 0,\n",
       "       0, 0, 0, 0, 0, 0, 0, 2, 2, 2, 0, 0, 2, 0, 2, 2, 2, 0, 0, 2, 0, 0, 0,\n",
       "       0, 0, 0, 0, 0, 0, 0, 0, 0, 0, 0, 2, 0, 0, 2, 2, 2, 2, 1, 1, 2, 2, 2,\n",
       "       0, 2, 2, 0, 0, 2, 0, 2, 2, 2, 2, 2, 1, 1, 1, 2, 2, 1, 1, 1, 2, 2, 2,\n",
       "       2, 2, 2, 2, 2, 2, 2, 2, 2, 2, 2, 2, 1, 2, 0, 0, 1, 0, 1, 1, 2, 2, 2,\n",
       "       2, 0, 0, 2, 2, 2, 2, 2, 2, 2, 2, 2, 2, 2, 0, 2, 2, 2, 2, 0, 0, 1, 2,\n",
       "       2, 2, 0, 2, 0, 0, 2, 2, 0, 2, 1, 2, 2, 2, 1, 2, 2, 1, 2, 2, 2, 2, 2,\n",
       "       2, 2, 2, 0, 2, 1, 0, 1, 1, 2, 2, 2, 2, 2, 2, 2, 2, 0, 0, 2, 2, 1, 2,\n",
       "       1, 1, 2, 0, 2, 2, 0, 0, 0, 2, 2, 2, 2, 2, 2, 2, 0, 2, 0, 2, 1, 1, 2,\n",
       "       2, 2, 2, 2, 2, 2, 2, 2, 1, 1, 1, 1, 2, 0, 2, 2, 2, 2, 2, 2, 0, 2, 0,\n",
       "       2, 2, 2, 2, 2, 2, 2, 0, 2, 2, 2, 2, 2, 2, 1, 1, 2, 2, 2, 2, 2, 2, 2,\n",
       "       2, 0, 0, 2, 0, 2, 2, 2, 2, 1, 1, 1, 1, 1, 1, 1, 1, 1, 1, 1, 1, 2, 1,\n",
       "       1, 0, 1, 1, 1, 1, 1, 1, 1, 1, 1, 1, 1, 2, 2, 1, 2, 2, 1, 1, 1, 1, 1,\n",
       "       1, 1, 1, 1, 1, 1, 1, 1, 1, 1, 1, 2, 1, 1, 1, 2, 1, 1, 1, 1, 1, 1, 1,\n",
       "       0, 2, 1, 1, 1, 1, 1, 1, 1, 1, 0, 1, 1, 1, 1, 1, 1, 1, 2, 2, 1, 1, 2,\n",
       "       2, 1, 1, 1, 1, 1, 1, 1, 1, 1, 1, 1, 1, 1, 1, 1, 1], dtype=int64)"
      ]
     },
     "execution_count": 20,
     "metadata": {},
     "output_type": "execute_result"
    }
   ],
   "source": [
    "ex1.labels[-1]"
   ]
  },
  {
   "cell_type": "code",
   "execution_count": 21,
   "metadata": {},
   "outputs": [
    {
     "data": {
      "text/plain": [
       "array([[ 0.5,  0. ,  0.5],\n",
       "       [ 1. ,  0. ,  1. ],\n",
       "       [ 0.5,  0.5,  1. ],\n",
       "       ..., \n",
       "       [ 1. ,  0. ,  1. ],\n",
       "       [ 1. ,  0. ,  1. ],\n",
       "       [ 0.5,  0. ,  0.5]])"
      ]
     },
     "execution_count": 21,
     "metadata": {},
     "output_type": "execute_result"
    }
   ],
   "source": [
    "calc_gibbs_energy_vect(ex1, ex1.labels[-1], 0.5, 3)"
   ]
  },
  {
   "cell_type": "code",
   "execution_count": null,
   "metadata": {
    "collapsed": true
   },
   "outputs": [],
   "source": [
    "gibbs_energy"
   ]
  },
  {
   "cell_type": "code",
   "execution_count": null,
   "metadata": {
    "collapsed": true
   },
   "outputs": [],
   "source": [
    "np.expand_dims(top, axis=0)"
   ]
  },
  {
   "cell_type": "code",
   "execution_count": null,
   "metadata": {
    "collapsed": true
   },
   "outputs": [],
   "source": [
    "top"
   ]
  },
  {
   "cell_type": "code",
   "execution_count": null,
   "metadata": {
    "collapsed": true
   },
   "outputs": [],
   "source": [
    "mid"
   ]
  },
  {
   "cell_type": "code",
   "execution_count": null,
   "metadata": {
    "collapsed": true
   },
   "outputs": [],
   "source": []
  },
  {
   "cell_type": "code",
   "execution_count": null,
   "metadata": {
    "collapsed": true
   },
   "outputs": [],
   "source": [
    "labels = ex1.labels[-1]"
   ]
  },
  {
   "cell_type": "code",
   "execution_count": null,
   "metadata": {
    "collapsed": true
   },
   "outputs": [],
   "source": []
  },
  {
   "cell_type": "code",
   "execution_count": null,
   "metadata": {
    "collapsed": true
   },
   "outputs": [],
   "source": []
  },
  {
   "cell_type": "code",
   "execution_count": null,
   "metadata": {
    "collapsed": true
   },
   "outputs": [],
   "source": []
  },
  {
   "cell_type": "code",
   "execution_count": null,
   "metadata": {
    "collapsed": true
   },
   "outputs": [],
   "source": [
    "ex1.neighborhood"
   ]
  },
  {
   "cell_type": "code",
   "execution_count": null,
   "metadata": {
    "collapsed": true
   },
   "outputs": [],
   "source": []
  },
  {
   "cell_type": "code",
   "execution_count": null,
   "metadata": {
    "collapsed": true
   },
   "outputs": [],
   "source": []
  },
  {
   "cell_type": "code",
   "execution_count": null,
   "metadata": {
    "collapsed": true
   },
   "outputs": [],
   "source": []
  },
  {
   "cell_type": "code",
   "execution_count": null,
   "metadata": {
    "collapsed": true
   },
   "outputs": [],
   "source": [
    "calc_gibbs_energy_vect(ex1, ex1.labels[-1], 0.5)"
   ]
  },
  {
   "cell_type": "code",
   "execution_count": null,
   "metadata": {
    "collapsed": true
   },
   "outputs": [],
   "source": []
  },
  {
   "cell_type": "code",
   "execution_count": null,
   "metadata": {
    "collapsed": true
   },
   "outputs": [],
   "source": []
  },
  {
   "cell_type": "code",
   "execution_count": null,
   "metadata": {
    "collapsed": true
   },
   "outputs": [],
   "source": []
  },
  {
   "cell_type": "code",
   "execution_count": null,
   "metadata": {
    "collapsed": true
   },
   "outputs": [],
   "source": []
  },
  {
   "cell_type": "code",
   "execution_count": null,
   "metadata": {
    "collapsed": true
   },
   "outputs": [],
   "source": [
    "def calc_gibbs_energy_vect(self, labels, beta):\n",
    "\n",
    "    gibbs_energy = np.zeros((len(self.coords), self.n_labels))\n",
    "    print(np.shape(gibbs_energy))\n",
    "    \n",
    "    for x, nl in enumerate(self.neighborhood):\n",
    "        for n in nl:\n",
    "            for l in range(self.n_labels):\n",
    "                if l != labels[n]:\n",
    "                    gibbs_energy[x, l] += beta\n",
    "    \n",
    "    # TODO: 2-dimensional calculation of gibbs energy\n",
    "    # TODO: 3-dimensional calculation of gibbs energy\n",
    "    # TODO: Optimize gibbs energy calculation\n",
    "    return gibbs_energy"
   ]
  },
  {
   "cell_type": "code",
   "execution_count": null,
   "metadata": {
    "collapsed": true
   },
   "outputs": [],
   "source": [
    "import numpy as np\n",
    "from sklearn import mixture\n",
    "from scipy.stats import multivariate_normal, norm\n",
    "from copy import copy\n",
    "from itertools import combinations\n",
    "import tqdm  # progress bar\n",
    "import matplotlib.pyplot as plt\n",
    "from matplotlib import gridspec  # plot arrangements"
   ]
  },
  {
   "cell_type": "code",
   "execution_count": null,
   "metadata": {
    "collapsed": true
   },
   "outputs": [],
   "source": [
    "def calc_labels_prob(te, t):\n",
    "    \"\"\"\"Calculate labels probability for array of total energies (te) and totally arbitrary skalar value t.\"\"\"\n",
    "    return (np.exp(-te/t).T / np.sum(np.exp(-te/t), axis=1)).T"
   ]
  },
  {
   "cell_type": "code",
   "execution_count": null,
   "metadata": {
    "collapsed": true
   },
   "outputs": [],
   "source": [
    "energy_like = ex1.calc_energy_like(ex1.mus[-1], ex1.covs[-1])\n",
    "\n",
    "# 2 - calculate gibbs/mrf energy\n",
    "gibbs_energy = ex1.calc_gibbs_energy(ex1.labels[-1], ex1.betas[-1])\n",
    "\n",
    "# 3 - self energy\n",
    "self_energy = np.zeros(ex1.n_labels)\n",
    "# 5 - calculate total energy\n",
    "total_energy = energy_like + self_energy + gibbs_energy\n"
   ]
  },
  {
   "cell_type": "code",
   "execution_count": null,
   "metadata": {
    "collapsed": true
   },
   "outputs": [],
   "source": [
    "labels_prob = calc_labels_prob(total_energy, 1.)"
   ]
  },
  {
   "cell_type": "code",
   "execution_count": null,
   "metadata": {
    "collapsed": true
   },
   "outputs": [],
   "source": [
    "gibbs_energy = ex1.calc_gibbs_energy(ex1.labels[-1], ex1.betas[-1])"
   ]
  },
  {
   "cell_type": "code",
   "execution_count": null,
   "metadata": {
    "collapsed": true
   },
   "outputs": [],
   "source": [
    "energy_for_comp_coef = gibbs_energy + self_energy"
   ]
  },
  {
   "cell_type": "code",
   "execution_count": null,
   "metadata": {
    "collapsed": true
   },
   "outputs": [],
   "source": [
    "comp_coef = calc_labels_prob(energy_for_comp_coef, 1.)"
   ]
  },
  {
   "cell_type": "code",
   "execution_count": null,
   "metadata": {
    "collapsed": true
   },
   "outputs": [],
   "source": [
    "comp_coef"
   ]
  },
  {
   "cell_type": "code",
   "execution_count": null,
   "metadata": {
    "collapsed": true
   },
   "outputs": [],
   "source": [
    "calc_sum_log_mixture_density_loop(ex1, comp_coef, ex1.mus[-1], ex1.covs[-1])"
   ]
  },
  {
   "cell_type": "code",
   "execution_count": null,
   "metadata": {
    "collapsed": true
   },
   "outputs": [],
   "source": [
    "calc_sum_log_mixture_density(ex1, comp_coef, ex1.mus[-1], ex1.covs[-1])"
   ]
  },
  {
   "cell_type": "code",
   "execution_count": null,
   "metadata": {
    "collapsed": true
   },
   "outputs": [],
   "source": [
    "def calc_sum_log_mixture_density(self, comp_coef, mu, cov):\n",
    "    \"\"\"\n",
    "    Calculate sum of log mixture density with each observation at every element.\n",
    "    :param comp_coef: Component coefficient.\n",
    "    :param mu: Mean matrix\n",
    "    :param cov: Covariance matrix\n",
    "    :return: summed log mixture density of the system\n",
    "    \"\"\"\n",
    "    lmd = np.zeros((500, 3))\n",
    "\n",
    "    for l in range(self.n_labels):\n",
    "        draw = multivariate_normal(mean=mu[l, :], cov=cov[l, :, :]).pdf(self.obs)\n",
    "        # print(np.shape(lmd[:,l]))\n",
    "        multi = comp_coef[:,l] * draw\n",
    "        lmd[:,l] = multi\n",
    "    lmd = np.sum(lmd, axis=1)\n",
    "    lmd = np.log(lmd)\n",
    "\n",
    "    return np.sum(lmd)"
   ]
  },
  {
   "cell_type": "code",
   "execution_count": null,
   "metadata": {
    "collapsed": true
   },
   "outputs": [],
   "source": [
    "def calc_sum_log_mixture_density_loop(self, comp_coef, mu, cov):\n",
    "    \"\"\"\n",
    "    Calculate sum of log mixture density with each observation at every element.\n",
    "    :param comp_coef: Component coefficient.\n",
    "    :param mu: Mean matrix\n",
    "    :param cov: Covariance matrix\n",
    "    :return: summed log mixture density of the system\n",
    "    \"\"\"\n",
    "    if self.dim == 1:\n",
    "        lmd = 0.\n",
    "\n",
    "        for x in range(len(self.coords)):\n",
    "            storage2 = []\n",
    "            for l in range(self.n_labels):\n",
    "                a = comp_coef[x, l] * multivariate_normal(mean=mu[l, :], cov=cov[l, :, :]).pdf(self.obs[x])\n",
    "                # print(a)\n",
    "                storage2.append(a)\n",
    "\n",
    "            lmd += (np.log(np.sum(storage2)))\n",
    "\n",
    "    else:\n",
    "        pass\n",
    "    # TODO: 2-dimensional log mixture density\n",
    "    # TODO: 3-dimensional log mixture density\n",
    "\n",
    "    return lmd"
   ]
  },
  {
   "cell_type": "code",
   "execution_count": null,
   "metadata": {
    "collapsed": true
   },
   "outputs": [],
   "source": [
    "def calc_energy_like(self, mu, cov):\n",
    "    \"\"\"\n",
    "    Calculates the energy likelihood of the system.\n",
    "    :param mu: Mean values\n",
    "    :param cov: Covariance matrix\n",
    "    :return:\n",
    "    \"\"\"\n",
    "\n",
    "    energy_like_labels = np.zeros((len(self.coords), self.n_labels))\n",
    "    if self.dim == 1:\n",
    "        for x in range(len(self.coords)):\n",
    "            for l in  range(self.n_labels):\n",
    "                energy_like_labels[x, l] = 0.5 * np.array([self.obs[x] - mu[l, :]]) @ np.linalg.inv(cov[l, :, :]) @ np.array([self.obs[x] - mu[l, :]]).T + 0.5 * np.log(np.linalg.det(cov[l, :, :]))\n",
    "\n",
    "    else:\n",
    "        pass\n",
    "    # TODO: 2-dimensional calculation of energy likelihood labels\n",
    "    # TODO: 3-dimensional calculation of energy likelihood labels\n",
    "\n",
    "    return energy_like_labels"
   ]
  },
  {
   "cell_type": "code",
   "execution_count": null,
   "metadata": {
    "collapsed": true
   },
   "outputs": [],
   "source": [
    "%%timeit\n",
    "calc_energy_like(ex1, ex1.mus[-1], ex1.covs[-1])"
   ]
  },
  {
   "cell_type": "code",
   "execution_count": null,
   "metadata": {
    "collapsed": true
   },
   "outputs": [],
   "source": [
    "calc_energy_like(ex1, ex1.mus[-1], ex1.covs[-1])"
   ]
  },
  {
   "cell_type": "code",
   "execution_count": null,
   "metadata": {
    "collapsed": true
   },
   "outputs": [],
   "source": [
    "def calc_energy_like_vect(self, mu, cov):\n",
    "    \"\"\"\n",
    "    Calculates the energy likelihood of the system.\n",
    "    :param mu: Mean values\n",
    "    :param cov: Covariance matrix\n",
    "    :return:\n",
    "    \"\"\"\n",
    "    energy_like_labels = np.zeros((len(self.coords), self.n_labels))\n",
    "    for l in  range(self.n_labels):\n",
    "        a = 0.5 * np.array([self.obs - mu[l, :]]) @ np.linalg.inv(cov[l, :, :])\n",
    "        print(np.shape(a))\n",
    "        b = np.array([self.obs - mu[l, :]]).T + 0.5 * np.log(np.linalg.det(cov[l, :, :]))\n",
    "        print(np.shape(b))\n",
    "        print(np.shape(energy_like_labels))\n",
    "        #energy_like_labels[:, l] = a @ b\n",
    "\n",
    "        return a, b"
   ]
  },
  {
   "cell_type": "code",
   "execution_count": null,
   "metadata": {
    "collapsed": true
   },
   "outputs": [],
   "source": [
    "a"
   ]
  },
  {
   "cell_type": "code",
   "execution_count": null,
   "metadata": {
    "collapsed": true
   },
   "outputs": [],
   "source": [
    "c = np.zeros((4,500))\n",
    "for i in range(4):\n",
    "    c[i,:] = np.ravel(b[i])"
   ]
  },
  {
   "cell_type": "code",
   "execution_count": null,
   "metadata": {
    "collapsed": true
   },
   "outputs": [],
   "source": [
    "a[:,0]"
   ]
  },
  {
   "cell_type": "code",
   "execution_count": null,
   "metadata": {
    "collapsed": true
   },
   "outputs": [],
   "source": [
    "c[:,0]"
   ]
  },
  {
   "cell_type": "code",
   "execution_count": null,
   "metadata": {
    "collapsed": true
   },
   "outputs": [],
   "source": [
    "a @ c"
   ]
  },
  {
   "cell_type": "code",
   "execution_count": null,
   "metadata": {
    "collapsed": true
   },
   "outputs": [],
   "source": [
    "np.shape(k)"
   ]
  },
  {
   "cell_type": "code",
   "execution_count": null,
   "metadata": {
    "collapsed": true,
    "scrolled": true
   },
   "outputs": [],
   "source": [
    "a,b = calc_energy_like_vect(ex1, ex1.mus[-1], ex1.covs[-1])"
   ]
  },
  {
   "cell_type": "code",
   "execution_count": null,
   "metadata": {
    "collapsed": true
   },
   "outputs": [],
   "source": [
    "%debug"
   ]
  },
  {
   "cell_type": "code",
   "execution_count": null,
   "metadata": {
    "collapsed": true
   },
   "outputs": [],
   "source": []
  },
  {
   "cell_type": "code",
   "execution_count": null,
   "metadata": {
    "collapsed": true
   },
   "outputs": [],
   "source": [
    "g[0, ex1.labels[-1][neighborhood[0,0].astype(\"int64\")]]"
   ]
  },
  {
   "cell_type": "code",
   "execution_count": null,
   "metadata": {
    "collapsed": true
   },
   "outputs": [],
   "source": [
    "gibbs_energy"
   ]
  },
  {
   "cell_type": "code",
   "execution_count": null,
   "metadata": {
    "collapsed": true
   },
   "outputs": [],
   "source": [
    "gibbs_energy = calc_gibbs_energy_vect(ex1, ex1.labels[-1], 0.5)"
   ]
  },
  {
   "cell_type": "markdown",
   "metadata": {},
   "source": [
    "# COV PROPOSAL TESTS"
   ]
  },
  {
   "cell_type": "code",
   "execution_count": null,
   "metadata": {
    "collapsed": true
   },
   "outputs": [],
   "source": [
    "0.45**(1/2)"
   ]
  },
  {
   "cell_type": "code",
   "execution_count": null,
   "metadata": {
    "collapsed": true
   },
   "outputs": [],
   "source": [
    "cov = np.array([[[  1.99561992e+01 , -1.45150996e+00 , -2.63756395e+00  , 6.96056263e+00,    -1.01622760e+00],\n",
    "  [ -1.45150996e+00 ,  1.17306877e-01  , 1.34722716e-01 , -6.38203391e-01,     8.36635998e-02],\n",
    "  [ -2.63756395e+00 ,  1.34722716e-01 ,  6.40140987e+00 ,  1.07719128e+00,     2.09006538e-01],\n",
    "  [  6.96056263e+00,  -6.38203391e-01 ,  1.07719128e+00 ,  4.75785818e+00,    -5.04168206e-01],\n",
    "  [ -1.01622760e+00 ,  8.36635998e-02 ,  2.09006538e-01  ,-5.04168206e-01,     1.21996211e-01]]])"
   ]
  },
  {
   "cell_type": "code",
   "execution_count": null,
   "metadata": {
    "collapsed": true
   },
   "outputs": [],
   "source": [
    "np.shape(cov)"
   ]
  },
  {
   "cell_type": "raw",
   "metadata": {},
   "source": [
    "ex1.diagnostics_plot(true_labels=latent_1D)"
   ]
  },
  {
   "cell_type": "code",
   "execution_count": null,
   "metadata": {
    "collapsed": true
   },
   "outputs": [],
   "source": [
    "c1 = scipy.stats.multivariate_normal([6,9,10], np.eye(3)*0.25)\n",
    "c2 = scipy.stats.multivariate_normal([8,8,11], np.eye(3)*0.15)\n",
    "c3 = scipy.stats.multivariate_normal([8,11,9], np.eye(3)*0.35)"
   ]
  },
  {
   "cell_type": "code",
   "execution_count": null,
   "metadata": {
    "collapsed": true
   },
   "outputs": [],
   "source": [
    "0.25**(1/2)"
   ]
  },
  {
   "cell_type": "code",
   "execution_count": null,
   "metadata": {
    "collapsed": true
   },
   "outputs": [],
   "source": [
    "cov = np.array([[[ 1.70240204,  0.13019169,  0.26507972, -0.05779667],\n",
    " [ 0.13019169,  1.70098472, -0.06757848,  0.07736503],\n",
    " [ 0.26507972, -0.06757848,  1.60775912, -0.22083958],\n",
    " [-0.05779667 , 0.07736503, -0.22083958,  1.99746643]]])"
   ]
  },
  {
   "cell_type": "code",
   "execution_count": null,
   "metadata": {
    "collapsed": true
   },
   "outputs": [],
   "source": [
    "np.shape(cov)"
   ]
  },
  {
   "cell_type": "raw",
   "metadata": {
    "collapsed": true
   },
   "source": [
    "cov = np.array([np.eye(5), np.eye(5), np.eye(5), np.eye(5)])"
   ]
  },
  {
   "cell_type": "code",
   "execution_count": null,
   "metadata": {
    "collapsed": true
   },
   "outputs": [],
   "source": [
    "np.linalg.svd(cov[0, :, :])"
   ]
  },
  {
   "cell_type": "code",
   "execution_count": null,
   "metadata": {
    "collapsed": true
   },
   "outputs": [],
   "source": [
    "cov = np.array([[[ 3.,  0.2,  0.3],\n",
    "       [ 0.2,  2.,  0.6],\n",
    "       [ 0.3,  0.6,  4.]]])"
   ]
  },
  {
   "cell_type": "code",
   "execution_count": null,
   "metadata": {
    "collapsed": true
   },
   "outputs": [],
   "source": [
    "np.shape(cov)"
   ]
  },
  {
   "cell_type": "code",
   "execution_count": null,
   "metadata": {
    "collapsed": true
   },
   "outputs": [],
   "source": [
    "covdiff = cov - propose_cov(cov, 3,1, 0.00005, 0.0005)\n",
    "covdiff"
   ]
  },
  {
   "cell_type": "code",
   "execution_count": null,
   "metadata": {
    "collapsed": true
   },
   "outputs": [],
   "source": [
    "from itertools import combinations\n",
    "from scipy.stats import multivariate_normal"
   ]
  },
  {
   "cell_type": "code",
   "execution_count": null,
   "metadata": {
    "collapsed": true
   },
   "outputs": [],
   "source": [
    "cov = np.array([[[ 1.70240204,  0.13019169,  0.26507972, -0.05779667],\n",
    " [ 0.13019169,  1.70098472, -0.06757848,  0.07736503],\n",
    " [ 0.26507972, -0.06757848,  1.60775912, -0.22083958],\n",
    " [-0.05779667 , 0.07736503, -0.22083958,  1.99746643]]])\n",
    "\n",
    "covdiff = cov - propose_cov(cov, 4,1, 0.00005, 0.0005)\n",
    "covdiff"
   ]
  },
  {
   "cell_type": "code",
   "execution_count": null,
   "metadata": {
    "collapsed": true,
    "scrolled": false
   },
   "outputs": [],
   "source": [
    "cov = np.array([[[  1.99561992e+01 , -1.45150996e+00 , -2.63756395e+00  , 6.96056263e+00,    -1.01622760e+00],\n",
    "  [ -1.45150996e+00 ,  1.17306877e-01  , 1.34722716e-01 , -6.38203391e-01,     8.36635998e-02],\n",
    "  [ -2.63756395e+00 ,  1.34722716e-01 ,  6.40140987e+00 ,  1.07719128e+00,     2.09006538e-01],\n",
    "  [  6.96056263e+00,  -6.38203391e-01 ,  1.07719128e+00 ,  4.75785818e+00,    -5.04168206e-01],\n",
    "  [ -1.01622760e+00 ,  8.36635998e-02 ,  2.09006538e-01  ,-5.04168206e-01,     1.21996211e-01]]])\n",
    "\n",
    "covdiff = cov - propose_cov(cov, 5,1, 0.000000005, 0.00000005)\n",
    "covdiff"
   ]
  },
  {
   "cell_type": "code",
   "execution_count": null,
   "metadata": {
    "collapsed": true
   },
   "outputs": [],
   "source": [
    "cov = np.array([[[ 3.,  0.2,  0.3,  0.4,  0.6],\n",
    "         [ 0.2,  4.,  0.3,  0.5,  0.2],\n",
    "         [ 0.3,  0.3,  6.,  0.7,  1.],\n",
    "         [ 0.4,  0.5,  0.7,  2.,  0.4],\n",
    "         [ 0.6,  0.2,  1.,  0.4,  3.]]])\n",
    "\n",
    "covdiff = cov - propose_cov(cov, 5,1, 0.00005, 0.0005)\n",
    "covdiff"
   ]
  },
  {
   "cell_type": "code",
   "execution_count": null,
   "metadata": {
    "collapsed": true
   },
   "outputs": [],
   "source": [
    "def _cov_proposal_rotation_matrix(x, y, theta):\n",
    "    \"\"\"\n",
    "\n",
    "    :param x, y: two base vectors defining a plane\n",
    "    :param theta: rotation angle in this plane\n",
    "    :return: rotation matrix for covariance proposal step\n",
    "    \"\"\"\n",
    "    x = np.array([x]).T\n",
    "    y = np.array([y]).T\n",
    "\n",
    "    uu = x / np.linalg.norm(x)\n",
    "    vv = y - uu.T @ y * uu\n",
    "    vv = vv / np.linalg.norm(vv)\n",
    "    # what is happening\n",
    "\n",
    "    # rotation_matrix = np.eye(len(x)) - np.matmul(uu, uu.T) - np.matmul(np.matmul(vv, vv.T) + np.matmul(np.hstack((uu, vv)), np.array([[np.cos(theta), -np.sin(theta)], [np.sin(theta), np.cos(theta)]])), np.hstack((uu, vv)).T)\n",
    "    rotation_matrix = np.eye(len(x)) - uu @ uu.T - vv @ vv.T + np.hstack((uu, vv)) @ np.array([[np.cos(theta), -np.sin(theta)], [np.sin(theta), np.cos(theta)]]) @ np.hstack((uu, vv)).T\n",
    "    return rotation_matrix"
   ]
  },
  {
   "cell_type": "code",
   "execution_count": null,
   "metadata": {
    "collapsed": true
   },
   "outputs": [],
   "source": [
    "def propose_cov(cov_prev, n_feat, n_labels, cov_jump_length, theta_jump_length):\n",
    "    \"\"\"\n",
    "\n",
    "    :param cov_prev:\n",
    "    :param cov_jump_length:\n",
    "    :param theta_jump_length:\n",
    "    :return:\n",
    "    \"\"\"\n",
    "    # do svd on the previous covariance matrix\n",
    "    comb = list(combinations(range(n_feat), 2))\n",
    "    n_comb = len(comb)\n",
    "    theta_jump = multivariate_normal(mean=[0 for i in range(n_comb)], cov=np.ones(n_comb) * theta_jump_length).rvs()\n",
    "    cov_prop = np.zeros_like(cov_prev)\n",
    "\n",
    "    # print(\"cov_prev:\", cov_prev)\n",
    "\n",
    "    for l in range(n_labels):\n",
    "\n",
    "        v_l, d_l, v_l_t = np.linalg.svd(cov_prev[l, :, :])\n",
    "        print(\" shp v_l:\", np.shape(v_l))\n",
    "        print(\" shp d_l:\", np.shape(d_l))\n",
    "        # generate d jump\n",
    "        log_d_jump = multivariate_normal(mean=[0 for i in range(n_feat)], cov=np.eye(n_feat) * cov_jump_length).rvs()\n",
    "        # sum towards d proposal\n",
    "        # if l == 0:\n",
    "        d_prop = np.diag(np.exp(np.log(d_l) + log_d_jump))\n",
    "        # else:\n",
    "        #    d_prop = np.vstack((d_prop, np.exp(np.log(d_l) + np.log(d_jump))))\n",
    "\n",
    "        # now tackle generating v jump\n",
    "        a = np.eye(n_feat)\n",
    "        # print(\"a init:\", a)\n",
    "        # print(\"shape a:\", np.shape(a))\n",
    "        for j in range(n_comb):\n",
    "            rotation_matrix = _cov_proposal_rotation_matrix(v_l[:, comb[j][0]], v_l[:, comb[j][1]], theta_jump[j])\n",
    "            # print(\"rot mat:\", rotation_matrix)\n",
    "            # print(\"rot mat:\", rotation_matrix)\n",
    "            a = rotation_matrix @ a\n",
    "            # print(\"a:\", a)\n",
    "        # print(\"v_l:\", np.shape(v_l))\n",
    "        v_prop = a @ v_l  # np.matmul(a, v_l)\n",
    "        # print(\"d_prop:\", d_prop)\n",
    "        # print(\"v_prop:\", np.shape(v_prop))\n",
    "        # TODO: Is this proposal covariance slicing correct?\n",
    "        cov_prop[l, :, :] = v_prop @ d_prop @ v_prop.T  # np.matmul(np.matmul(v_prop, d_prop), v_prop.T)\n",
    "        # print(\"cov_prop:\", cov_prop)\n",
    "\n",
    "    return cov_prop"
   ]
  },
  {
   "cell_type": "code",
   "execution_count": null,
   "metadata": {
    "collapsed": true
   },
   "outputs": [],
   "source": [
    "import sys\n",
    "for i in range(200):\n",
    "    sys.stdout.write(str(i))\n",
    "    sys.stdout.write('\\r')\n",
    "    sys.stdout.flush()"
   ]
  },
  {
   "cell_type": "code",
   "execution_count": null,
   "metadata": {
    "collapsed": true
   },
   "outputs": [],
   "source": []
  }
 ],
 "metadata": {
  "kernelspec": {
   "display_name": "Python 3",
   "language": "python",
   "name": "python3"
  },
  "language_info": {
   "codemirror_mode": {
    "name": "ipython",
    "version": 3
   },
   "file_extension": ".py",
   "mimetype": "text/x-python",
   "name": "python",
   "nbconvert_exporter": "python",
   "pygments_lexer": "ipython3",
   "version": "3.6.3"
  },
  "toc": {
   "colors": {
    "hover_highlight": "#DAA520",
    "navigate_num": "#000000",
    "navigate_text": "#333333",
    "running_highlight": "#FF0000",
    "selected_highlight": "#FFD700",
    "sidebar_border": "#EEEEEE",
    "wrapper_background": "#FFFFFF"
   },
   "moveMenuLeft": true,
   "nav_menu": {
    "height": "84px",
    "width": "252px"
   },
   "navigate_menu": true,
   "number_sections": true,
   "sideBar": true,
   "threshold": 4,
   "toc_cell": false,
   "toc_section_display": "block",
   "toc_window_display": false,
   "widenNotebook": false
  }
 },
 "nbformat": 4,
 "nbformat_minor": 2
}
