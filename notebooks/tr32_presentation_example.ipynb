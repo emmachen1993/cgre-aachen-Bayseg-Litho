{
 "cells": [
  {
   "cell_type": "markdown",
   "metadata": {},
   "source": [
    "### Import modules"
   ]
  },
  {
   "cell_type": "code",
   "execution_count": null,
   "metadata": {},
   "outputs": [],
   "source": [
    "import numpy as np\n",
    "import pandas as pd\n",
    "import importlib\n",
    "import matplotlib.pyplot as plt\n",
    "%matplotlib inline\n",
    "import scipy.stats\n",
    "\n",
    "import sys\n",
    "sys.path.append(\"../\")\n",
    "import bayseg"
   ]
  },
  {
   "cell_type": "markdown",
   "metadata": {},
   "source": [
    "### Load the data set"
   ]
  },
  {
   "cell_type": "code",
   "execution_count": null,
   "metadata": {},
   "outputs": [],
   "source": [
    "data = []\n",
    "\n",
    "for i in range(1,3):\n",
    "    data.append(pd.read_csv(\"../data/tr32/dataset2/feature_\"+str(i)+\".csv\", header=None).values)\n",
    "    \n",
    "data = np.array(data).T.astype(\"float64\")\n",
    "print(data.shape)"
   ]
  },
  {
   "cell_type": "markdown",
   "metadata": {},
   "source": [
    "### Visualizing the data set"
   ]
  },
  {
   "cell_type": "code",
   "execution_count": null,
   "metadata": {},
   "outputs": [],
   "source": [
    "# get min and max of the data\n",
    "dmin = np.nanmin(data)\n",
    "dmax = np.nanmax(data)\n",
    "\n",
    "# create figure\n",
    "fig, ax = plt.subplots(ncols=2, figsize=(10,5), sharex=True, sharey=True)\n",
    "\n",
    "# plot features onto axes\n",
    "ax[0].imshow(data[:,:,0].T, cmap=\"viridis\")\n",
    "ax[0].set_title(\"NDVI Image\")\n",
    "ax[1].imshow(data[:,:,1].T, cmap=\"RdYlGn\")\n",
    "ax[1].set_title(\"EMI Image\")\n",
    "\n",
    "for i in range(2):\n",
    "    ax[i].grid(False)"
   ]
  },
  {
   "cell_type": "markdown",
   "metadata": {},
   "source": [
    "Replace NaN feature values"
   ]
  },
  {
   "cell_type": "code",
   "execution_count": null,
   "metadata": {
    "collapsed": true
   },
   "outputs": [],
   "source": [
    "data[np.isnan(data)] = -1"
   ]
  },
  {
   "cell_type": "markdown",
   "metadata": {},
   "source": [
    "### Instantiate classifier"
   ]
  },
  {
   "cell_type": "code",
   "execution_count": null,
   "metadata": {},
   "outputs": [],
   "source": [
    "clf = bayseg.BaySeg(data[:42,:,:], 3, beta_init=10)"
   ]
  },
  {
   "cell_type": "markdown",
   "metadata": {},
   "source": [
    "### Fit"
   ]
  },
  {
   "cell_type": "code",
   "execution_count": null,
   "metadata": {
    "scrolled": false
   },
   "outputs": [],
   "source": [
    "n_iter = 150\n",
    "clf.fit(n_iter, beta_jump_length=0.1)"
   ]
  },
  {
   "cell_type": "markdown",
   "metadata": {},
   "source": [
    "### Diagnostics plot"
   ]
  },
  {
   "cell_type": "code",
   "execution_count": null,
   "metadata": {},
   "outputs": [],
   "source": [
    "clf.diagnostics_plot(transpose=True)"
   ]
  },
  {
   "cell_type": "markdown",
   "metadata": {},
   "source": [
    "### Interactive plot"
   ]
  },
  {
   "cell_type": "code",
   "execution_count": null,
   "metadata": {},
   "outputs": [],
   "source": [
    "from ipywidgets import interact\n",
    "import ipywidgets\n",
    "\n",
    "def plot_iter(i):\n",
    "    plt.imshow(clf.labels[i].reshape(42,40).T, cmap=bayseg.cmap, norm=bayseg.cmap_norm)\n",
    "    plt.grid(False)"
   ]
  },
  {
   "cell_type": "markdown",
   "metadata": {},
   "source": [
    "Run the following code cell and use the interactive slider to move through the segmentation results of different iterations."
   ]
  },
  {
   "cell_type": "code",
   "execution_count": null,
   "metadata": {},
   "outputs": [],
   "source": [
    "interact(plot_iter, i=ipywidgets.IntSlider(min=0,max=n_iter, step=10,value=0));"
   ]
  }
 ],
 "metadata": {
  "kernelspec": {
   "display_name": "Python 3",
   "language": "python",
   "name": "python3"
  },
  "language_info": {
   "codemirror_mode": {
    "name": "ipython",
    "version": 3
   },
   "file_extension": ".py",
   "mimetype": "text/x-python",
   "name": "python",
   "nbconvert_exporter": "python",
   "pygments_lexer": "ipython3",
   "version": "3.6.3"
  }
 },
 "nbformat": 4,
 "nbformat_minor": 2
}
