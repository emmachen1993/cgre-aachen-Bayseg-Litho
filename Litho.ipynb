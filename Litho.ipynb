{
 "cells": [
  {
   "cell_type": "code",
   "execution_count": 342,
   "metadata": {},
   "outputs": [],
   "source": [
    "from sklearn.ensemble import  RandomForestClassifier, VotingClassifier\n",
    "from sklearn.model_selection import train_test_split\n",
    "from sklearn.naive_bayes import BernoulliNB\n",
    "from sklearn.pipeline import make_pipeline, make_union\n",
    "from sklearn.preprocessing import FunctionTransformer\n",
    "import xgboost as xgb\n",
    "from xgboost.sklearn import  XGBClassifier\n",
    "import numpy as np\n",
    "import pandas as pd\n",
    "import importlib\n",
    "import matplotlib.pyplot as plt\n",
    "%matplotlib inline\n",
    "import scipy.stats\n",
    "import seaborn as sns\n",
    "\n",
    "import sys\n",
    "sys.path.append(\"../bayseg/\")\n",
    "import bayseg"
   ]
  },
  {
   "cell_type": "code",
   "execution_count": 343,
   "metadata": {
    "collapsed": true
   },
   "outputs": [],
   "source": [
    "from __future__ import print_function\n",
    "import numpy as np\n",
    "%matplotlib inline\n",
    "import pandas as pd\n",
    "import matplotlib.pyplot as plt\n",
    "\n",
    "from sklearn.model_selection import cross_val_score\n",
    "from sklearn.model_selection import KFold , StratifiedKFold\n",
    "from classification_utilities import display_cm, display_adj_cm\n",
    "from sklearn.metrics import confusion_matrix, f1_score\n",
    "from sklearn import preprocessing\n",
    "from sklearn.model_selection import LeavePGroupsOut\n",
    "from sklearn.multiclass import OneVsOneClassifier\n",
    "from sklearn.ensemble import RandomForestClassifier\n",
    "from scipy.signal import medfilt"
   ]
  },
  {
   "cell_type": "code",
   "execution_count": 344,
   "metadata": {
    "scrolled": true
   },
   "outputs": [],
   "source": [
    "#Load Data\n",
    "data = pd.read_csv(\"../bayseg/data/2016-ml-contest-Hall/Nomalised_data.csv\")\n",
    "\n",
    "# Parameters\n",
    "feature_names = ['GR', 'ILD_log10', 'DeltaPHI', 'PHIND', 'PE', 'NM_M', 'RELPOS']\n",
    "facies_names = ['SS', 'CSiS', 'FSiS', 'SiSh', 'MS', 'WS', 'D', 'PS', 'BS']\n",
    "facies_colors = ['#F4D03F', '#F5B041','#DC7633','#6E2C00', '#1B4F72','#2E86C1', '#AED6F1', '#A569BD', '#196F3D']\n",
    "\n",
    "# Store features and labels\n",
    "X = data[feature_names].values \n",
    "y = data['Facies'].values \n",
    "\n",
    "# Store well labels and depths\n",
    "well = data['Well Name'].values\n",
    "depth = data['Depth'].values\n",
    "\n",
    "# Fill 'PE' missing values with mean\n",
    "imp = preprocessing.Imputer(missing_values='NaN', strategy='mean', axis=0)\n",
    "imp.fit(X)\n",
    "X = imp.transform(X)"
   ]
  },
  {
   "cell_type": "code",
   "execution_count": 345,
   "metadata": {
    "collapsed": true
   },
   "outputs": [],
   "source": [
    "# Feature windows concatenation function\n",
    "def augment_features_window(X, N_neig):\n",
    "    \n",
    "    # Parameters\n",
    "    N_row = X.shape[0]\n",
    "    N_feat = X.shape[1]\n",
    "\n",
    "    # Zero padding\n",
    "    X = np.vstack((np.zeros((N_neig, N_feat)), X, (np.zeros((N_neig, N_feat)))))\n",
    "\n",
    "    # Loop over windows\n",
    "    X_aug = np.zeros((N_row, N_feat*(2*N_neig+1)))\n",
    "    for r in np.arange(N_row)+N_neig:\n",
    "        this_row = []\n",
    "        for c in np.arange(-N_neig,N_neig+1):\n",
    "            this_row = np.hstack((this_row, X[r+c]))\n",
    "        X_aug[r-N_neig] = this_row\n",
    "\n",
    "    return X_aug\n",
    "\n",
    "\n",
    "# Feature gradient computation function\n",
    "def augment_features_gradient(X, depth):\n",
    "    \n",
    "    # Compute features gradient\n",
    "    d_diff = np.diff(depth).reshape((-1, 1))\n",
    "    d_diff[d_diff==0] = 0.001\n",
    "    X_diff = np.diff(X, axis=0)\n",
    "    X_grad = X_diff / d_diff\n",
    "        \n",
    "    # Compensate for last missing value\n",
    "    X_grad = np.concatenate((X_grad, np.zeros((1, X_grad.shape[1]))))\n",
    "    \n",
    "    return X_grad\n",
    "\n",
    "\n",
    "# Feature augmentation function\n",
    "def augment_features(X, well, depth, N_neig=1):\n",
    "    \n",
    "    # Augment features\n",
    "    X_aug = np.zeros((X.shape[0], X.shape[1]*(N_neig*2+2)))\n",
    "    for w in np.unique(well):\n",
    "        w_idx = np.where(well == w)[0]\n",
    "        X_aug_win = augment_features_window(X[w_idx, :], N_neig)\n",
    "        X_aug_grad = augment_features_gradient(X[w_idx, :], depth[w_idx])\n",
    "        X_aug[w_idx, :] = np.concatenate((X_aug_win, X_aug_grad), axis=1)\n",
    "    \n",
    "    # Find padded rows\n",
    "    padded_rows = np.unique(np.where(X_aug[:, 0:7] == np.zeros((1, 7)))[0])\n",
    "    \n",
    "    return X_aug, padded_rows\n",
    "\n",
    "X_aug, padded_rows = augment_features(X, well, depth)"
   ]
  },
  {
   "cell_type": "code",
   "execution_count": 346,
   "metadata": {},
   "outputs": [],
   "source": [
    "# Initialize model selection methods\n",
    "lpgo = LeavePGroupsOut(2)\n",
    "\n",
    "# Generate splits\n",
    "split_list = []\n",
    "for train, val in lpgo.split(X, y, groups=data['Well Name']):\n",
    "    hist_tr = np.histogram(y[train], bins=np.arange(len(facies_names)+1)+.5)\n",
    "    hist_val = np.histogram(y[val], bins=np.arange(len(facies_names)+1)+.5)\n",
    "    if np.all(hist_tr[0] != 0) & np.all(hist_val[0] != 0):\n",
    "        split_list.append({'train':train, 'val':val})\n",
    "    \n",
    "        \n",
    "def preprocess():\n",
    "    \n",
    "    # Preprocess data to use in model\n",
    "    X_train_aux = []\n",
    "    X_test_aux = []\n",
    "    y_train_aux = []\n",
    "    y_test_aux = []\n",
    "    \n",
    "    # For each data split\n",
    "    split = split_list[5]\n",
    "        \n",
    "    # Remove padded rows\n",
    "    split_train_no_pad = np.setdiff1d(split['train'], padded_rows)\n",
    "\n",
    "    # Select training and validation data from current split\n",
    "    X_tr = X_aug[split_train_no_pad, :]\n",
    "    X_v = X_aug[split['val'], :]\n",
    "    y_tr = y[split_train_no_pad]\n",
    "    y_v = y[split['val']]\n",
    "\n",
    "    # Select well labels for validation data\n",
    "    well_v = well[split['val']]\n",
    "\n",
    "    # Feature normalization\n",
    "    scaler = preprocessing.RobustScaler(quantile_range=(25.0, 75.0)).fit(X_tr)\n",
    "    X_tr = scaler.transform(X_tr)\n",
    "    X_v = scaler.transform(X_v)\n",
    "        \n",
    "    X_train_aux.append( X_tr )\n",
    "    X_test_aux.append( X_v )\n",
    "    y_train_aux.append( y_tr )\n",
    "    y_test_aux.append (  y_v )\n",
    "    \n",
    "    X_train = np.concatenate( X_train_aux )\n",
    "    X_test = np.concatenate ( X_test_aux )\n",
    "    y_train = np.concatenate ( y_train_aux )\n",
    "    y_test = np.concatenate ( y_test_aux )\n",
    "    \n",
    "    return X_train , X_test , y_train , y_test"
   ]
  },
  {
   "cell_type": "code",
   "execution_count": 347,
   "metadata": {},
   "outputs": [
    {
     "name": "stderr",
     "output_type": "stream",
     "text": [
      "C:\\Users\\CGRE-HiWi\\AppData\\Local\\Continuum\\anaconda3\\lib\\site-packages\\deap\\creator.py:141: RuntimeWarning: A class named 'FitnessMulti' has already been created and it will be overwritten. Consider deleting previous creation of that class or rename it.\n",
      "  RuntimeWarning)\n",
      "C:\\Users\\CGRE-HiWi\\AppData\\Local\\Continuum\\anaconda3\\lib\\site-packages\\deap\\creator.py:141: RuntimeWarning: A class named 'Individual' has already been created and it will be overwritten. Consider deleting previous creation of that class or rename it.\n",
      "  RuntimeWarning)\n",
      "                                                                                                                       \r"
     ]
    },
    {
     "name": "stdout",
     "output_type": "stream",
     "text": [
      "Generation 1 - Current best internal CV score: 0.7218305242872587\n"
     ]
    },
    {
     "name": "stderr",
     "output_type": "stream",
     "text": [
      "                                                                                                                       \r"
     ]
    },
    {
     "name": "stdout",
     "output_type": "stream",
     "text": [
      "Generation 2 - Current best internal CV score: 0.7300345458158001\n"
     ]
    },
    {
     "name": "stderr",
     "output_type": "stream",
     "text": [
      "                                                                                                                       \r"
     ]
    },
    {
     "name": "stdout",
     "output_type": "stream",
     "text": [
      "Generation 3 - Current best internal CV score: 0.7300345458158001\n"
     ]
    },
    {
     "name": "stderr",
     "output_type": "stream",
     "text": [
      "                                                                                                                       \r"
     ]
    },
    {
     "name": "stdout",
     "output_type": "stream",
     "text": [
      "Generation 4 - Current best internal CV score: 0.7423646122500995\n"
     ]
    },
    {
     "name": "stderr",
     "output_type": "stream",
     "text": [
      "                                                                                                                       \r"
     ]
    },
    {
     "name": "stdout",
     "output_type": "stream",
     "text": [
      "Generation 5 - Current best internal CV score: 0.7500588276598688\n"
     ]
    },
    {
     "name": "stderr",
     "output_type": "stream",
     "text": [
      "                                                                                                                       \r"
     ]
    },
    {
     "name": "stdout",
     "output_type": "stream",
     "text": [
      "Generation 6 - Current best internal CV score: 0.7500588276598688\n"
     ]
    },
    {
     "name": "stderr",
     "output_type": "stream",
     "text": [
      "                                                                                                                       \r"
     ]
    },
    {
     "name": "stdout",
     "output_type": "stream",
     "text": [
      "Generation 7 - Current best internal CV score: 0.7516465335421076\n"
     ]
    },
    {
     "name": "stderr",
     "output_type": "stream",
     "text": [
      "                                                                                                                       \r"
     ]
    },
    {
     "name": "stdout",
     "output_type": "stream",
     "text": [
      "Generation 8 - Current best internal CV score: 0.759535838891402\n"
     ]
    },
    {
     "name": "stderr",
     "output_type": "stream",
     "text": [
      "                                                                                                                       \r"
     ]
    },
    {
     "name": "stdout",
     "output_type": "stream",
     "text": [
      "Generation 9 - Current best internal CV score: 0.759535838891402\n"
     ]
    },
    {
     "name": "stderr",
     "output_type": "stream",
     "text": [
      "                                                                                                                       \r"
     ]
    },
    {
     "name": "stdout",
     "output_type": "stream",
     "text": [
      "\n"
     ]
    },
    {
     "name": "stderr",
     "output_type": "stream",
     "text": [
      "                                                                                                                       \r"
     ]
    },
    {
     "name": "stdout",
     "output_type": "stream",
     "text": [
      "\n",
      "TPOT closed prematurely. Will use the current best pipeline.\n"
     ]
    },
    {
     "name": "stderr",
     "output_type": "stream",
     "text": [
      "                                                                                                                       \r"
     ]
    },
    {
     "name": "stdout",
     "output_type": "stream",
     "text": [
      "\n",
      "Best pipeline: RandomForestClassifier(XGBClassifier(GaussianNB(input_matrix), learning_rate=0.1, max_depth=6, min_child_weight=2, n_estimators=100, nthread=1, subsample=0.75), bootstrap=True, criterion=gini, max_features=0.2, min_samples_leaf=5, min_samples_split=11, n_estimators=100)\n",
      "0.767123287671\n"
     ]
    },
    {
     "data": {
      "text/plain": [
       "True"
      ]
     },
     "execution_count": 347,
     "metadata": {},
     "output_type": "execute_result"
    }
   ],
   "source": [
    "from tpot import TPOTClassifier\n",
    "from sklearn.model_selection import train_test_split\n",
    "X_train, X_test, y_train, y_test = preprocess()\n",
    "\n",
    "tpot = TPOTClassifier(generations=5, population_size=20, \n",
    "                      verbosity=2,max_eval_time_mins=20,\n",
    "                      max_time_mins=100,scoring='f1_micro',\n",
    "                      random_state = 17)\n",
    "tpot.fit(X_train, y_train)\n",
    "print(tpot.score(X_test, y_test))\n",
    "tpot.export('FinalPipeline.py') "
   ]
  },
  {
   "cell_type": "code",
   "execution_count": 348,
   "metadata": {},
   "outputs": [],
   "source": [
    "from sklearn.ensemble import  RandomForestClassifier, VotingClassifier\n",
    "from sklearn.model_selection import train_test_split\n",
    "from sklearn.naive_bayes import BernoulliNB\n",
    "from sklearn.pipeline import make_pipeline, make_union\n",
    "from sklearn.preprocessing import FunctionTransformer\n",
    "import xgboost as xgb\n",
    "from xgboost.sklearn import  XGBClassifier"
   ]
  },
  {
   "cell_type": "code",
   "execution_count": 349,
   "metadata": {
    "collapsed": true
   },
   "outputs": [],
   "source": [
    "# Train and test a classifier\n",
    "def train_and_test(X_tr, y_tr, X_v, well_v):\n",
    "    \n",
    "    # Feature normalization\n",
    "    scaler = preprocessing.RobustScaler(quantile_range=(25.0, 75.0)).fit(X_tr)\n",
    "    X_tr = scaler.transform(X_tr)\n",
    "    X_v = scaler.transform(X_v)\n",
    "    \n",
    "    # Train classifier\n",
    "    #clf = make_pipeline(make_union(VotingClassifier([(\"est\", ExtraTreesClassifier(criterion=\"gini\", max_features=1.0, n_estimators=500))]), FunctionTransformer(lambda X: X)), XGBClassifier(learning_rate=0.73, max_depth=10, min_child_weight=10, n_estimators=500, subsample=0.27))\n",
    "    #clf =  make_pipeline( KNeighborsClassifier(n_neighbors=5, weights=\"distance\") ) \n",
    "    #clf = make_pipeline(MaxAbsScaler(),make_union(VotingClassifier([(\"est\", RandomForestClassifier(n_estimators=500))]), FunctionTransformer(lambda X: X)),ExtraTreesClassifier(criterion=\"entropy\", max_features=0.0001, n_estimators=500))\n",
    "    # * clf = make_pipeline( make_union(VotingClassifier([(\"est\", BernoulliNB(alpha=60.0, binarize=0.26, fit_prior=True))]), FunctionTransformer(lambda X: X)),RandomForestClassifier(n_estimators=500))\n",
    "    clf = make_pipeline ( XGBClassifier(learning_rate=0.12, max_depth=3, min_child_weight=10, n_estimators=150, seed = 17, colsample_bytree = 0.9) )\n",
    "    clf.fit(X_tr, y_tr)\n",
    "    \n",
    "    # Test classifier\n",
    "    y_v_hat = clf.predict(X_v)\n",
    "    \n",
    "    # Clean isolated facies for each well\n",
    "    for w in np.unique(well_v):\n",
    "        y_v_hat[well_v==w] = medfilt(y_v_hat[well_v==w], kernel_size=5)\n",
    "    \n",
    "    return y_v_hat"
   ]
  },
  {
   "cell_type": "code",
   "execution_count": 350,
   "metadata": {
    "collapsed": true
   },
   "outputs": [],
   "source": [
    "#Load testing data\n",
    "test_data = pd.read_csv(\"../bayseg/data/2016-ml-contest-Hall/test_data_new.csv\")\n",
    "\n",
    "# Prepare training data\n",
    "X_tr = X\n",
    "y_tr = y\n",
    "\n",
    "# Augment features\n",
    "X_tr, padded_rows = augment_features(X_tr, well, depth)\n",
    "\n",
    "# Removed padded rows\n",
    "X_tr = np.delete(X_tr, padded_rows, axis=0)\n",
    "y_tr = np.delete(y_tr, padded_rows, axis=0) \n",
    "\n",
    "# Prepare test data\n",
    "well_ts = test_data['Well Name'].values\n",
    "depth_ts = test_data['Depth'].values\n",
    "X_ts = test_data[feature_names].values\n",
    "\n",
    "# Augment features\n",
    "X_ts, padded_rows = augment_features(X_ts, well_ts, depth_ts)\n",
    "\n",
    "# Predict test labels\n",
    "y_ts_hat = train_and_test(X_tr, y_tr, X_ts, well_ts)\n",
    "\n",
    "# Save predicted labels\n",
    "test_data['Facies'] = y_ts_hat\n",
    "test_data.to_csv('Prediction_XX_Final.csv')"
   ]
  },
  {
   "cell_type": "code",
   "execution_count": 351,
   "metadata": {
    "collapsed": true
   },
   "outputs": [],
   "source": [
    "# predict_data = pd.read_csv(\"Prediction_XX_Final.csv\")\n",
    "# result = data[data[\"Well Name\"] == \"SHRIMPLIN\"][\"Facies\"]\n",
    "# print(predict_data[\"Facies\"].values)   "
   ]
  },
  {
   "cell_type": "code",
   "execution_count": 322,
   "metadata": {
    "collapsed": true
   },
   "outputs": [],
   "source": [
    "# sol = np.repeat(np.expand_dims(predict_data[\"Facies\"].values, 1), 100, 1)\n",
    "# ml_sol = np.repeat(np.expand_dims(result, 1), 100, 1)\n",
    "\n",
    "# fig, ax = plt.subplots(ncols=2, sharey=True, figsize=(2,13))\n",
    "\n",
    "# ax[0].imshow(sol, cmap=\"viridis\")\n",
    "# ax[1].imshow(ml_sol, cmap=\"viridis\")\n",
    "\n",
    "# np.count_nonzero(sol[:,1]-ml_sol[:,1])\n",
    "\n",
    "# ax[0].grid(False)\n",
    "# ax[1].grid(False)"
   ]
  },
  {
   "cell_type": "code",
   "execution_count": 232,
   "metadata": {
    "collapsed": true
   },
   "outputs": [],
   "source": [
    "import numpy as np\n",
    "import pandas as pd\n",
    "import importlib\n",
    "import matplotlib.pyplot as plt\n",
    "%matplotlib inline\n",
    "import scipy.stats\n",
    "\n",
    "import sys\n",
    "sys.path.append(\"../bayseg\")\n",
    "import bayseg"
   ]
  },
  {
   "cell_type": "code",
   "execution_count": 233,
   "metadata": {},
   "outputs": [
    {
     "name": "stdout",
     "output_type": "stream",
     "text": [
      "C:\\Users\\CGRE-HiWi\\Documents\\bayseg\n"
     ]
    }
   ],
   "source": [
    "import os\n",
    "cwd = os.getcwd()\n",
    "print(cwd)"
   ]
  },
  {
   "cell_type": "code",
   "execution_count": 355,
   "metadata": {
    "collapsed": true
   },
   "outputs": [],
   "source": [
    "data = pd.read_csv(\"../bayseg/data/2016-ml-contest-Hall/Nomalised_data.csv\")"
   ]
  },
  {
   "cell_type": "code",
   "execution_count": 129,
   "metadata": {
    "collapsed": true
   },
   "outputs": [],
   "source": [
    "def normalize_feature_vectors(feature_vectors):\n",
    "    return (feature_vectors - np.mean(feature_vectors, axis=0).T) / np.std(feature_vectors, axis=0)"
   ]
  },
  {
   "cell_type": "code",
   "execution_count": 130,
   "metadata": {
    "collapsed": true
   },
   "outputs": [],
   "source": [
    "feature_names =  ['GR', 'ILD_log10', 'DeltaPHI', 'PHIND','PE']\n",
    "feature_vectors = data[feature_names]"
   ]
  },
  {
   "cell_type": "code",
   "execution_count": 131,
   "metadata": {
    "collapsed": true
   },
   "outputs": [],
   "source": [
    "coords = np.array([data[\"Depth\"].values]).T"
   ]
  },
  {
   "cell_type": "code",
   "execution_count": 132,
   "metadata": {
    "collapsed": true
   },
   "outputs": [],
   "source": [
    "feature_vectors_norm = normalize_feature_vectors(feature_vectors.values)"
   ]
  },
  {
   "cell_type": "code",
   "execution_count": 133,
   "metadata": {},
   "outputs": [
    {
     "data": {
      "image/png": "[encoded data removed]",
      "text/plain": [
       "<matplotlib.figure.Figure at 0x20fb057c6d8>"
      ]
     },
     "metadata": {},
     "output_type": "display_data"
    },
    {
     "name": "stdout",
     "output_type": "stream",
     "text": [
      "global minimum:  8\n"
     ]
    }
   ],
   "source": [
    "bayseg.bic(feature_vectors_norm, 9)"
   ]
  },
  {
   "cell_type": "code",
   "execution_count": 134,
   "metadata": {
    "collapsed": true
   },
   "outputs": [],
   "source": [
    "clf = bayseg.BaySeg(feature_vectors_norm, n_labels=25)"
   ]
  },
  {
   "cell_type": "code",
   "execution_count": 135,
   "metadata": {},
   "outputs": [
    {
     "data": {
      "text/plain": [
       "(3231, 23)"
      ]
     },
     "execution_count": 135,
     "metadata": {},
     "output_type": "execute_result"
    }
   ],
   "source": [
    "np.shape(data)"
   ]
  },
  {
   "cell_type": "code",
   "execution_count": 136,
   "metadata": {
    "scrolled": true
   },
   "outputs": [
    {
     "name": "stderr",
     "output_type": "stream",
     "text": [
      "  1%|▋                                                                                 | 2/250 [00:04<08:17,  2.01s/it]C:\\Users\\CGRE-HiWi\\Documents\\bayseg\\bayseg\\bayseg.py:873: RuntimeWarning: overflow encountered in exp\n",
      "  ratio = np.exp(np.longfloat(log_target_prop - log_target_prev))\n",
      "  2%|█▎                                                                                | 4/250 [00:08<08:12,  2.00s/it]\n"
     ]
    },
    {
     "ename": "KeyboardInterrupt",
     "evalue": "",
     "output_type": "error",
     "traceback": [
      "\u001b[1;31m---------------------------------------------------------------------------\u001b[0m",
      "\u001b[1;31mKeyboardInterrupt\u001b[0m                         Traceback (most recent call last)",
      "\u001b[1;32m<ipython-input-136-533ddffd199c>\u001b[0m in \u001b[0;36m<module>\u001b[1;34m()\u001b[0m\n\u001b[0;32m      3\u001b[0m         \u001b[0mmu_jump_length\u001b[0m\u001b[1;33m=\u001b[0m\u001b[1;36m0.0005\u001b[0m\u001b[1;33m,\u001b[0m\u001b[1;33m\u001b[0m\u001b[0m\n\u001b[0;32m      4\u001b[0m         \u001b[0mcov_volume_jump_length\u001b[0m\u001b[1;33m=\u001b[0m\u001b[1;36m0.00005\u001b[0m\u001b[1;33m,\u001b[0m\u001b[1;33m\u001b[0m\u001b[0m\n\u001b[1;32m----> 5\u001b[1;33m         theta_jump_length=0.0000005, verbose=False)\n\u001b[0m",
      "\u001b[1;32m~\\Documents\\bayseg\\bayseg\\bayseg.py\u001b[0m in \u001b[0;36mfit\u001b[1;34m(self, n, beta_jump_length, mu_jump_length, cov_volume_jump_length, theta_jump_length, t, verbose, fix_beta)\u001b[0m\n\u001b[0;32m    189\u001b[0m         \u001b[1;32mfor\u001b[0m \u001b[0mg\u001b[0m \u001b[1;32min\u001b[0m \u001b[0mtqdm\u001b[0m\u001b[1;33m.\u001b[0m\u001b[0mtrange\u001b[0m\u001b[1;33m(\u001b[0m\u001b[0mn\u001b[0m\u001b[1;33m)\u001b[0m\u001b[1;33m:\u001b[0m\u001b[1;33m\u001b[0m\u001b[0m\n\u001b[0;32m    190\u001b[0m             self.gibbs_sample(t, beta_jump_length, mu_jump_length, cov_volume_jump_length, theta_jump_length,\n\u001b[1;32m--> 191\u001b[1;33m                               verbose, fix_beta)\n\u001b[0m\u001b[0;32m    192\u001b[0m \u001b[1;33m\u001b[0m\u001b[0m\n\u001b[0;32m    193\u001b[0m     def gibbs_sample(self, t, beta_jump_length, mu_jump_length, cov_volume_jump_length, theta_jump_length, verbose,\n",
      "\u001b[1;32m~\\Documents\\bayseg\\bayseg\\bayseg.py\u001b[0m in \u001b[0;36mgibbs_sample\u001b[1;34m(self, t, beta_jump_length, mu_jump_length, cov_volume_jump_length, theta_jump_length, verbose, fix_beta)\u001b[0m\n\u001b[0;32m    316\u001b[0m             \u001b[1;31m# print(\"lp_cov_prop:\", lp_cov_prop)\u001b[0m\u001b[1;33m\u001b[0m\u001b[1;33m\u001b[0m\u001b[0m\n\u001b[0;32m    317\u001b[0m \u001b[1;33m\u001b[0m\u001b[0m\n\u001b[1;32m--> 318\u001b[1;33m             \u001b[0mlmd_prev\u001b[0m \u001b[1;33m=\u001b[0m \u001b[0mself\u001b[0m\u001b[1;33m.\u001b[0m\u001b[0mcalc_sum_log_mixture_density\u001b[0m\u001b[1;33m(\u001b[0m\u001b[0mcomp_coef\u001b[0m\u001b[1;33m,\u001b[0m \u001b[0mmu_next\u001b[0m\u001b[1;33m,\u001b[0m \u001b[0mcov_next\u001b[0m\u001b[1;33m)\u001b[0m\u001b[1;33m\u001b[0m\u001b[0m\n\u001b[0m\u001b[0;32m    319\u001b[0m             \u001b[1;31m# print(\"lmd_prev:\", lmd_prev)\u001b[0m\u001b[1;33m\u001b[0m\u001b[1;33m\u001b[0m\u001b[0m\n\u001b[0;32m    320\u001b[0m             \u001b[1;31m# calculate log mixture density for proposed mu and cov\u001b[0m\u001b[1;33m\u001b[0m\u001b[1;33m\u001b[0m\u001b[0m\n",
      "\u001b[1;32m~\\Documents\\bayseg\\bayseg\\bayseg.py\u001b[0m in \u001b[0;36mcalc_sum_log_mixture_density\u001b[1;34m(self, comp_coef, mu, cov)\u001b[0m\n\u001b[0;32m    461\u001b[0m \u001b[1;33m\u001b[0m\u001b[0m\n\u001b[0;32m    462\u001b[0m         \u001b[1;32mfor\u001b[0m \u001b[0ml\u001b[0m \u001b[1;32min\u001b[0m \u001b[0mrange\u001b[0m\u001b[1;33m(\u001b[0m\u001b[0mself\u001b[0m\u001b[1;33m.\u001b[0m\u001b[0mn_labels\u001b[0m\u001b[1;33m)\u001b[0m\u001b[1;33m:\u001b[0m\u001b[1;33m\u001b[0m\u001b[0m\n\u001b[1;32m--> 463\u001b[1;33m             \u001b[0mdraw\u001b[0m \u001b[1;33m=\u001b[0m \u001b[0mmultivariate_normal\u001b[0m\u001b[1;33m(\u001b[0m\u001b[0mmean\u001b[0m\u001b[1;33m=\u001b[0m\u001b[0mmu\u001b[0m\u001b[1;33m[\u001b[0m\u001b[0ml\u001b[0m\u001b[1;33m,\u001b[0m \u001b[1;33m:\u001b[0m\u001b[1;33m]\u001b[0m\u001b[1;33m,\u001b[0m \u001b[0mcov\u001b[0m\u001b[1;33m=\u001b[0m\u001b[0mcov\u001b[0m\u001b[1;33m[\u001b[0m\u001b[0ml\u001b[0m\u001b[1;33m,\u001b[0m \u001b[1;33m:\u001b[0m\u001b[1;33m,\u001b[0m \u001b[1;33m:\u001b[0m\u001b[1;33m]\u001b[0m\u001b[1;33m)\u001b[0m\u001b[1;33m.\u001b[0m\u001b[0mpdf\u001b[0m\u001b[1;33m(\u001b[0m\u001b[0mself\u001b[0m\u001b[1;33m.\u001b[0m\u001b[0mfeat\u001b[0m\u001b[1;33m)\u001b[0m\u001b[1;33m\u001b[0m\u001b[0m\n\u001b[0m\u001b[0;32m    464\u001b[0m             \u001b[1;31m# print(np.shape(lmd[:,l]))\u001b[0m\u001b[1;33m\u001b[0m\u001b[1;33m\u001b[0m\u001b[0m\n\u001b[0;32m    465\u001b[0m             \u001b[0mmulti\u001b[0m \u001b[1;33m=\u001b[0m \u001b[0mcomp_coef\u001b[0m\u001b[1;33m[\u001b[0m\u001b[1;33m:\u001b[0m\u001b[1;33m,\u001b[0m \u001b[0ml\u001b[0m\u001b[1;33m]\u001b[0m \u001b[1;33m*\u001b[0m \u001b[0mnp\u001b[0m\u001b[1;33m.\u001b[0m\u001b[0marray\u001b[0m\u001b[1;33m(\u001b[0m\u001b[1;33m[\u001b[0m\u001b[0mdraw\u001b[0m\u001b[1;33m]\u001b[0m\u001b[1;33m)\u001b[0m\u001b[1;33m\u001b[0m\u001b[0m\n",
      "\u001b[1;32m~\\AppData\\Local\\Continuum\\anaconda3\\lib\\site-packages\\scipy\\stats\\_multivariate.py\u001b[0m in \u001b[0;36mpdf\u001b[1;34m(self, x)\u001b[0m\n\u001b[0;32m    608\u001b[0m \u001b[1;33m\u001b[0m\u001b[0m\n\u001b[0;32m    609\u001b[0m     \u001b[1;32mdef\u001b[0m \u001b[0mpdf\u001b[0m\u001b[1;33m(\u001b[0m\u001b[0mself\u001b[0m\u001b[1;33m,\u001b[0m \u001b[0mx\u001b[0m\u001b[1;33m)\u001b[0m\u001b[1;33m:\u001b[0m\u001b[1;33m\u001b[0m\u001b[0m\n\u001b[1;32m--> 610\u001b[1;33m         \u001b[1;32mreturn\u001b[0m \u001b[0mnp\u001b[0m\u001b[1;33m.\u001b[0m\u001b[0mexp\u001b[0m\u001b[1;33m(\u001b[0m\u001b[0mself\u001b[0m\u001b[1;33m.\u001b[0m\u001b[0mlogpdf\u001b[0m\u001b[1;33m(\u001b[0m\u001b[0mx\u001b[0m\u001b[1;33m)\u001b[0m\u001b[1;33m)\u001b[0m\u001b[1;33m\u001b[0m\u001b[0m\n\u001b[0m\u001b[0;32m    611\u001b[0m \u001b[1;33m\u001b[0m\u001b[0m\n\u001b[0;32m    612\u001b[0m     \u001b[1;32mdef\u001b[0m \u001b[0mrvs\u001b[0m\u001b[1;33m(\u001b[0m\u001b[0mself\u001b[0m\u001b[1;33m,\u001b[0m \u001b[0msize\u001b[0m\u001b[1;33m=\u001b[0m\u001b[1;36m1\u001b[0m\u001b[1;33m,\u001b[0m \u001b[0mrandom_state\u001b[0m\u001b[1;33m=\u001b[0m\u001b[1;32mNone\u001b[0m\u001b[1;33m)\u001b[0m\u001b[1;33m:\u001b[0m\u001b[1;33m\u001b[0m\u001b[0m\n",
      "\u001b[1;31mKeyboardInterrupt\u001b[0m: "
     ]
    }
   ],
   "source": [
    "clf.fit(250, \n",
    "        beta_jump_length=2,  \n",
    "        mu_jump_length=0.0005, \n",
    "        cov_volume_jump_length=0.00005, \n",
    "        theta_jump_length=0.0000005, verbose=False)"
   ]
  },
  {
   "cell_type": "code",
   "execution_count": 352,
   "metadata": {
    "collapsed": true
   },
   "outputs": [],
   "source": [
    "predict_facie = pd.read_csv(\"Prediction_XX_Final.csv\")[\"Facies\"]"
   ]
  },
  {
   "cell_type": "code",
   "execution_count": 353,
   "metadata": {},
   "outputs": [
    {
     "data": {
      "text/plain": [
       "(415,)"
      ]
     },
     "execution_count": 353,
     "metadata": {},
     "output_type": "execute_result"
    }
   ],
   "source": [
    "predict_facie.shape"
   ]
  },
  {
   "cell_type": "code",
   "execution_count": 356,
   "metadata": {},
   "outputs": [
    {
     "data": {
      "text/plain": [
       "(415,)"
      ]
     },
     "execution_count": 356,
     "metadata": {},
     "output_type": "execute_result"
    }
   ],
   "source": [
    "indeces = np.where(data[\"Well Name\"] == \"NOLAN\")[0]\n",
    "test_data = data[data[\"Well Name\"] == \"NOLAN\"]\n",
    "\n",
    "seg = clf.labels[-1][indeces]\n",
    "seg.shape"
   ]
  },
  {
   "cell_type": "code",
   "execution_count": 357,
   "metadata": {},
   "outputs": [
    {
     "data": {
      "text/plain": [
       "array([   0.,    0.,    0.,    1.,    1.,    1.,    2.,    3.,    4.,\n",
       "          5.,    6.,    7.,    8.,    8.,    8.,    9.,    9.,    9.,\n",
       "         10.,   10.,   10.,   10.,   11.,   11.,   12.,   13.,   13.,\n",
       "         13.,   14.,   14.,   14.,   14.,   14.,   14.,   14.,   15.,\n",
       "         16.,   16.,   17.,   18.,   19.,   19.,   19.,   20.,   20.,\n",
       "         20.,   20.,   21.,   22.,   23.,   23.,   24.,   25.,   25.,\n",
       "         25.,   25.,   26.,   27.,   28.,   29.,   29.,   30.,   30.,\n",
       "         30.,   30.,   30.,   30.,   31.,   31.,   32.,   33.,   33.,\n",
       "         34.,   34.,   35.,   35.,   36.,   37.,   38.,   38.,   38.,\n",
       "         38.,   38.,   39.,   39.,   39.,   39.,   40.,   40.,   41.,\n",
       "         42.,   43.,   44.,   45.,   45.,   45.,   45.,   46.,   47.,\n",
       "         48.,   48.,   49.,   49.,   49.,   50.,   51.,   51.,   52.,\n",
       "         52.,   52.,   52.,   53.,   54.,   54.,   54.,   55.,   55.,\n",
       "         56.,   57.,   57.,   57.,   58.,   58.,   58.,   58.,   58.,\n",
       "         58.,   58.,   58.,   58.,   58.,   59.,   59.,   60.,   60.,\n",
       "         60.,   60.,   61.,   62.,   63.,   64.,   64.,   64.,   64.,\n",
       "         64.,   65.,   65.,   65.,   65.,   66.,   66.,   67.,   67.,\n",
       "         68.,   69.,   69.,   70.,   70.,   70.,   70.,   70.,   71.,\n",
       "         71.,   72.,   72.,   72.,   72.,   72.,   73.,   74.,   74.,\n",
       "         75.,   75.,   76.,   76.,   77.,   77.,   78.,   78.,   79.,\n",
       "         79.,   79.,   79.,   79.,   79.,   79.,   79.,   80.,   80.,\n",
       "         80.,   80.,   80.,   80.,   81.,   82.,   83.,   83.,   84.,\n",
       "         85.,   86.,   86.,   86.,   86.,   87.,   87.,   87.,   87.,\n",
       "         87.,   87.,   88.,   88.,   89.,   89.,   89.,   90.,   90.,\n",
       "         91.,   92.,   92.,   93.,   93.,   94.,   95.,   95.,   96.,\n",
       "         97.,   98.,   98.,   99.,   99.,   99.,   99.,  100.,  100.,\n",
       "        100.,  101.,  101.,  101.,  102.,  102.,  102.,  102.,  102.,\n",
       "        102.,  103.,  104.,  105.,  106.,  106.,  106.,  106.,  106.,\n",
       "        106.,  106.,  106.,  106.,  106.,  107.,  107.,  108.,  109.,\n",
       "        110.,  111.,  111.,  112.,  113.,  113.,  114.,  115.,  115.,\n",
       "        115.,  115.,  116.,  117.,  118.,  119.,  120.,  121.,  121.,\n",
       "        122.,  123.,  123.,  123.,  123.,  123.,  123.,  123.,  123.,\n",
       "        123.,  123.,  123.,  123.,  123.,  123.,  123.,  123.,  123.,\n",
       "        123.,  123.,  123.,  123.,  123.,  123.,  123.,  124.,  124.,\n",
       "        124.,  124.,  125.,  126.,  127.,  127.,  128.,  129.,  130.,\n",
       "        130.,  131.,  132.,  133.,  133.,  133.,  133.,  134.,  134.,\n",
       "        134.,  134.,  134.,  135.,  135.,  135.,  135.,  136.,  136.,\n",
       "        137.,  138.,  139.,  139.,  139.,  140.,  140.,  141.,  141.,\n",
       "        141.,  141.,  141.,  141.,  141.,  141.,  142.,  142.,  143.,\n",
       "        144.,  145.,  145.,  145.,  145.,  145.,  145.,  145.,  145.,\n",
       "        145.,  146.,  146.,  146.,  146.,  146.,  146.,  147.,  148.,\n",
       "        148.,  148.,  149.,  150.,  151.,  151.,  151.,  151.,  151.,\n",
       "        151.,  152.,  152.,  152.,  152.,  152.,  152.,  153.,  153.,\n",
       "        153.,  153.,  154.,  155.,  155.,  156.,  157.,  157.,  157.,\n",
       "        157.,  157.,  158.,  159.,  159.,  159.,  160.,  160.,  160.,\n",
       "        160.,  160.,  161.,  161.,  162.,  163.,  164.,  164.,  164.,  164.])"
      ]
     },
     "execution_count": 357,
     "metadata": {},
     "output_type": "execute_result"
    }
   ],
   "source": [
    "new_seg = np.zeros(shape = (len(seg),))\n",
    "for i in range(0, len(seg)):\n",
    "    if i == 0:\n",
    "        new_seg[i] = 0\n",
    "    elif seg[i] == seg[i-1]:\n",
    "        new_seg[i] = new_seg[i-1]+0\n",
    "    elif seg[i] != seg[i-1]:\n",
    "        new_seg[i] = new_seg[i-1]+1 \n",
    "new_seg"
   ]
  },
  {
   "cell_type": "code",
   "execution_count": 358,
   "metadata": {},
   "outputs": [],
   "source": [
    "compare = np.vstack((predict_facie, new_seg))"
   ]
  },
  {
   "cell_type": "code",
   "execution_count": 359,
   "metadata": {},
   "outputs": [
    {
     "data": {
      "text/plain": [
       "array([[   3.,    3.,    3.,    3.,    3.,    3.,    3.,    3.,    3.,\n",
       "           3.,    3.,    3.,    3.,    3.,    3.,    2.,    2.,    2.,\n",
       "           2.,    2.,    1.,    1.,    1.,    1.,    1.,    2.,    2.,\n",
       "           2.,    2.,    2.,    2.,    2.,    1.,    1.,    1.,    1.,\n",
       "           1.,    1.,    3.,    3.,    3.,    3.,    3.,    3.,    5.,\n",
       "           5.,    5.,    8.,    8.,    8.,    8.,    6.,    6.,    6.,\n",
       "           5.,    5.,    5.,    5.,    5.,    5.,    5.,    6.,    6.,\n",
       "           7.,    7.,    7.,    7.,    9.,    9.,    9.,    8.,    6.,\n",
       "           6.,    6.,    6.,    6.,    6.,    6.,    6.,    6.,    6.,\n",
       "           7.,    8.,    8.,    8.,    8.,    7.,    7.,    7.,    8.,\n",
       "           8.,    8.,    8.,    7.,    6.,    6.,    6.,    6.,    6.,\n",
       "           6.,    6.,    6.,    6.,    4.,    3.,    3.,    3.,    3.,\n",
       "           3.,    3.,    3.,    3.,    3.,    3.,    3.,    3.,    3.,\n",
       "           3.,    3.,    2.,    2.,    2.,    2.,    2.,    2.,    2.,\n",
       "           1.,    1.,    1.,    2.,    1.,    1.,    3.,    3.,    3.,\n",
       "           3.,    3.,    8.,    8.,    8.,    8.,    8.,    8.,    8.,\n",
       "           8.,    8.,    8.,    8.,    8.,    4.,    4.,    4.,    4.,\n",
       "           6.,    6.,    6.,    6.,    4.,    3.,    3.,    2.,    2.,\n",
       "           2.,    2.,    2.,    3.,    3.,    3.,    3.,    3.,    3.,\n",
       "           3.,    2.,    2.,    2.,    2.,    2.,    3.,    3.,    3.,\n",
       "           8.,    8.,    8.,    8.,    8.,    8.,    8.,    8.,    8.,\n",
       "           8.,    8.,    8.,    8.,    8.,    8.,    8.,    8.,    6.,\n",
       "           6.,    6.,    6.,    6.,    6.,    6.,    3.,    3.,    2.,\n",
       "           2.,    2.,    2.,    2.,    2.,    2.,    2.,    2.,    2.,\n",
       "           2.,    2.,    2.,    3.,    2.,    2.,    2.,    2.,    2.,\n",
       "           2.,    2.,    2.,    2.,    3.,    5.,    8.,    8.,    8.,\n",
       "           8.,    8.,    8.,    8.,    8.,    8.,    8.,    8.,    2.,\n",
       "           2.,    2.,    2.,    2.,    2.,    2.,    2.,    2.,    2.,\n",
       "           2.,    2.,    2.,    2.,    2.,    2.,    2.,    2.,    2.,\n",
       "           3.,    3.,    3.,    3.,    3.,    8.,    8.,    8.,    8.,\n",
       "           8.,    6.,    5.,    5.,    5.,    4.,    3.,    3.,    3.,\n",
       "           3.,    3.,    3.,    3.,    3.,    8.,    8.,    8.,    8.,\n",
       "           8.,    8.,    8.,    8.,    8.,    8.,    8.,    8.,    8.,\n",
       "           8.,    8.,    8.,    8.,    8.,    7.,    8.,    7.,    7.,\n",
       "           7.,    7.,    5.,    5.,    5.,    6.,    6.,    7.,    7.,\n",
       "           7.,    7.,    7.,    6.,    6.,    3.,    3.,    3.,    3.,\n",
       "           3.,    3.,    3.,    3.,    3.,    3.,    3.,    3.,    3.,\n",
       "           3.,    3.,    3.,    3.,    3.,    3.,    3.,    3.,    2.,\n",
       "           2.,    2.,    2.,    2.,    2.,    2.,    2.,    2.,    2.,\n",
       "           2.,    2.,    2.,    2.,    3.,    3.,    3.,    8.,    8.,\n",
       "           8.,    8.,    8.,    8.,    8.,    5.,    5.,    5.,    5.,\n",
       "           5.,    5.,    5.,    6.,    6.,    6.,    6.,    5.,    5.,\n",
       "           5.,    5.,    5.,    5.,    5.,    5.,    5.,    5.,    5.,\n",
       "           5.,    5.,    5.,    5.,    5.,    5.,    6.,    6.,    6.,\n",
       "           6.,    8.,    8.,    8.,    8.,    8.,    5.,    5.,    5.,\n",
       "           5.,    5.,    5.,    5.,    5.,    5.,    5.,    5.,    5.,\n",
       "           5.],\n",
       "       [   0.,    0.,    0.,    1.,    1.,    1.,    2.,    3.,    4.,\n",
       "           5.,    6.,    7.,    8.,    8.,    8.,    9.,    9.,    9.,\n",
       "          10.,   10.,   10.,   10.,   11.,   11.,   12.,   13.,   13.,\n",
       "          13.,   14.,   14.,   14.,   14.,   14.,   14.,   14.,   15.,\n",
       "          16.,   16.,   17.,   18.,   19.,   19.,   19.,   20.,   20.,\n",
       "          20.,   20.,   21.,   22.,   23.,   23.,   24.,   25.,   25.,\n",
       "          25.,   25.,   26.,   27.,   28.,   29.,   29.,   30.,   30.,\n",
       "          30.,   30.,   30.,   30.,   31.,   31.,   32.,   33.,   33.,\n",
       "          34.,   34.,   35.,   35.,   36.,   37.,   38.,   38.,   38.,\n",
       "          38.,   38.,   39.,   39.,   39.,   39.,   40.,   40.,   41.,\n",
       "          42.,   43.,   44.,   45.,   45.,   45.,   45.,   46.,   47.,\n",
       "          48.,   48.,   49.,   49.,   49.,   50.,   51.,   51.,   52.,\n",
       "          52.,   52.,   52.,   53.,   54.,   54.,   54.,   55.,   55.,\n",
       "          56.,   57.,   57.,   57.,   58.,   58.,   58.,   58.,   58.,\n",
       "          58.,   58.,   58.,   58.,   58.,   59.,   59.,   60.,   60.,\n",
       "          60.,   60.,   61.,   62.,   63.,   64.,   64.,   64.,   64.,\n",
       "          64.,   65.,   65.,   65.,   65.,   66.,   66.,   67.,   67.,\n",
       "          68.,   69.,   69.,   70.,   70.,   70.,   70.,   70.,   71.,\n",
       "          71.,   72.,   72.,   72.,   72.,   72.,   73.,   74.,   74.,\n",
       "          75.,   75.,   76.,   76.,   77.,   77.,   78.,   78.,   79.,\n",
       "          79.,   79.,   79.,   79.,   79.,   79.,   79.,   80.,   80.,\n",
       "          80.,   80.,   80.,   80.,   81.,   82.,   83.,   83.,   84.,\n",
       "          85.,   86.,   86.,   86.,   86.,   87.,   87.,   87.,   87.,\n",
       "          87.,   87.,   88.,   88.,   89.,   89.,   89.,   90.,   90.,\n",
       "          91.,   92.,   92.,   93.,   93.,   94.,   95.,   95.,   96.,\n",
       "          97.,   98.,   98.,   99.,   99.,   99.,   99.,  100.,  100.,\n",
       "         100.,  101.,  101.,  101.,  102.,  102.,  102.,  102.,  102.,\n",
       "         102.,  103.,  104.,  105.,  106.,  106.,  106.,  106.,  106.,\n",
       "         106.,  106.,  106.,  106.,  106.,  107.,  107.,  108.,  109.,\n",
       "         110.,  111.,  111.,  112.,  113.,  113.,  114.,  115.,  115.,\n",
       "         115.,  115.,  116.,  117.,  118.,  119.,  120.,  121.,  121.,\n",
       "         122.,  123.,  123.,  123.,  123.,  123.,  123.,  123.,  123.,\n",
       "         123.,  123.,  123.,  123.,  123.,  123.,  123.,  123.,  123.,\n",
       "         123.,  123.,  123.,  123.,  123.,  123.,  123.,  124.,  124.,\n",
       "         124.,  124.,  125.,  126.,  127.,  127.,  128.,  129.,  130.,\n",
       "         130.,  131.,  132.,  133.,  133.,  133.,  133.,  134.,  134.,\n",
       "         134.,  134.,  134.,  135.,  135.,  135.,  135.,  136.,  136.,\n",
       "         137.,  138.,  139.,  139.,  139.,  140.,  140.,  141.,  141.,\n",
       "         141.,  141.,  141.,  141.,  141.,  141.,  142.,  142.,  143.,\n",
       "         144.,  145.,  145.,  145.,  145.,  145.,  145.,  145.,  145.,\n",
       "         145.,  146.,  146.,  146.,  146.,  146.,  146.,  147.,  148.,\n",
       "         148.,  148.,  149.,  150.,  151.,  151.,  151.,  151.,  151.,\n",
       "         151.,  152.,  152.,  152.,  152.,  152.,  152.,  153.,  153.,\n",
       "         153.,  153.,  154.,  155.,  155.,  156.,  157.,  157.,  157.,\n",
       "         157.,  157.,  158.,  159.,  159.,  159.,  160.,  160.,  160.,\n",
       "         160.,  160.,  161.,  161.,  162.,  163.,  164.,  164.,  164.,\n",
       "         164.]])"
      ]
     },
     "execution_count": 359,
     "metadata": {},
     "output_type": "execute_result"
    }
   ],
   "source": [
    "\n",
    "compare"
   ]
  },
  {
   "cell_type": "code",
   "execution_count": 360,
   "metadata": {},
   "outputs": [
    {
     "data": {
      "text/plain": [
       "[array([ 3.,  3.,  3.]),\n",
       " array([ 3.,  3.,  3.]),\n",
       " array([ 3.]),\n",
       " array([ 3.]),\n",
       " array([ 3.]),\n",
       " array([ 3.]),\n",
       " array([ 3.]),\n",
       " array([ 3.]),\n",
       " array([ 3.,  3.,  3.]),\n",
       " array([ 2.,  2.,  2.]),\n",
       " array([ 2.,  2.,  1.,  1.]),\n",
       " array([ 1.,  1.]),\n",
       " array([ 1.]),\n",
       " array([ 2.,  2.,  2.]),\n",
       " array([ 2.,  2.,  2.,  2.,  1.,  1.,  1.]),\n",
       " array([ 1.]),\n",
       " array([ 1.,  1.]),\n",
       " array([ 3.]),\n",
       " array([ 3.]),\n",
       " array([ 3.,  3.,  3.]),\n",
       " array([ 3.,  5.,  5.,  5.]),\n",
       " array([ 8.]),\n",
       " array([ 8.]),\n",
       " array([ 8.,  8.]),\n",
       " array([ 6.]),\n",
       " array([ 6.,  6.,  5.,  5.]),\n",
       " array([ 5.]),\n",
       " array([ 5.]),\n",
       " array([ 5.]),\n",
       " array([ 5.,  5.]),\n",
       " array([ 6.,  6.,  7.,  7.,  7.,  7.]),\n",
       " array([ 9.,  9.]),\n",
       " array([ 9.]),\n",
       " array([ 8.,  6.]),\n",
       " array([ 6.,  6.]),\n",
       " array([ 6.,  6.]),\n",
       " array([ 6.]),\n",
       " array([ 6.]),\n",
       " array([ 6.,  6.,  6.,  7.,  8.]),\n",
       " array([ 8.,  8.,  8.,  7.]),\n",
       " array([ 7.,  7.]),\n",
       " array([ 8.]),\n",
       " array([ 8.]),\n",
       " array([ 8.]),\n",
       " array([ 8.]),\n",
       " array([ 7.,  6.,  6.,  6.]),\n",
       " array([ 6.]),\n",
       " array([ 6.]),\n",
       " array([ 6.,  6.]),\n",
       " array([ 6.,  6.,  4.]),\n",
       " array([ 3.]),\n",
       " array([ 3.,  3.]),\n",
       " array([ 3.,  3.,  3.,  3.]),\n",
       " array([ 3.]),\n",
       " array([ 3.,  3.,  3.]),\n",
       " array([ 3.,  3.]),\n",
       " array([ 3.]),\n",
       " array([ 3.,  2.,  2.]),\n",
       " array([ 2.,  2.,  2.,  2.,  2.,  1.,  1.,  1.,  2.,  1.]),\n",
       " array([ 1.,  3.]),\n",
       " array([ 3.,  3.,  3.,  3.]),\n",
       " array([ 8.]),\n",
       " array([ 8.]),\n",
       " array([ 8.]),\n",
       " array([ 8.,  8.,  8.,  8.,  8.]),\n",
       " array([ 8.,  8.,  8.,  8.]),\n",
       " array([ 4.,  4.]),\n",
       " array([ 4.,  4.]),\n",
       " array([ 6.]),\n",
       " array([ 6.,  6.]),\n",
       " array([ 6.,  4.,  3.,  3.,  2.]),\n",
       " array([ 2.,  2.]),\n",
       " array([ 2.,  2.,  3.,  3.,  3.]),\n",
       " array([ 3.]),\n",
       " array([ 3.,  3.]),\n",
       " array([ 3.,  2.]),\n",
       " array([ 2.,  2.]),\n",
       " array([ 2.,  2.]),\n",
       " array([ 3.,  3.]),\n",
       " array([ 3.,  8.,  8.,  8.,  8.,  8.,  8.,  8.]),\n",
       " array([ 8.,  8.,  8.,  8.,  8.,  8.]),\n",
       " array([ 8.]),\n",
       " array([ 8.]),\n",
       " array([ 8.,  8.]),\n",
       " array([ 6.]),\n",
       " array([ 6.]),\n",
       " array([ 6.,  6.,  6.,  6.]),\n",
       " array([ 6.,  3.,  3.,  2.,  2.,  2.]),\n",
       " array([ 2.,  2.]),\n",
       " array([ 2.,  2.,  2.]),\n",
       " array([ 2.,  2.]),\n",
       " array([ 2.]),\n",
       " array([ 2.,  2.]),\n",
       " array([ 3.,  2.]),\n",
       " array([ 2.]),\n",
       " array([ 2.,  2.]),\n",
       " array([ 2.]),\n",
       " array([ 2.]),\n",
       " array([ 2.,  2.]),\n",
       " array([ 2.,  3.,  5.,  8.]),\n",
       " array([ 8.,  8.,  8.]),\n",
       " array([ 8.,  8.,  8.]),\n",
       " array([ 8.,  8.,  8.,  8.,  2.,  2.]),\n",
       " array([ 2.]),\n",
       " array([ 2.]),\n",
       " array([ 2.]),\n",
       " array([ 2.,  2.,  2.,  2.,  2.,  2.,  2.,  2.,  2.,  2.]),\n",
       " array([ 2.,  2.]),\n",
       " array([ 2.]),\n",
       " array([ 2.]),\n",
       " array([ 3.]),\n",
       " array([ 3.,  3.]),\n",
       " array([ 3.]),\n",
       " array([ 3.,  8.]),\n",
       " array([ 8.]),\n",
       " array([ 8.,  8.,  8.,  6.]),\n",
       " array([ 5.]),\n",
       " array([ 5.]),\n",
       " array([ 5.]),\n",
       " array([ 4.]),\n",
       " array([ 3.]),\n",
       " array([ 3.,  3.]),\n",
       " array([ 3.]),\n",
       " array([ 3.,  3.,  3.,  3.,  8.,  8.,  8.,  8.,  8.,  8.,  8.,  8.,  8.,\n",
       "         8.,  8.,  8.,  8.,  8.,  8.,  8.,  8.,  8.,  7.,  8.]),\n",
       " array([ 7.,  7.,  7.,  7.]),\n",
       " array([ 5.]),\n",
       " array([ 5.]),\n",
       " array([ 5.,  6.]),\n",
       " array([ 6.]),\n",
       " array([ 7.]),\n",
       " array([ 7.,  7.]),\n",
       " array([ 7.]),\n",
       " array([ 7.]),\n",
       " array([ 6.,  6.,  3.,  3.]),\n",
       " array([ 3.,  3.,  3.,  3.,  3.]),\n",
       " array([ 3.,  3.,  3.,  3.]),\n",
       " array([ 3.,  3.]),\n",
       " array([ 3.]),\n",
       " array([ 3.]),\n",
       " array([ 3.,  3.,  3.]),\n",
       " array([ 3.,  3.]),\n",
       " array([ 3.,  2.,  2.,  2.,  2.,  2.,  2.,  2.]),\n",
       " array([ 2.,  2.]),\n",
       " array([ 2.]),\n",
       " array([ 2.]),\n",
       " array([ 2.,  2.,  2.,  3.,  3.,  3.,  8.,  8.,  8.]),\n",
       " array([ 8.,  8.,  8.,  8.,  5.,  5.]),\n",
       " array([ 5.]),\n",
       " array([ 5.,  5.,  5.]),\n",
       " array([ 5.]),\n",
       " array([ 6.]),\n",
       " array([ 6.,  6.,  6.,  5.,  5.,  5.]),\n",
       " array([ 5.,  5.,  5.,  5.,  5.,  5.]),\n",
       " array([ 5.,  5.,  5.,  5.]),\n",
       " array([ 5.]),\n",
       " array([ 5.,  5.]),\n",
       " array([ 5.]),\n",
       " array([ 6.,  6.,  6.,  6.,  8.]),\n",
       " array([ 8.]),\n",
       " array([ 8.,  8.,  8.]),\n",
       " array([ 5.,  5.,  5.,  5.,  5.]),\n",
       " array([ 5.,  5.]),\n",
       " array([ 5.]),\n",
       " array([ 5.]),\n",
       " array([ 5.,  5.,  5.,  5.])]"
      ]
     },
     "execution_count": 360,
     "metadata": {},
     "output_type": "execute_result"
    }
   ],
   "source": [
    "L = np.zeros(shape=(len(np.unique(new_seg)),))\n",
    "segs = np.unique(new_seg)\n",
    "pack  = [np.where(new_seg==segs[i]) for i in range(len(segs))]\n",
    "predict_pack = [compare[0][pack[i]] for i in range(len(segs))]\n",
    "predict_pack"
   ]
  },
  {
   "cell_type": "code",
   "execution_count": 361,
   "metadata": {
    "collapsed": true
   },
   "outputs": [],
   "source": [
    "import math\n",
    "def normpdf(x, mean, sd):\n",
    "    var = sd**2\n",
    "    pi = 3.1415926\n",
    "    denom = (2*pi*var)**.5\n",
    "    num = np.exp((-x-mean)**2/(2*var))\n",
    "    return num/denom"
   ]
  },
  {
   "cell_type": "code",
   "execution_count": 362,
   "metadata": {},
   "outputs": [
    {
     "name": "stdout",
     "output_type": "stream",
     "text": [
      "1.0\n",
      "2.0\n",
      "5.0\n",
      "5.0\n",
      "7.0\n",
      "6.0\n",
      "6.0\n",
      "8.0\n",
      "6.0\n",
      "6.0\n",
      "2.0\n",
      "2.0\n",
      "1.0\n",
      "3.0\n",
      "3.0\n",
      "2.0\n",
      "8.0\n",
      "2.0\n",
      "2.0\n",
      "2.0\n",
      "8.0\n",
      "3.0\n",
      "8.0\n",
      "8.0\n",
      "5.0\n",
      "3.0\n",
      "2.0\n",
      "2.0\n",
      "8.0\n",
      "5.0\n",
      "6.0\n",
      "[ 3.  3.  3.  3.  3.  3.  3.  3.  3.  2.  1.  1.  1.  2.  2.  1.  1.  3.\n",
      "  3.  3.  5.  8.  8.  8.  6.  5.  5.  5.  5.  5.  7.  9.  9.  6.  6.  6.\n",
      "  6.  6.  6.  8.  7.  8.  8.  8.  8.  6.  6.  6.  6.  6.  3.  3.  3.  3.\n",
      "  3.  3.  3.  2.  2.  1.  3.  8.  8.  8.  8.  8.  4.  4.  6.  6.  3.  2.\n",
      "  3.  3.  3.  2.  2.  2.  3.  8.  8.  8.  8.  8.  6.  6.  6.  2.  2.  2.\n",
      "  2.  2.  2.  2.  2.  2.  2.  2.  2.  2.  8.  8.  8.  2.  2.  2.  2.  2.\n",
      "  2.  2.  3.  3.  3.  3.  8.  8.  5.  5.  5.  4.  3.  3.  3.  8.  7.  5.\n",
      "  5.  5.  6.  7.  7.  7.  7.  3.  3.  3.  3.  3.  3.  3.  3.  2.  2.  2.\n",
      "  2.  2.  8.  5.  5.  5.  6.  5.  5.  5.  5.  5.  5.  6.  8.  8.  5.  5.\n",
      "  5.  5.  5.]\n"
     ]
    }
   ],
   "source": [
    "from scipy.stats import norm\n",
    "L = np.zeros(shape = (len(predict_pack),))\n",
    "for i in range(len(predict_pack)):\n",
    "    n = predict_pack[i]\n",
    "    if len(np.unique(n))!= 1:\n",
    "        L[i]=np.argmax(np.bincount(np.int_(n)))\n",
    "        print(L[i])\n",
    "    else:\n",
    "        L[i] = predict_pack[i][0]\n",
    "    \n",
    "print(L)      "
   ]
  },
  {
   "cell_type": "code",
   "execution_count": 363,
   "metadata": {
    "collapsed": true
   },
   "outputs": [],
   "source": [
    "def litho(L, label):\n",
    "    count = 0\n",
    "    new = np.zeros(shape=(len(label),))\n",
    "    for i in range(0, len(label)-1):\n",
    "        if i == 0:\n",
    "            new[i] = L[count]\n",
    "        elif label[i] == label[i-1]:\n",
    "            new[i] = L[count]\n",
    "        elif label[i] != label[i-1]:\n",
    "            count = count+1\n",
    "            new[i] = L[count]            \n",
    "    new[-1] = L[-1] \n",
    "    return new"
   ]
  },
  {
   "cell_type": "code",
   "execution_count": 364,
   "metadata": {},
   "outputs": [
    {
     "name": "stdout",
     "output_type": "stream",
     "text": [
      "[ 3.  3.  3.  3.  3.  3.  3.  3.  3.  3.  3.  3.  3.  3.  3.  2.  2.  2.\n",
      "  1.  1.  1.  1.  1.  1.  1.  2.  2.  2.  2.  2.  2.  2.  2.  2.  2.  1.\n",
      "  1.  1.  3.  3.  3.  3.  3.  5.  5.  5.  5.  8.  8.  8.  8.  6.  5.  5.\n",
      "  5.  5.  5.  5.  5.  5.  5.  7.  7.  7.  7.  7.  7.  9.  9.  9.  6.  6.\n",
      "  6.  6.  6.  6.  6.  6.  6.  6.  6.  6.  6.  8.  8.  8.  8.  7.  7.  8.\n",
      "  8.  8.  8.  6.  6.  6.  6.  6.  6.  6.  6.  6.  6.  6.  3.  3.  3.  3.\n",
      "  3.  3.  3.  3.  3.  3.  3.  3.  3.  3.  2.  2.  2.  2.  2.  2.  2.  2.\n",
      "  2.  2.  2.  2.  2.  1.  1.  3.  3.  3.  3.  8.  8.  8.  8.  8.  8.  8.\n",
      "  8.  8.  8.  8.  8.  4.  4.  4.  4.  6.  6.  6.  3.  3.  3.  3.  3.  2.\n",
      "  2.  3.  3.  3.  3.  3.  3.  3.  3.  2.  2.  2.  2.  2.  2.  3.  3.  8.\n",
      "  8.  8.  8.  8.  8.  8.  8.  8.  8.  8.  8.  8.  8.  8.  8.  8.  8.  6.\n",
      "  6.  6.  6.  6.  6.  2.  2.  2.  2.  2.  2.  2.  2.  2.  2.  2.  2.  2.\n",
      "  2.  2.  2.  2.  2.  2.  2.  2.  2.  2.  2.  2.  2.  2.  2.  2.  8.  8.\n",
      "  8.  8.  8.  8.  8.  8.  8.  8.  8.  8.  2.  2.  2.  2.  2.  2.  2.  2.\n",
      "  2.  2.  2.  2.  2.  2.  2.  2.  2.  3.  3.  3.  3.  3.  3.  8.  8.  8.\n",
      "  8.  8.  5.  5.  5.  4.  3.  3.  3.  3.  8.  8.  8.  8.  8.  8.  8.  8.\n",
      "  8.  8.  8.  8.  8.  8.  8.  8.  8.  8.  8.  8.  8.  8.  8.  8.  7.  7.\n",
      "  7.  7.  5.  5.  5.  5.  6.  7.  7.  7.  7.  7.  3.  3.  3.  3.  3.  3.\n",
      "  3.  3.  3.  3.  3.  3.  3.  3.  3.  3.  3.  3.  3.  3.  3.  3.  2.  2.\n",
      "  2.  2.  2.  2.  2.  2.  2.  2.  2.  2.  2.  2.  2.  2.  2.  2.  2.  2.\n",
      "  2.  8.  8.  8.  8.  8.  8.  5.  5.  5.  5.  5.  6.  5.  5.  5.  5.  5.\n",
      "  5.  5.  5.  5.  5.  5.  5.  5.  5.  5.  5.  5.  5.  5.  5.  6.  6.  6.\n",
      "  6.  6.  8.  8.  8.  8.  5.  5.  5.  5.  5.  5.  5.  5.  5.  5.  5.  5.\n",
      "  5.]\n",
      "[3 3 3 3 3 3 3 3 3 3 3 3 3 3 3 2 2 2 2 2 1 1 1 1 1 2 2 2 2 2 2 2 1 1 1 1 1\n",
      " 1 3 3 3 3 3 3 5 5 5 8 8 8 8 6 6 6 5 5 5 5 5 5 5 6 6 7 7 7 7 9 9 9 8 6 6 6\n",
      " 6 6 6 6 6 6 6 7 8 8 8 8 7 7 7 8 8 8 8 7 6 6 6 6 6 6 6 6 6 4 3 3 3 3 3 3 3\n",
      " 3 3 3 3 3 3 3 3 2 2 2 2 2 2 2 1 1 1 2 1 1 3 3 3 3 3 8 8 8 8 8 8 8 8 8 8 8\n",
      " 8 4 4 4 4 6 6 6 6 4 3 3 2 2 2 2 2 3 3 3 3 3 3 3 2 2 2 2 2 3 3 3 8 8 8 8 8\n",
      " 8 8 8 8 8 8 8 8 8 8 8 8 6 6 6 6 6 6 6 3 3 2 2 2 2 2 2 2 2 2 2 2 2 2 3 2 2\n",
      " 2 2 2 2 2 2 2 3 5 8 8 8 8 8 8 8 8 8 8 8 2 2 2 2 2 2 2 2 2 2 2 2 2 2 2 2 2\n",
      " 2 2 3 3 3 3 3 8 8 8 8 8 6 5 5 5 4 3 3 3 3 3 3 3 3 8 8 8 8 8 8 8 8 8 8 8 8\n",
      " 8 8 8 8 8 8 7 8 7 7 7 7 5 5 5 6 6 7 7 7 7 7 6 6 3 3 3 3 3 3 3 3 3 3 3 3 3\n",
      " 3 3 3 3 3 3 3 3 2 2 2 2 2 2 2 2 2 2 2 2 2 2 3 3 3 8 8 8 8 8 8 8 5 5 5 5 5\n",
      " 5 5 6 6 6 6 5 5 5 5 5 5 5 5 5 5 5 5 5 5 5 5 5 6 6 6 6 8 8 8 8 8 5 5 5 5 5\n",
      " 5 5 5 5 5 5 5 5]\n"
     ]
    }
   ],
   "source": [
    "new = litho(L, new_seg)\n",
    "print(new)\n",
    "print(predict_facie.values)"
   ]
  },
  {
   "cell_type": "code",
   "execution_count": 365,
   "metadata": {
    "collapsed": true
   },
   "outputs": [],
   "source": [
    "predict_facie = pd.read_csv(\"Prediction_XX_Final.csv\")[\"Facies\"]\n",
    "test_data = pd.read_csv(\"../bayseg/data/2016-ml-contest-Hall/test_data_new.csv\")"
   ]
  },
  {
   "cell_type": "code",
   "execution_count": 366,
   "metadata": {},
   "outputs": [
    {
     "data": {
      "image/png": "[encoded data removed]",
      "text/plain": [
       "<matplotlib.figure.Figure at 0x20faec884e0>"
      ]
     },
     "metadata": {},
     "output_type": "display_data"
    }
   ],
   "source": [
    "sol = np.repeat(np.expand_dims(test_data[\"Facies\"].values, 1), 100, 1)\n",
    "ml_sol = np.repeat(np.expand_dims(new, 1), 100, 1)\n",
    "contest = np.repeat(np.expand_dims(predict_facie, 1), 100, 1)\n",
    "\n",
    "fig, ax = plt.subplots(ncols=3, sharey=True, figsize=(2,13))\n",
    "\n",
    "ax[0].imshow(sol, cmap=\"viridis\")\n",
    "ax[1].imshow(ml_sol, cmap=\"viridis\")\n",
    "ax[2].imshow(contest, cmap=\"viridis\")\n",
    "\n",
    "\n",
    "ax[0].grid(False)\n",
    "ax[1].grid(False)\n",
    "ax[2].grid(False)"
   ]
  },
  {
   "cell_type": "code",
   "execution_count": 340,
   "metadata": {},
   "outputs": [
    {
     "data": {
      "text/plain": [
       "array([2, 2, 2, 2, 2, 2, 2, 2, 2, 2, 2, 2, 2, 2, 2, 2, 2, 2, 2, 2, 2, 2, 2,\n",
       "       1, 1, 1, 1, 1, 1, 1, 1, 1, 1, 1, 1, 1, 1, 1, 1, 1, 1, 1, 1, 1, 1, 1,\n",
       "       1, 1, 1, 2, 2, 2, 2, 2, 1, 1, 1, 1, 1, 1, 1, 2, 2, 3, 2, 2, 2, 2, 2,\n",
       "       2, 8, 8, 8, 8, 8, 8, 8, 8, 4, 4, 4, 4, 4, 4, 6, 6, 4, 6, 6, 8, 8, 8,\n",
       "       6, 6, 6, 6, 6, 5, 5, 5, 5, 5, 6, 8, 8, 8, 8, 6, 6, 5, 6, 6, 6, 6, 6,\n",
       "       3, 3, 2, 2, 2, 2, 2, 2, 2, 2, 2, 2, 2, 2, 2, 2, 2, 2, 2, 2, 2, 2, 2,\n",
       "       2, 2, 3, 3, 1, 1, 1, 1, 1, 1, 1, 1, 1, 1, 1, 1, 1, 1, 1, 1, 1, 1, 1,\n",
       "       1, 1, 1, 1, 1, 1, 1, 1, 1, 2, 4, 2, 2, 2, 2, 2, 2, 3, 4, 5, 6, 6, 6,\n",
       "       6, 6, 6, 8, 8, 8, 8, 1, 1, 1, 1, 1, 1, 1, 1, 2, 2, 2, 2, 2, 2, 2, 2,\n",
       "       2, 2, 2, 2, 2, 1, 1, 1, 1, 1, 1, 1, 1, 2, 2, 2, 2, 2, 5, 5, 5, 5, 1,\n",
       "       1, 1, 2, 1, 1, 1, 1, 1, 4, 4, 3, 3, 3, 3, 2, 2, 2, 2, 2, 1, 1, 1, 1,\n",
       "       1, 1, 1, 1, 1, 2, 2, 1, 1, 1, 1, 1, 1, 1, 2, 2, 2, 2, 2, 2, 1, 1, 1,\n",
       "       1, 1, 1, 1, 1, 1, 1, 1, 1, 2, 2, 2, 3, 3, 2, 2, 2, 2, 2, 2, 2, 2, 1,\n",
       "       1, 1, 1, 1, 1, 1, 1, 1, 1, 1, 1, 1, 1, 1, 1, 1, 1, 1, 1, 2, 2, 1, 1,\n",
       "       1, 1, 1, 1, 1, 1, 1, 1, 1, 1, 1, 1, 1, 1, 1, 1, 1, 1, 1, 1, 1, 1, 1,\n",
       "       2, 2, 2, 3, 3, 5, 5, 8, 8, 8, 6, 6, 6, 6, 3, 2, 2, 2, 2, 3, 3, 3, 3,\n",
       "       3, 3, 3, 3, 3, 3, 3, 3, 3, 5, 5, 3, 7, 7, 8, 8, 8, 8, 8, 8, 8, 8, 8,\n",
       "       8, 8, 8, 8, 8, 8, 8, 8, 8, 8, 8, 5, 3, 3, 3, 3, 3, 3, 3, 3, 3, 3, 3,\n",
       "       3, 3, 2, 3, 2, 2, 2, 2, 2, 2, 2, 2, 2, 2, 2, 2, 2, 2, 2, 2, 2, 2, 2,\n",
       "       2, 5, 8, 8, 8, 8, 6, 8, 8, 8, 8, 8, 8, 8, 8, 8, 8, 8, 8, 8, 8, 5, 5,\n",
       "       5, 5, 5, 5, 5, 5, 4, 4, 4, 4, 4, 4, 4, 4, 4, 4, 4, 4, 5, 4, 4, 6, 6,\n",
       "       8, 8, 8, 8, 6, 5, 5, 8, 2, 2, 3, 2, 3, 3, 3, 8, 8, 8], dtype=int64)"
      ]
     },
     "execution_count": 340,
     "metadata": {},
     "output_type": "execute_result"
    }
   ],
   "source": [
    "test_data[\"Facies\"].values"
   ]
  },
  {
   "cell_type": "code",
   "execution_count": 341,
   "metadata": {
    "scrolled": true
   },
   "outputs": [
    {
     "name": "stdout",
     "output_type": "stream",
     "text": [
      "0.3972055888223553\n",
      "0.3772455089820359\n"
     ]
    }
   ],
   "source": [
    "print(np.count_nonzero(sol[:,1]-ml_sol[:,1])/len(test_data))\n",
    "print(np.count_nonzero(sol[:,1]-contest[:,1])/len(test_data))\n"
   ]
  },
  {
   "cell_type": "code",
   "execution_count": null,
   "metadata": {
    "collapsed": true
   },
   "outputs": [],
   "source": [
    " data[data[\"Well Name\"] == \"CHURCHMAN BIBLE\"]\n",
    "    np.where(data[\"Well Name\"] == \"CHURCHMAN BIBLE\")"
   ]
  },
  {
   "cell_type": "code",
   "execution_count": null,
   "metadata": {
    "collapsed": true
   },
   "outputs": [],
   "source": []
  },
  {
   "cell_type": "code",
   "execution_count": null,
   "metadata": {
    "collapsed": true
   },
   "outputs": [],
   "source": []
  },
  {
   "cell_type": "code",
   "execution_count": null,
   "metadata": {
    "collapsed": true
   },
   "outputs": [],
   "source": []
  }
 ],
 "metadata": {
  "kernelspec": {
   "display_name": "Python 3",
   "language": "python",
   "name": "python3"
  },
  "language_info": {
   "codemirror_mode": {
    "name": "ipython",
    "version": 3
   },
   "file_extension": ".py",
   "mimetype": "text/x-python",
   "name": "python",
   "nbconvert_exporter": "python",
   "pygments_lexer": "ipython3",
   "version": "3.6.3"
  }
 },
 "nbformat": 4,
 "nbformat_minor": 2
}
